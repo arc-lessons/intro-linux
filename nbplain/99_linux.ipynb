{
  "cells": [
    {
      "metadata": {},
      "cell_type": "markdown",
      "source": "# Information: Under Development"
    },
    {
      "metadata": {},
      "cell_type": "markdown",
      "source": "### Personal Machine\nIf you choose not to run on [notebooks.azure.com](https://notebooks.azure.com) you will need to download some files to follow this lesson:\n\n1. Download [data-shell.zip](../data/data-shell.zip) and move the file to your Desktop.\n2. Unzip/extract the file (ask your instructor if you need help with this step). You should end up with a new folder called data-shell on your Desktop.\n3. Open a terminal and type `cd`, then press the Enter key. That last step will make sure you start with your home folder as your working directory.\n\nIn the lesson, you will find out how to access the data in this folder."
    },
    {
      "metadata": {},
      "cell_type": "markdown",
      "source": "## Information: Where to type commands: How to open a new shell\n\nThe shell is a program that enables us to send commands to the computer and receive output. It is also referred to as the terminal or command line.\n\nSome computers include a default Unix Shell program. The steps below describe some methods for identifying and opening a Unix Shell program if you already have one installed. There are also options for identifying and downloading a Unix Shell program, a Linux/UNIX emulator, or a program to access a Unix Shell on a server.\n\nIf none of the options below address your circumstances, try an online search for: Unix shell [your computer model] [your operating system].\n\n### Linux\n\nThe default Unix Shell for Linux operating systems is usually Bash. On most versions of Linux, it is accessible by running the (Gnome) Terminal or (KDE) Konsole or xterm, which can be found via the applications menu or the search bar. If your machine is set up to use something other than bash, you can run it by opening a terminal and typing bash.\n\n### Mac OS\n\nFor a Mac computer, the default Unix Shell is Bash, and it is available via the Terminal Utilities program within your Applications folder.\n\nTo open Terminal, try one or both of the following:\n\nGo to your Applications. Within Applications, open the Utilities folder. Locate Terminal in the Utilities folder and open it.\n\nUse the Mac 'Spotlight' computer search function. Search for: Terminal and press Return.\nReference\n\n- How to Use Terminal on a Mac\n\n### Windows\n\nComputers with Windows operating systems do not automatically have a Unix Shell program installed. In this lesson, we encourage you to use an emulator included in Git for Windows, which gives you access to both Bash shell commands and Git. If you are attending a Software Carpentry workshop session, it is likely you have already received instructions on how to install Git for Windows.\n\nOnce installed, you can open a terminal by running the program Git Bash from the Windows start menu.\n\nOther solutions are available for running Bash commands on Windows. There is now a Bash shell command-line tool available for Windows 10. Additionally, you can run Bash commands on a remote computer or server that already has a Unix Shell, from your Windows machine. This can usually be done through a Secure Shell (SSH) client. One such client available for free for Windows computers is PuTTY. See the reference below for information on installing and using PuTTY, using the Windows 10 command-line tool, or installing and using a Unix/Linux emulator.\nReference\n\n- Git for Windows\n- How to Install Bash shell command-line tool on Windows 10\n- Install and Use the Linux Bash Shell on Windows 10\n- Using the Windows 10 Bash Shell\n- Using a Unix/Linux emulator (Cygwin) or Secure Shell (SSH) client (Putty)"
    }
  ],
  "metadata": {
    "kernelspec": {
      "name": "python3",
      "display_name": "Python 3",
      "language": "python"
    },
    "language_info": {
      "mimetype": "text/x-python",
      "nbconvert_exporter": "python",
      "name": "python",
      "file_extension": ".py",
      "version": "3.5.4",
      "pygments_lexer": "ipython3",
      "codemirror_mode": {
        "version": 3,
        "name": "ipython"
      }
    }
  },
  "nbformat": 4,
  "nbformat_minor": 2
}