{
 "cells": [
  {
   "cell_type": "markdown",
   "metadata": {},
   "source": [
    "# Information: Under development"
   ]
  },
  {
   "cell_type": "markdown",
   "metadata": {},
   "source": [
    "# Setup:\n",
    "\n",
    "We recommend you follow this course in a jupyter notebook which includes the course material and it's own terminal. If for whatever reason you don't see below for setup on your own machine."
   ]
  },
  {
   "cell_type": "markdown",
   "metadata": {},
   "source": [
    "## Jupyter Notebook\n",
    "\n",
    "Jupyter notebooks contain bash 'magic' which executes terminal commands within the jupyter interface. We have modified one of these for the purpose of this training, so where you see %%bash2 this is what you should run in a terminal."
   ]
  },
  {
   "cell_type": "code",
   "execution_count": 1,
   "metadata": {},
   "outputs": [
    {
     "name": "stdout",
     "output_type": "stream",
     "text": [
      "This will be output\n"
     ]
    }
   ],
   "source": [
    "%%bash2\n",
    "# This is a comment\n",
    "echo \"This will be output\""
   ]
  },
  {
   "cell_type": "markdown",
   "metadata": {},
   "source": [
    "Slide Type\n",
    "\n",
    "You can also use the %%bash2 magic to keep your solutions to exercises in the notebook as a record. They will still be executed at the command line, so be careful! We can extract the files for this training by unzipping the data-shell.zip file in the repository. This can be done by executing the cell below:\n"
   ]
  },
  {
   "cell_type": "code",
   "execution_count": 2,
   "metadata": {},
   "outputs": [
    {
     "name": "stdout",
     "output_type": "stream",
     "text": [
      "Archive:  data-shell.zip\n",
      "  inflating: data-shell/notes.txt    \n",
      "  inflating: data-shell/.bash_profile  \n",
      "  inflating: data-shell/creatures/unicorn.dat  \n",
      "  inflating: data-shell/creatures/basilisk.dat  \n",
      "  inflating: data-shell/data/pdb/quinine.pdb  \n",
      "  inflating: data-shell/data/pdb/lactose.pdb  \n",
      "  inflating: data-shell/data/pdb/pyridoxal.pdb  \n",
      "  inflating: data-shell/data/pdb/lactic-acid.pdb  \n",
      "  inflating: data-shell/data/pdb/methanol.pdb  \n",
      "  inflating: data-shell/data/pdb/tnt.pdb  \n",
      "  inflating: data-shell/data/pdb/vanillin.pdb  \n",
      "  inflating: data-shell/data/pdb/glycol.pdb  \n",
      "  inflating: data-shell/data/pdb/tuberin.pdb  \n",
      "  inflating: data-shell/data/pdb/tyrian-purple.pdb  \n",
      "  inflating: data-shell/data/pdb/aldrin.pdb  \n",
      "  inflating: data-shell/data/pdb/mustard.pdb  \n",
      "  inflating: data-shell/data/pdb/strychnine.pdb  \n",
      "  inflating: data-shell/data/pdb/cyclobutane.pdb  \n",
      "  inflating: data-shell/data/pdb/cyclohexanol.pdb  \n",
      "  inflating: data-shell/data/pdb/thiamine.pdb  \n",
      "  inflating: data-shell/data/pdb/vinyl-chloride.pdb  \n",
      "  inflating: data-shell/data/pdb/propane.pdb  \n",
      "  inflating: data-shell/data/pdb/mint.pdb  \n",
      "  inflating: data-shell/data/pdb/menthol.pdb  \n",
      "  inflating: data-shell/data/pdb/octane.pdb  \n",
      "  inflating: data-shell/data/pdb/camphene.pdb  \n",
      "  inflating: data-shell/data/pdb/cinnamaldehyde.pdb  \n",
      "  inflating: data-shell/data/pdb/codeine.pdb  \n",
      "  inflating: data-shell/data/pdb/maltose.pdb  \n",
      "  inflating: data-shell/data/pdb/heme.pdb  \n",
      "  inflating: data-shell/data/pdb/ethane.pdb  \n",
      "  inflating: data-shell/data/pdb/ascorbic-acid.pdb  \n",
      "  inflating: data-shell/data/pdb/testosterone.pdb  \n",
      "  inflating: data-shell/data/pdb/vitamin-a.pdb  \n",
      "  inflating: data-shell/data/pdb/lsd.pdb  \n",
      "  inflating: data-shell/data/pdb/citronellal.pdb  \n",
      "  inflating: data-shell/data/pdb/benzaldehyde.pdb  \n",
      "  inflating: data-shell/data/pdb/nerol.pdb  \n",
      "  inflating: data-shell/data/pdb/morphine.pdb  \n",
      "  inflating: data-shell/data/pdb/ethylcyclohexane.pdb  \n",
      "  inflating: data-shell/data/pdb/norethindrone.pdb  \n",
      "  inflating: data-shell/data/pdb/lanoxin.pdb  \n",
      "  inflating: data-shell/data/pdb/cyclopropane.pdb  \n",
      "  inflating: data-shell/data/pdb/styrene.pdb  \n",
      "  inflating: data-shell/data/pdb/ammonia.pdb  \n",
      "  inflating: data-shell/data/pdb/cubane.pdb  \n",
      "  inflating: data-shell/data/pdb/pentane.pdb  \n",
      "  inflating: data-shell/data/pdb/ethanol.pdb  \n",
      "  inflating: data-shell/data/pdb/methane.pdb  \n",
      "  inflating: data-shell/data/pdb/sucrose.pdb  \n",
      "  inflating: data-shell/data/pdb/cholesterol.pdb  \n",
      "  inflating: data-shell/data/pdb/piperine.pdb  \n",
      "  inflating: data-shell/data/amino-acids.txt  \n",
      "  inflating: data-shell/data/planets.txt  \n",
      "  inflating: data-shell/data/salmon.txt  \n",
      "  inflating: data-shell/data/animals.txt  \n",
      "  inflating: data-shell/data/elements/Tl.xml  \n",
      "  inflating: data-shell/data/elements/Co.xml  \n",
      "  inflating: data-shell/data/elements/Na.xml  \n",
      "  inflating: data-shell/data/elements/Np.xml  \n",
      "  inflating: data-shell/data/elements/Xe.xml  \n",
      "  inflating: data-shell/data/elements/Fr.xml  \n",
      "  inflating: data-shell/data/elements/Er.xml  \n",
      "  inflating: data-shell/data/elements/Md.xml  \n",
      "  inflating: data-shell/data/elements/Sc.xml  \n",
      "  inflating: data-shell/data/elements/Cl.xml  \n",
      "  inflating: data-shell/data/elements/Mo.xml  \n",
      "  inflating: data-shell/data/elements/Hg.xml  \n",
      "  inflating: data-shell/data/elements/Ba.xml  \n",
      "  inflating: data-shell/data/elements/Cu.xml  \n",
      "  inflating: data-shell/data/elements/Tc.xml  \n",
      "  inflating: data-shell/data/elements/Re.xml  \n",
      "  inflating: data-shell/data/elements/H.xml  \n",
      "  inflating: data-shell/data/elements/Nb.xml  \n",
      "  inflating: data-shell/data/elements/Cd.xml  \n",
      "  inflating: data-shell/data/elements/Gd.xml  \n",
      "  inflating: data-shell/data/elements/Bi.xml  \n",
      "  inflating: data-shell/data/elements/C.xml  \n",
      "  inflating: data-shell/data/elements/Zr.xml  \n",
      "  inflating: data-shell/data/elements/Li.xml  \n",
      "  inflating: data-shell/data/elements/Ti.xml  \n",
      "  inflating: data-shell/data/elements/Sr.xml  \n",
      "  inflating: data-shell/data/elements/Ac.xml  \n",
      "  inflating: data-shell/data/elements/Lu.xml  \n",
      "  inflating: data-shell/data/elements/Fm.xml  \n",
      "  inflating: data-shell/data/elements/Pa.xml  \n",
      "  inflating: data-shell/data/elements/Os.xml  \n",
      "  inflating: data-shell/data/elements/Pu.xml  \n",
      "  inflating: data-shell/data/elements/Mg.xml  \n",
      "  inflating: data-shell/data/elements/Es.xml  \n",
      "  inflating: data-shell/data/elements/O.xml  \n",
      "  inflating: data-shell/data/elements/Ru.xml  \n",
      "  inflating: data-shell/data/elements/Eu.xml  \n",
      "  inflating: data-shell/data/elements/F.xml  \n",
      "  inflating: data-shell/data/elements/Pr.xml  \n",
      "  inflating: data-shell/data/elements/Al.xml  \n",
      "  inflating: data-shell/data/elements/Te.xml  \n",
      "  inflating: data-shell/data/elements/Pt.xml  \n",
      "  inflating: data-shell/data/elements/B.xml  \n",
      "  inflating: data-shell/data/elements/Pd.xml  \n",
      "  inflating: data-shell/data/elements/Ce.xml  \n",
      "  inflating: data-shell/data/elements/At.xml  \n",
      "  inflating: data-shell/data/elements/Au.xml  \n",
      "  inflating: data-shell/data/elements/W.xml  \n",
      "  inflating: data-shell/data/elements/Am.xml  \n",
      "  inflating: data-shell/data/elements/Cm.xml  \n",
      "  inflating: data-shell/data/elements/Ga.xml  \n",
      "  inflating: data-shell/data/elements/As.xml  \n",
      "  inflating: data-shell/data/elements/Cf.xml  \n",
      "  inflating: data-shell/data/elements/Hf.xml  \n",
      "  inflating: data-shell/data/elements/V.xml  \n",
      "  inflating: data-shell/data/elements/Fe.xml  \n",
      "  inflating: data-shell/data/elements/I.xml  \n",
      "  inflating: data-shell/data/elements/Tm.xml  \n",
      "  inflating: data-shell/data/elements/He.xml  \n",
      "  inflating: data-shell/data/elements/Se.xml  \n",
      "  inflating: data-shell/data/elements/Ho.xml  \n",
      "  inflating: data-shell/data/elements/S.xml  \n",
      "  inflating: data-shell/data/elements/Kr.xml  \n",
      "  inflating: data-shell/data/elements/Sm.xml  \n",
      "  inflating: data-shell/data/elements/Zn.xml  \n",
      "  inflating: data-shell/data/elements/Ta.xml  \n",
      "  inflating: data-shell/data/elements/Si.xml  \n",
      "  inflating: data-shell/data/elements/Ni.xml  \n",
      "  inflating: data-shell/data/elements/Y.xml  \n",
      "  inflating: data-shell/data/elements/K.xml  \n",
      "  inflating: data-shell/data/elements/In.xml  \n",
      "  inflating: data-shell/data/elements/Ra.xml  \n",
      "  inflating: data-shell/data/elements/Th.xml  \n",
      "  inflating: data-shell/data/elements/No.xml  \n",
      "  inflating: data-shell/data/elements/Dy.xml  \n",
      "  inflating: data-shell/data/elements/Bk.xml  \n",
      "  inflating: data-shell/data/elements/Ge.xml  \n",
      "  inflating: data-shell/data/elements/Rn.xml  \n",
      "  inflating: data-shell/data/elements/Nd.xml  \n",
      "  inflating: data-shell/data/elements/Pm.xml  \n",
      "  inflating: data-shell/data/elements/Ag.xml  \n",
      "  inflating: data-shell/data/elements/Rh.xml  \n",
      "  inflating: data-shell/data/elements/La.xml  \n",
      "  inflating: data-shell/data/elements/Br.xml  \n",
      "  inflating: data-shell/data/elements/Ir.xml  \n",
      "  inflating: data-shell/data/elements/Tb.xml  \n",
      "  inflating: data-shell/data/elements/P.xml  \n",
      "  inflating: data-shell/data/elements/Mn.xml  \n",
      "  inflating: data-shell/data/elements/Ar.xml  \n",
      "  inflating: data-shell/data/elements/Rb.xml  \n",
      "  inflating: data-shell/data/elements/Sn.xml  \n",
      "  inflating: data-shell/data/elements/Yb.xml  \n",
      "  inflating: data-shell/data/elements/Po.xml  \n",
      "  inflating: data-shell/data/elements/Pb.xml  \n",
      "  inflating: data-shell/data/elements/Sb.xml  \n",
      "  inflating: data-shell/data/elements/Cs.xml  \n",
      "  inflating: data-shell/data/elements/Be.xml  \n",
      "  inflating: data-shell/data/elements/N.xml  \n",
      "  inflating: data-shell/data/elements/Cr.xml  \n",
      "  inflating: data-shell/data/elements/Ca.xml  \n",
      "  inflating: data-shell/data/elements/U.xml  \n",
      "  inflating: data-shell/data/elements/Lr.xml  \n",
      "  inflating: data-shell/data/elements/Ne.xml  \n",
      "  inflating: data-shell/data/sunspot.txt  \n",
      "  inflating: data-shell/data/morse.txt  \n",
      "  inflating: data-shell/data/animal-counts/animals.txt  \n",
      "  inflating: data-shell/writing/haiku.txt  \n",
      "  inflating: data-shell/writing/data/LittleWomen.txt  \n",
      "  inflating: data-shell/writing/data/one.txt  \n",
      "  inflating: data-shell/writing/data/two.txt  \n",
      " extracting: data-shell/writing/thesis/empty-draft.md  \n",
      " extracting: data-shell/writing/tools/old/oldtool  \n",
      "  inflating: data-shell/writing/tools/format  \n",
      " extracting: data-shell/writing/tools/stats  \n",
      "  inflating: data-shell/solar.pdf    \n",
      "  inflating: data-shell/north-pacific-gyre/2012-07-03/goodiff  \n",
      "  inflating: data-shell/north-pacific-gyre/2012-07-03/NENE01978B.txt  \n",
      "  inflating: data-shell/north-pacific-gyre/2012-07-03/NENE01729B.txt  \n",
      "  inflating: data-shell/north-pacific-gyre/2012-07-03/NENE02043B.txt  \n",
      "  inflating: data-shell/north-pacific-gyre/2012-07-03/NENE01751B.txt  \n",
      "  inflating: data-shell/north-pacific-gyre/2012-07-03/NENE01978A.txt  \n",
      "  inflating: data-shell/north-pacific-gyre/2012-07-03/goostats  \n",
      "  inflating: data-shell/north-pacific-gyre/2012-07-03/NENE01971Z.txt  \n",
      "  inflating: data-shell/north-pacific-gyre/2012-07-03/NENE01843A.txt  \n",
      "  inflating: data-shell/north-pacific-gyre/2012-07-03/NENE01729A.txt  \n",
      "  inflating: data-shell/north-pacific-gyre/2012-07-03/NENE01736A.txt  \n",
      "  inflating: data-shell/north-pacific-gyre/2012-07-03/NENE02043A.txt  \n",
      "  inflating: data-shell/north-pacific-gyre/2012-07-03/NENE02040B.txt  \n",
      "  inflating: data-shell/north-pacific-gyre/2012-07-03/NENE01843B.txt  \n",
      "  inflating: data-shell/north-pacific-gyre/2012-07-03/NENE02040A.txt  \n",
      "  inflating: data-shell/north-pacific-gyre/2012-07-03/NENE01751A.txt  \n",
      "  inflating: data-shell/north-pacific-gyre/2012-07-03/NENE02018B.txt  \n",
      "  inflating: data-shell/north-pacific-gyre/2012-07-03/NENE02040Z.txt  \n",
      "  inflating: data-shell/north-pacific-gyre/2012-07-03/NENE01812A.txt  \n",
      "  inflating: data-shell/pizza.cfg    \n",
      "  inflating: data-shell/molecules/propane.pdb  \n",
      "  inflating: data-shell/molecules/octane.pdb  \n",
      "  inflating: data-shell/molecules/ethane.pdb  \n",
      "  inflating: data-shell/molecules/cubane.pdb  \n",
      "  inflating: data-shell/molecules/pentane.pdb  \n",
      "  inflating: data-shell/molecules/methane.pdb  \n"
     ]
    },
    {
     "name": "stdout",
     "output_type": "stream",
     "text": [
      "[Errno 2] No such file or directory: 'replace data-shell/notes.txt? [y]es, [n]o, [A]ll, [N]one, [r]ename:'\n"
     ]
    }
   ],
   "source": [
    "%%bash2 --dir ~/library/data\n",
    "unzip data-shell.zip\n",
    "A"
   ]
  },
  {
   "cell_type": "markdown",
   "metadata": {},
   "source": [
    "Slide Type\n",
    "\n",
    "We can check this has suceeded by changing into the newly created data-shell directory, using the bash2 magic and listing the contents (see the first lesson for more information)."
   ]
  },
  {
   "cell_type": "code",
   "execution_count": 3,
   "metadata": {},
   "outputs": [
    {
     "name": "stdout",
     "output_type": "stream",
     "text": [
      "creatures\n",
      "data\n",
      "molecules\n",
      "north-pacific-gyre\n",
      "notes.txt\n",
      "pizza.cfg\n",
      "solar.pdf\n",
      "thesis\n",
      "writing\n"
     ]
    }
   ],
   "source": [
    "%%bash2 --dir ~/library/data/data-shell\n",
    "ls"
   ]
  },
  {
   "cell_type": "markdown",
   "metadata": {},
   "source": [
    "You are now ready to begin lesson 1."
   ]
  }
 ],
 "metadata": {
  "kernelspec": {
   "display_name": "Python 3",
   "language": "python",
   "name": "python3"
  },
  "language_info": {
   "codemirror_mode": {
    "name": "ipython",
    "version": 3
   },
   "file_extension": ".py",
   "mimetype": "text/x-python",
   "name": "python",
   "nbconvert_exporter": "python",
   "pygments_lexer": "ipython3",
   "version": "3.5.4"
  }
 },
 "nbformat": 4,
 "nbformat_minor": 2
}
