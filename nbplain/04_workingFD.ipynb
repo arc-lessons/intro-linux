{
  "cells": [
    {
      "metadata": {
        "slideshow": {
          "slide_type": "slide"
        }
      },
      "cell_type": "markdown",
      "source": "# Working With Files and Directories"
    },
    {
      "metadata": {
        "slideshow": {
          "slide_type": "subslide"
        }
      },
      "cell_type": "markdown",
      "source": "## Overview\n**Teaching:** 25 min\n\n**Exercises:** 10 min\n\n**Questions**\n- How can I create, copy, and delete files and directories?\n- How can I edit files?\n\n**Objectives**\n- Create a directory hierarchy that matches a given diagram.\n- Create files in that hierarchy using an editor or by copying and renaming existing files.\n- Delete, copy and move specified files and/or directories."
    },
    {
      "metadata": {
        "slideshow": {
          "slide_type": "slide"
        }
      },
      "cell_type": "markdown",
      "source": "We now know how to explore files and directories, but how do we create them in the first place? Let's go back to our `data-shell` directory on the Desktop and use `ls -F` to see what it contains:"
    },
    {
      "metadata": {
        "slideshow": {
          "slide_type": "subslide"
        },
        "trusted": true
      },
      "cell_type": "code",
      "source": "%%bash2 --dir ~/library/data/data-shell\npwd",
      "execution_count": 1,
      "outputs": [
        {
          "output_type": "stream",
          "text": "/home/nbuser/library/data/data-shell\n",
          "name": "stdout"
        }
      ]
    },
    {
      "metadata": {
        "slideshow": {
          "slide_type": "subslide"
        }
      },
      "cell_type": "markdown",
      "source": "If after working through the exercises at the end of the previous lesson, you are not in your `data-shell` directory, navigate to the correct location."
    },
    {
      "metadata": {
        "slideshow": {
          "slide_type": "subslide"
        },
        "trusted": true
      },
      "cell_type": "code",
      "source": "%%bash2\nls -F",
      "execution_count": 2,
      "outputs": [
        {
          "output_type": "stream",
          "text": "creatures/\ndata/\nmolecules/\nnorth-pacific-gyre/\nnotes.txt\npizza.cfg\nsolar.pdf\nwriting/\n",
          "name": "stdout"
        }
      ]
    },
    {
      "metadata": {
        "slideshow": {
          "slide_type": "subslide"
        }
      },
      "cell_type": "markdown",
      "source": "Let's create a new directory called `thesis` using the command `mkdir thesis` (which has no output):"
    },
    {
      "metadata": {
        "slideshow": {
          "slide_type": "fragment"
        },
        "trusted": true
      },
      "cell_type": "code",
      "source": "%%bash2\nmkdir thesis",
      "execution_count": 3,
      "outputs": []
    },
    {
      "metadata": {
        "slideshow": {
          "slide_type": "subslide"
        }
      },
      "cell_type": "markdown",
      "source": "As you might guess from its name, `mkdir` means \"make directory\". Since `thesis` is a relative path (i.e., doesn't have a leading slash), the new directory is created in the current working directory:"
    },
    {
      "metadata": {
        "slideshow": {
          "slide_type": "fragment"
        },
        "trusted": true
      },
      "cell_type": "code",
      "source": "%%bash2\nls -F",
      "execution_count": 4,
      "outputs": [
        {
          "output_type": "stream",
          "text": "creatures/\ndata/\nmolecules/\nnorth-pacific-gyre/\nnotes.txt\npizza.cfg\nsolar.pdf\nthesis/\nwriting/\n",
          "name": "stdout"
        }
      ]
    },
    {
      "metadata": {
        "slideshow": {
          "slide_type": "slide"
        }
      },
      "cell_type": "markdown",
      "source": "## Information: Two ways of doing the same thing\nUsing the shell to create a directory is no different than using a file explorer. If you open the current directory using your operating system's graphical file explorer, the `thesis` directory will appear there too. While they are two different ways of interacting with the files, the files and directories themselves are the same."
    },
    {
      "metadata": {
        "slideshow": {
          "slide_type": "slide"
        }
      },
      "cell_type": "markdown",
      "source": "## Information: Good names for files and directories\nComplicated names of files and directories can make your life painful when working on the command line. Here we provide a few useful tips for the names of your files.\n\n1. **Don't use whitespaces:** Whitespaces can make a name more meaningful but since whitespace is used to break arguments on the command line it is better to avoid them in names of files and directories. You can use `-` or `_` instead of whitespace.\n2. **Don't begin the name with `-` (dash):** Commands treat names starting with - as options.\n3. **Stick with letters, numbers, `.` (period or 'full stop'), `-` (dash) and `_` (underscore):** Many other characters have special meanings on the command line. We will learn about some of these during this lesson. There are special characters that can cause your command to not work as expected and can even result in data loss.\n\nIf you need to refer to names of files or directories that have whitespace or another non-alphanumeric character, you should surround the name in quotes (`\"\"`)."
    },
    {
      "metadata": {
        "slideshow": {
          "slide_type": "slide"
        }
      },
      "cell_type": "markdown",
      "source": "Since we've just created the `thesis` directory, there's nothing in it yet:"
    },
    {
      "metadata": {
        "slideshow": {
          "slide_type": "fragment"
        },
        "trusted": true
      },
      "cell_type": "code",
      "source": "%%bash2\nls -F thesis",
      "execution_count": 5,
      "outputs": []
    },
    {
      "metadata": {
        "slideshow": {
          "slide_type": "subslide"
        }
      },
      "cell_type": "markdown",
      "source": "Let's change our working directory to `thesis` using `cd`, then run a text editor called Nano to create a file called `draft.txt`:"
    },
    {
      "metadata": {
        "slideshow": {
          "slide_type": "fragment"
        },
        "trusted": true
      },
      "cell_type": "code",
      "source": "%%bash2\ncd thesis\n#nano draft.txt\n# If you want to run nano, use the interactive terminal, it cannot be used in a notebook\n# You can instead use the %%file magic if you want to continue working in the notebook.",
      "execution_count": 6,
      "outputs": []
    },
    {
      "metadata": {
        "slideshow": {
          "slide_type": "subslide"
        },
        "trusted": true
      },
      "cell_type": "code",
      "source": "%%file draft.txt\nThis is my file",
      "execution_count": 7,
      "outputs": [
        {
          "output_type": "stream",
          "text": "Writing draft.txt\n",
          "name": "stdout"
        }
      ]
    },
    {
      "metadata": {
        "slideshow": {
          "slide_type": "slide"
        }
      },
      "cell_type": "markdown",
      "source": "## Information: Which Editor?\nWhen we say, \"`nano` is a text editor,\" we really do mean \"text\": it can only work with plain character data, not tables, images, or any other human-friendly media. We use it in examples because it is one of the least complex text editors. However, because of this trait, it may not be powerful enough or flexible enough for the work you need to do after this workshop. On Unix systems (such as Linux and Mac OS X), many programmers use Emacs or Vim (both of which require more time to learn), or a graphical editor such as Gedit. On Windows, you may wish to use Notepad++. Windows also has a built-in editor called `notepad` that can be run from the command line in the same way as `nano` for the purposes of this lesson.\n\nNo matter what editor you use, you will need to know where it searches for and saves files. If you start it from the shell, it will (probably) use your current working directory as its default location. If you use your computer's start menu, it may want to save files in your desktop or documents directory instead. You can change this by navigating to another directory the first time you \"Save As…\""
    },
    {
      "metadata": {
        "slideshow": {
          "slide_type": "slide"
        }
      },
      "cell_type": "markdown",
      "source": "Let's type in a few lines of text. Once we're happy with our text, we can press `Ctrl-O` (press the Ctrl or Control key and, while holding it down, press the O key) to write our data to disk (we'll be asked what file we want to save this to: press Return to accept the suggested default of `draft.txt`).\n![alttext](../images/nano-screenshot.png)\nOnce our file is saved, we can use Ctrl-X to quit the editor and return to the shell."
    },
    {
      "metadata": {
        "slideshow": {
          "slide_type": "slide"
        }
      },
      "cell_type": "markdown",
      "source": "## Information: Control, Ctrl, or ^ Key\nThe Control key is also called the \"Ctrl\" key. There are various ways in which using the Control key may be described. For example, you may see an instruction to press the Control key and, while holding it down, press the X key, described as any of:\n- `Control-X`\n- `Control+X`\n- `Ctrl-X`\n- `Ctrl+X`\n- `^X`\n- `C-x`\nIn nano, along the bottom of the screen you'll see `^G` Get Help `^O` WriteOut. This means that you can use `Control-G` to get help and `Control-O` to save your file."
    },
    {
      "metadata": {
        "slideshow": {
          "slide_type": "slide"
        }
      },
      "cell_type": "markdown",
      "source": "`nano` doesn't leave any output on the screen after it exits, but `ls` now shows that we have created a file called `draft.txt`:"
    },
    {
      "metadata": {
        "slideshow": {
          "slide_type": "fragment"
        },
        "trusted": true
      },
      "cell_type": "code",
      "source": "%%bash2\nls",
      "execution_count": 8,
      "outputs": [
        {
          "output_type": "stream",
          "text": "draft.txt\n",
          "name": "stdout"
        }
      ]
    },
    {
      "metadata": {
        "slideshow": {
          "slide_type": "slide"
        }
      },
      "cell_type": "markdown",
      "source": "## Exercise: Creating Files a Different Way\nWe have seen how to create text files using the `nano` editor. Now, try the following command in your home directory:\n\n```bash\ncd                  # go to your home directory\ntouch my_file.txt\n```\n1. What did the touch command do? When you look at your home directory using the GUI file explorer, does the file show up?\n2. Use `ls -l` to inspect the files. How large is `my_file.txt`?\n3. When might you want to create a file this way?"
    },
    {
      "metadata": {
        "slideshow": {
          "slide_type": "slide"
        }
      },
      "cell_type": "markdown",
      "source": "## Solution: Creating Files a Different Way\n1. The touch command generates a new file called 'my_file.txt' in your home directory. If you are in your home directory, you can observe this newly generated file by typing 'ls' at the command line prompt. 'my_file.txt' can also be viewed in your GUI file explorer.\n2. When you inspect the file with 'ls -l', note that the size of 'my_file.txt' is 0kb. In other words, it contains no data. If you open 'my_file.txt' using your text editor it is blank.\n3. Some programs do not generate output files themselves, but instead require that empty files have already been generated. When the program is run, it searches for an existing file to populate with its output. The touch command allows you to efficiently generate a blank text file to be used by such programs."
    },
    {
      "metadata": {
        "slideshow": {
          "slide_type": "slide"
        }
      },
      "cell_type": "markdown",
      "source": "Returning to the `data-shell` directory, let's tidy up the `thesis` directory by removing the draft we created:"
    },
    {
      "metadata": {
        "slideshow": {
          "slide_type": "fragment"
        },
        "trusted": true
      },
      "cell_type": "code",
      "source": "%%bash2\n#cd thesis\nrm draft.txt",
      "execution_count": 9,
      "outputs": []
    },
    {
      "metadata": {
        "slideshow": {
          "slide_type": "subslide"
        }
      },
      "cell_type": "markdown",
      "source": "This command removes files (`rm` is short for \"remove\"). If we run `ls` again, its output is empty once more, which tells us that our file is gone:"
    },
    {
      "metadata": {
        "slideshow": {
          "slide_type": "fragment"
        },
        "trusted": true
      },
      "cell_type": "code",
      "source": "%%bash2\nls",
      "execution_count": 10,
      "outputs": []
    },
    {
      "metadata": {
        "slideshow": {
          "slide_type": "slide"
        }
      },
      "cell_type": "markdown",
      "source": "## Information: Deleting Is Forever\nThe Unix shell doesn't have a trash bin that we can recover deleted files from (though most graphical interfaces to Unix do). Instead, when we delete files, they are unhooked from the file system so that their storage space on disk can be recycled. Tools for finding and recovering deleted files do exist, but there's no guarantee they'll work in any particular situation, since the computer may recycle the file's disk space right away."
    },
    {
      "metadata": {
        "slideshow": {
          "slide_type": "slide"
        }
      },
      "cell_type": "markdown",
      "source": "Let's re-create that file and then move up one directory to `/Users/nelle/Desktop/data-shell` using `cd ..`:"
    },
    {
      "metadata": {
        "slideshow": {
          "slide_type": "fragment"
        },
        "trusted": true
      },
      "cell_type": "code",
      "source": "%%bash2\npwd\n#nano draft.txt",
      "execution_count": 11,
      "outputs": [
        {
          "output_type": "stream",
          "text": "/home/nbuser/library/data/data-shell/thesis\n",
          "name": "stdout"
        }
      ]
    },
    {
      "metadata": {
        "slideshow": {
          "slide_type": "subslide"
        },
        "trusted": true
      },
      "cell_type": "code",
      "source": "%%file draft.txt\nSome text",
      "execution_count": 12,
      "outputs": [
        {
          "output_type": "stream",
          "text": "Writing draft.txt\n",
          "name": "stdout"
        }
      ]
    },
    {
      "metadata": {
        "slideshow": {
          "slide_type": "subslide"
        },
        "trusted": true
      },
      "cell_type": "code",
      "source": "%%bash2\nls",
      "execution_count": 13,
      "outputs": [
        {
          "output_type": "stream",
          "text": "draft.txt\n",
          "name": "stdout"
        }
      ]
    },
    {
      "metadata": {
        "slideshow": {
          "slide_type": "fragment"
        },
        "trusted": true
      },
      "cell_type": "code",
      "source": "%%bash2\ncd ..",
      "execution_count": 14,
      "outputs": []
    },
    {
      "metadata": {
        "slideshow": {
          "slide_type": "subslide"
        }
      },
      "cell_type": "markdown",
      "source": "If we try to remove the entire `thesis` directory using `rm thesis`, we get an error message:"
    },
    {
      "metadata": {
        "slideshow": {
          "slide_type": "fragment"
        },
        "trusted": true
      },
      "cell_type": "code",
      "source": "%%bash2\nrm thesis",
      "execution_count": 15,
      "outputs": []
    },
    {
      "metadata": {
        "slideshow": {
          "slide_type": "subslide"
        }
      },
      "cell_type": "markdown",
      "source": "This happens because `rm` by default only works on files, not directories.\n\nTo really get rid of `thesis` we must also delete the file `draft.txt`. We can do this with the recursive option for `rm`:"
    },
    {
      "metadata": {
        "slideshow": {
          "slide_type": "fragment"
        },
        "trusted": true
      },
      "cell_type": "code",
      "source": "%%bash2\nrm -r thesis",
      "execution_count": 16,
      "outputs": []
    },
    {
      "metadata": {
        "slideshow": {
          "slide_type": "slide"
        }
      },
      "cell_type": "markdown",
      "source": "## Exercise: Using `rm` Safely\nWhat happens when we type `rm -i thesis/quotations.txt`? Why would we want this protection when using `rm`?\n\n(Hint: This won't work in a notebook!)"
    },
    {
      "metadata": {
        "slideshow": {
          "slide_type": "slide"
        }
      },
      "cell_type": "markdown",
      "source": "## Solution: Using `rm` Safely\n```bash\nrm: remove regular file 'thesis/quotations.txt'?\n```\nThe `-i` option will prompt before every removal. The Unix shell doesn't have a trash bin, so all the files removed will disappear forever. By using the `-i` flag, we have the chance to check that we are deleting only the files that we want to remove."
    },
    {
      "metadata": {
        "slideshow": {
          "slide_type": "slide"
        }
      },
      "cell_type": "markdown",
      "source": "## Information: With Great Power Comes Great Responsibility\nRemoving the files in a directory recursively can be a very dangerous operation. If we're concerned about what we might be deleting we can add the \"interactive\" flag `-i` to `rm` which will ask us for confirmation before each step\n```bash\nrm -r -i thesis\nrm: descend into directory 'thesis'? y\nrm: remove regular file 'thesis/draft.txt'? y\nrm: remove directory 'thesis'? y\n```\nThis removes everything in the directory, then the directory itself, asking at each step for you to confirm the deletion."
    },
    {
      "metadata": {
        "slideshow": {
          "slide_type": "slide"
        }
      },
      "cell_type": "markdown",
      "source": "Let's create that directory and file one more time. (Note that this time we're running `nano` with the path `thesis/draft.txt`, rather than going into the `thesis` directory and running `nano` on `draft.txt` there.)"
    },
    {
      "metadata": {
        "slideshow": {
          "slide_type": "fragment"
        },
        "trusted": true
      },
      "cell_type": "code",
      "source": "%%bash2\npwd",
      "execution_count": 17,
      "outputs": [
        {
          "output_type": "stream",
          "text": "/home/nbuser/library/data/data-shell\n",
          "name": "stdout"
        }
      ]
    },
    {
      "metadata": {
        "slideshow": {
          "slide_type": "fragment"
        },
        "trusted": true
      },
      "cell_type": "code",
      "source": "%%bash2\nmkdir thesis\n#nano thesis/draft.txt",
      "execution_count": 18,
      "outputs": []
    },
    {
      "metadata": {
        "slideshow": {
          "slide_type": "subslide"
        },
        "trusted": true
      },
      "cell_type": "code",
      "source": "%%file thesis/draft.txt\nMore text!",
      "execution_count": 19,
      "outputs": [
        {
          "output_type": "stream",
          "text": "Writing thesis/draft.txt\n",
          "name": "stdout"
        }
      ]
    },
    {
      "metadata": {
        "slideshow": {
          "slide_type": "fragment"
        },
        "trusted": true
      },
      "cell_type": "code",
      "source": "%%bash2\nls thesis",
      "execution_count": 20,
      "outputs": [
        {
          "output_type": "stream",
          "text": "draft.txt\n",
          "name": "stdout"
        }
      ]
    },
    {
      "metadata": {
        "slideshow": {
          "slide_type": "slide"
        }
      },
      "cell_type": "markdown",
      "source": "`draft.txt` isn't a particularly informative name, so let's change the file's name using `mv`, which is short for \"move\":"
    },
    {
      "metadata": {
        "slideshow": {
          "slide_type": "fragment"
        },
        "trusted": true
      },
      "cell_type": "code",
      "source": "%%bash2\nmv thesis/draft.txt thesis/quotes.txt",
      "execution_count": 21,
      "outputs": []
    },
    {
      "metadata": {
        "slideshow": {
          "slide_type": "subslide"
        }
      },
      "cell_type": "markdown",
      "source": "The first argument tells `mv` what we're \"moving\", while the second is where it's to go. In this case, we're moving `thesis/draft.txt` to `thesis/quotes.txt`, which has the same effect as renaming the file. Sure enough, `ls` shows us that `thesis` now contains one file called `quotes.txt`:"
    },
    {
      "metadata": {
        "slideshow": {
          "slide_type": "fragment"
        },
        "trusted": true
      },
      "cell_type": "code",
      "source": "%%bash2\nls thesis",
      "execution_count": 22,
      "outputs": [
        {
          "output_type": "stream",
          "text": "quotes.txt\n",
          "name": "stdout"
        }
      ]
    },
    {
      "metadata": {
        "slideshow": {
          "slide_type": "subslide"
        }
      },
      "cell_type": "markdown",
      "source": "One has to be careful when specifying the target file name, since `mv` will silently overwrite any existing file with the same name, which could lead to data loss. An additional flag, `mv -i` (or `mv --interactive`), can be used to make `mv` ask you for confirmation before overwriting.\n\nJust for the sake of consistency, `mv` also works on directories"
    },
    {
      "metadata": {
        "slideshow": {
          "slide_type": "slide"
        }
      },
      "cell_type": "markdown",
      "source": "Let's move `quotes.txt` into the current working directory. We use `mv` once again, but this time we'll just use the name of a directory as the second argument to tell `mv` that we want to keep the filename, but put the file somewhere new. (This is why the command is called \"move\".) In this case, the directory name we use is the special directory name `.` that we mentioned earlier."
    },
    {
      "metadata": {
        "slideshow": {
          "slide_type": "fragment"
        },
        "trusted": true
      },
      "cell_type": "code",
      "source": "%%bash2\nmv thesis/quotes.txt .",
      "execution_count": 23,
      "outputs": []
    },
    {
      "metadata": {
        "slideshow": {
          "slide_type": "subslide"
        }
      },
      "cell_type": "markdown",
      "source": "The effect is to move the file from the directory it was in to the current working directory. `ls` now shows us that `thesis` is empty:"
    },
    {
      "metadata": {
        "slideshow": {
          "slide_type": "fragment"
        },
        "trusted": true
      },
      "cell_type": "code",
      "source": "%%bash2\nls thesis",
      "execution_count": 24,
      "outputs": []
    },
    {
      "metadata": {
        "slideshow": {
          "slide_type": "subslide"
        }
      },
      "cell_type": "markdown",
      "source": "Further, `ls` with a filename or directory name as an argument only lists that file or directory. We can use this to see that `quotes.txt` is still in our current directory:"
    },
    {
      "metadata": {
        "slideshow": {
          "slide_type": "fragment"
        },
        "trusted": true
      },
      "cell_type": "code",
      "source": "%%bash2\nls quotes.txt",
      "execution_count": 25,
      "outputs": [
        {
          "output_type": "stream",
          "text": "quotes.txt\n",
          "name": "stdout"
        }
      ]
    },
    {
      "metadata": {
        "slideshow": {
          "slide_type": "slide"
        }
      },
      "cell_type": "markdown",
      "source": "## Exercise: Moving to the Current Folder\nAfter running the following commands, Jamie realizes that she put the files `sucrose.dat` and `maltose.dat` into the wrong folder:\n```bash\nls -F\nanalyzed/ raw/\nls -F analyzed\nfructose.dat glucose.dat maltose.dat sucrose.dat\ncd raw/\n```\nFill in the blanks to move these files to the current folder (i.e., the one she is currently in):\n```bash\nmv ___/sucrose.dat  ___/maltose.dat ___\n```\n."
    },
    {
      "metadata": {
        "slideshow": {
          "slide_type": "slide"
        }
      },
      "cell_type": "markdown",
      "source": "## Solution: Moving to the Current Folder\n```bash\nmv ../analyzed/sucrose.dat ../analyzed/maltose.dat .\n```\nRecall that `..` refers to the parent directory (i.e. one above the current directory) and that `.` refers to the current directory."
    },
    {
      "metadata": {
        "slideshow": {
          "slide_type": "slide"
        }
      },
      "cell_type": "markdown",
      "source": "The `cp` command works very much like `mv`, except it copies a file instead of moving it. We can check that it did the right thing using ls with two paths as arguments - like most Unix commands, `ls` can be given multiple paths at once:"
    },
    {
      "metadata": {
        "slideshow": {
          "slide_type": "fragment"
        },
        "trusted": true
      },
      "cell_type": "code",
      "source": "%%bash2\ncp quotes.txt thesis/quotations.txt\nls quotes.txt thesis/quotations.txt",
      "execution_count": 26,
      "outputs": [
        {
          "output_type": "stream",
          "text": "quotes.txt\nthesis/quotations.txt\n",
          "name": "stdout"
        }
      ]
    },
    {
      "metadata": {
        "slideshow": {
          "slide_type": "subslide"
        }
      },
      "cell_type": "markdown",
      "source": "To prove that we made a copy, let's delete the `quotes.txt` file in the current directory and then run that same `ls` again."
    },
    {
      "metadata": {
        "slideshow": {
          "slide_type": "fragment"
        },
        "trusted": true
      },
      "cell_type": "code",
      "source": "%%bash2\nrm quotes.txt\nls quotes.txt thesis/quotations.txt",
      "execution_count": 27,
      "outputs": [
        {
          "output_type": "stream",
          "text": "thesis/quotations.txt\n",
          "name": "stdout"
        }
      ]
    },
    {
      "metadata": {
        "slideshow": {
          "slide_type": "subslide"
        }
      },
      "cell_type": "markdown",
      "source": "This time it tells us that it can't find `quotes.txt` in the current directory, but it does find the copy in `thesis` that we didn't delete."
    },
    {
      "metadata": {
        "slideshow": {
          "slide_type": "slide"
        }
      },
      "cell_type": "markdown",
      "source": "## Information: What's In A Name?\nYou may have noticed that all of Nelle's files' names are \"something dot something\", and in this part of the lesson, we always used the extension `.txt`. This is just a convention: we can call a file `mythesis` or almost anything else we want. However, most people use two-part names most of the time to help them (and their programs) tell different kinds of files apart. The second part of such a name is called the **filename extension**, and indicates what type of data the file holds: `.txt` signals a plain text file, `.pdf` indicates a PDF document, `.cfg` is a configuration file full of parameters for some program or other, `.png` is a PNG image, and so on.\n\nThis is just a convention, albeit an important one. Files contain bytes: it's up to us and our programs to interpret those bytes according to the rules for plain text files, PDF documents, configuration files, images, and so on.\n\nNaming a PNG image of a whale as `whale.mp3` doesn't somehow magically turn it into a recording of whalesong, though it might cause the operating system to try to open it with a music player when someone double-clicks it."
    },
    {
      "metadata": {
        "slideshow": {
          "slide_type": "slide"
        }
      },
      "cell_type": "markdown",
      "source": "## Exercise: Renaming Files\nSuppose that you created a .txt file in your current directory to contain a list of the statistical tests you will need to do to analyze your data, and named it: statstics.txt\n\nAfter creating and saving this file you realize you misspelled the filename! You want to correct the mistake, which of the following commands could you use to do so?\n\n1. `cp statstics.txt statistics.txt`\n2. `mv statstics.txt statistics.txt`\n3. `mv statstics.txt .`\n4. `cp statstics.txt .`"
    },
    {
      "metadata": {
        "slideshow": {
          "slide_type": "slide"
        }
      },
      "cell_type": "markdown",
      "source": "## Solution: Renaming Files\n1. No. While this would create a file with the correct name, the incorrectly named file still exists in the directory and would need to be deleted.\n2. Yes, this would work to rename the file.\n3. No, the period(.) indicates where to move the file, but does not provide a new file name; identical file names cannot be created.\n4. No, the period(.) indicates where to copy the file, but does not provide a new file name; identical file names cannot be created."
    },
    {
      "metadata": {
        "slideshow": {
          "slide_type": "slide"
        }
      },
      "cell_type": "markdown",
      "source": "## Exercise: Moving and Copying\nWhat is the output of the closing ls command in the sequence shown below?\n```bash\npwd\n/Users/jamie/data\nls\nproteins.dat\nmkdir recombine\nmv proteins.dat recombine/\ncp recombine/proteins.dat ../proteins-saved.dat\nls\n```\n1. `proteins-saved.dat recombine`\n2. `recombine`\n3. `proteins.dat recombine`\n4. `proteins-saved.dat`\n"
    },
    {
      "metadata": {
        "slideshow": {
          "slide_type": "slide"
        }
      },
      "cell_type": "markdown",
      "source": "## Solution: Moving and Copying\n\nWe start in the `/Users/jamie/data` directory, and create a new folder called recombine. The second line moves (`mv`) the file `proteins.dat` to the new folder (`recombine`). The third line makes a copy of the file we just moved. The tricky part here is where the file was copied to. Recall that `..` means \"go up a level\", so the copied file is now in `/Users/jamie`. Notice that `..` is interpreted with respect to the current working directory, not with respect to the location of the file being copied. So, the only thing that will show using `ls` (in `/Users/jamie/data`) is the recombine folder.\n\n1. No, see explanation above. `proteins-saved.dat` is located at `/Users/jamie`\n2. Yes\n3. No, see explanation above. `proteins.dat` is located at `/Users/jamie/data/recombine`\n4. No, see explanation above. `proteins-saved.dat` is located at `/Users/jamie`"
    },
    {
      "metadata": {
        "slideshow": {
          "slide_type": "slide"
        }
      },
      "cell_type": "markdown",
      "source": "## Exercise: Copy with Multiple Filenames\nFor this exercise, you can test the commands in the data-shell/data directory.\n\nIn the example below, what does cp do when given several filenames and a directory name?\n```bash\nmkdir backup\ncp amino-acids.txt animals.txt backup/\n```\nIn the example below, what does cp do when given three or more file names?\n```bash\nls -F\namino-acids.txt  animals.txt  backup/  elements/  morse.txt  pdb/  planets.txt  salmon.txt  sunspot.txt\ncp amino-acids.txt animals.txt morse.txt\n```\n."
    },
    {
      "metadata": {
        "slideshow": {
          "slide_type": "slide"
        }
      },
      "cell_type": "markdown",
      "source": "## Solution: Copy with Multiple Filenames\nIf given more than one file name followed by a directory name (i.e. the destination directory must be the last argument), `cp` copies the files to the named directory.\n\nIf given three file names, `cp` throws an error because it is expecting a directory name as the last argument.\n```bash\ncp: target 'morse.txt' is not a directory\n```\n."
    },
    {
      "metadata": {
        "slideshow": {
          "slide_type": "slide"
        }
      },
      "cell_type": "markdown",
      "source": "## Information: Wildcards\n`*` is a wildcard. It matches zero or more characters, so `*.pdb` matches `ethane.pdb`, `propane.pdb`, and every file that ends with '.pdb'. On the other hand, `p*.pdb` only matches `pentane.pdb` and `propane.pdb`, because the 'p' at the front only matches filenames that begin with the letter 'p'.\n\n`?` is also a wildcard, but it only matches a single character. This means that `p?.pdb` would match `pi.pdb` or `p5.pdb` (if we had these two files in the molecules directory), but not `propane.pdb`. We can use any number of wildcards at a time: for example, `p*.p?*` matches anything that starts with a 'p' and ends with '.', 'p', and at least one more character (since the `?` has to match one character, and the final `*` can match any number of characters). Thus, `p*.p?*` would match `preferred.practice`, and even `p.pi` (since the first `*` can match no characters at all), but not `quality.practice` (doesn't start with 'p') or `preferred.p` (there isn't at least one character after the '.p').\n\nWhen the shell sees a wildcard, it expands the wildcard to create a list of matching filenames before running the command that was asked for. As an exception, if a wildcard expression does not match any file, Bash will pass the expression as an argument to the command as it is. For example typing `ls *.pdf` in the molecules directory (which contains only files with names ending with `.pdb`) results in an error message that there is no file called `*.pdf`. However, generally commands like `wc` and `ls` see the lists of file names matching these expressions, but not the wildcards themselves. It is the shell, not the other programs, that deals with expanding wildcards, and this is another example of orthogonal design."
    },
    {
      "metadata": {
        "slideshow": {
          "slide_type": "slide"
        }
      },
      "cell_type": "markdown",
      "source": "## Exercise: Using Wildcards\nWhen run in the molecules directory, which ls command(s) will produce this output?\n```bash\nethane.pdb methane.pdb\n```\n- `ls *t*ane.pdb`\n- `ls *t?ne.*`\n- `ls *t??ne.pdb`\n- `ls ethane.*`"
    },
    {
      "metadata": {
        "slideshow": {
          "slide_type": "slide"
        }
      },
      "cell_type": "markdown",
      "source": "## Solution: Using Wildcards\nThe solution is 3.\n1. shows all files whose names contain zero or more characters (`*`) followed by the letter `t`, then zero or more characters (`*`) followed by `ane.pdb`. This gives `ethane.pdb` `methane.pdb` `octane.pdb` `pentane.pdb`.\n2. shows all files whose names start with zero or more characters (`*`) followed by the letter `t`, then a single character (`?`), then `ne`. followed by zero or more characters (`*`). This will give us `octane.pdb` and `pentane.pdb` but doesn't match anything which ends in `thane.pdb`.\n3. fixes the problems of option 2 by matching two characters (`??`) between `t` and `ne`. This is the solution.\n4. only shows files starting with `ethane.`."
    },
    {
      "metadata": {
        "slideshow": {
          "slide_type": "slide"
        }
      },
      "cell_type": "markdown",
      "source": "## Exercise: More on Wildcards\nSam has a directory containing calibration data, datasets, and descriptions of the datasets:\n```bash\n2015-10-23-calibration.txt\n2015-10-23-dataset1.txt\n2015-10-23-dataset2.txt\n2015-10-23-dataset_overview.txt\n2015-10-26-calibration.txt\n2015-10-26-dataset1.txt\n2015-10-26-dataset2.txt\n2015-10-26-dataset_overview.txt\n2015-11-23-calibration.txt\n2015-11-23-dataset1.txt\n2015-11-23-dataset2.txt\n2015-11-23-dataset_overview.txt\n```\nBefore heading off to another field trip, she wants to back up her data and send some datasets to her colleague Bob. Sam uses the following commands to get the job done:\n```bash\ncp *dataset* /backup/datasets\ncp ____calibration____ /backup/calibration\ncp 2015-____-____ ~/send_to_bob/all_november_files/\ncp ____ ~/send_to_bob/all_datasets_created_on_a_23rd/\n```\nHelp Sam by filling in the blanks."
    },
    {
      "metadata": {
        "slideshow": {
          "slide_type": "slide"
        }
      },
      "cell_type": "markdown",
      "source": "## Solution: More on Wildcards\n```bash\ncp *calibration.txt /backup/calibration\ncp 2015-11-* ~/send_to_bob/all_november_files/\ncp *-23-dataset* ~send_to_bob/all_datasets_created_on_a_23rd/\n```\n."
    },
    {
      "metadata": {
        "slideshow": {
          "slide_type": "slide"
        }
      },
      "cell_type": "markdown",
      "source": "## Exercise: Organizing Directories and Files\nJamie is working on a project and she sees that her files aren't very well organized:\n```bash\nls -F\nanalyzed/  fructose.dat    raw/   sucrose.dat\n```\nThe `fructose.dat` and `sucrose.dat` files contain output from her data analysis. What command(s) covered in this lesson does she need to run so that the commands below will produce the output shown?\n```bash\nls -F\nanalyzed/   raw/\nls analyzed\nfructose.dat    sucrose.dat\n```\n."
    },
    {
      "metadata": {
        "slideshow": {
          "slide_type": "slide"
        }
      },
      "cell_type": "markdown",
      "source": "## Solution: Organizing Directories and Files\n```bash\nmv *.dat analyzed\n```\nJamie needs to move her files `fructose.dat` and `sucrose.dat` to the analyzed directory. The shell will expand `*.dat` to match all `.dat` files in the current directory. The `mv` command then moves the list of `.dat` files to the \"analyzed\" directory."
    },
    {
      "metadata": {
        "slideshow": {
          "slide_type": "slide"
        }
      },
      "cell_type": "markdown",
      "source": "## Exercise: Copy a folder structure but not the files\nYou're starting a new experiment, and would like to duplicate the file structure from your previous experiment without the data files so you can add new data.\n\nAssume that the file structure is in a folder called '2016-05-18-data', which contains a data folder that in turn contains folders named raw and processed that contain data files. The goal is to copy the file structure of the `2016-05-18-data` folder into a folder called `2016-05-20-data` and remove the data files from the directory you just created.\n\nWhich of the following set of commands would achieve this objective? What would the other commands do?\n\n```bash\ncp -r 2016-05-18-data/ 2016-05-20-data/\nrm 2016-05-20-data/raw/*\nrm 2016-05-20-data/processed/*\n\nrm 2016-05-20-data/raw/*\nrm 2016-05-20-data/processed/*\ncp -r 2016-05-18-data/ 2016-5-20-data/\n\ncp -r 2016-05-18-data/ 2016-05-20-data/\nrm -r -i 2016-05-20-data/\n```\n."
    },
    {
      "metadata": {
        "slideshow": {
          "slide_type": "slide"
        }
      },
      "cell_type": "markdown",
      "source": "## Solution: Copy a folder structure but not the files\nThe first set of commands achieves this objective. First we have a recursive copy of a data folder. Then two `rm` commands which remove all files in the specified directories. The shell expands the '`*`' wild card to match all files and subdirectories.\n\nThe second set of commands have the wrong order: attempting to delete files which haven't yet been copied, followed by the recursive copy command which would copy them.\n\nThe third set of commands would achieve the objective, but in a time-consuming way: the first command copies the directory recursively, but the second command deletes interactively, prompting for confirmation for each file and directory."
    },
    {
      "metadata": {
        "slideshow": {
          "slide_type": "slide"
        }
      },
      "cell_type": "markdown",
      "source": "## Key Points\n- `cp old new` copies a file.\n- `mkdir path` creates a new directory.\n- `mv old new` moves (renames) a file or directory.\n- `rm` path removes (deletes) a file.\n- `*` matches zero or more characters in a filename, so `*.txt` matches all files ending in `.txt`.\n- `?` matches any single character in a filename, so `?.txt` matches `a.txt` but not `any.txt`.\n- Use of the `Control` key may be described in many ways, including `Ctrl-X`, `Control-X`, and `^X`.\n- The shell does not have a trash bin: once something is deleted, it's really gone.\n- Depending on the type of work you do, you may need a more powerful text editor than Nano."
    }
  ],
  "metadata": {
    "celltoolbar": "Slideshow",
    "kernelspec": {
      "name": "python3",
      "display_name": "Python 3",
      "language": "python"
    },
    "language_info": {
      "mimetype": "text/x-python",
      "nbconvert_exporter": "python",
      "name": "python",
      "pygments_lexer": "ipython3",
      "version": "3.5.4",
      "file_extension": ".py",
      "codemirror_mode": {
        "version": 3,
        "name": "ipython"
      }
    }
  },
  "nbformat": 4,
  "nbformat_minor": 2
}