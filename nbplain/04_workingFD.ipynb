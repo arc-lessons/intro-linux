{
 "cells": [
  {
   "cell_type": "markdown",
   "metadata": {
    "slideshow": {
     "slide_type": "slide"
    }
   },
   "source": [
    "# Working With Files and Directories"
   ]
  },
  {
   "cell_type": "markdown",
   "metadata": {
    "slideshow": {
     "slide_type": "subslide"
    }
   },
   "source": [
    "## Overview:\n",
    "\n",
    "**Teaching:** 25 min\n",
    "\n",
    "**Exercises:** 10 min\n",
    "\n",
    "**Questions**\n",
    "- How can I create, copy, and delete files and directories?\n",
    "- How can I edit files?\n",
    "\n",
    "**Objectives**\n",
    "- Create a directory hierarchy that matches a given diagram.\n",
    "- Create files in that hierarchy using an editor or by copying and renaming existing files.\n",
    "- Delete, copy and move specified files and/or directories."
   ]
  },
  {
   "cell_type": "markdown",
   "metadata": {
    "slideshow": {
     "slide_type": "slide"
    }
   },
   "source": [
    "We now know how to explore files and directories, but how do we create them in the first place? Let's go back to our `data-shell` directory on the Desktop and use `ls -F` to see what it contains:"
   ]
  },
  {
   "cell_type": "code",
   "execution_count": 1,
   "metadata": {
    "slideshow": {
     "slide_type": "subslide"
    }
   },
   "outputs": [
    {
     "name": "stdout",
     "output_type": "stream",
     "text": [
      "/home/nbuser/library/data/data-shell\n"
     ]
    }
   ],
   "source": [
    "%%bash2 --dir ~/library/data/data-shell\n",
    "pwd"
   ]
  },
  {
   "cell_type": "markdown",
   "metadata": {
    "slideshow": {
     "slide_type": "subslide"
    }
   },
   "source": [
    "If after working through the exercises at the end of the previous lesson, you are not in your `data-shell` directory, navigate to the correct location."
   ]
  },
  {
   "cell_type": "code",
   "execution_count": 2,
   "metadata": {
    "slideshow": {
     "slide_type": "subslide"
    }
   },
   "outputs": [
    {
     "name": "stdout",
     "output_type": "stream",
     "text": [
      "creatures/\n",
      "data/\n",
      "molecules/\n",
      "north-pacific-gyre/\n",
      "notes.txt\n",
      "pizza.cfg\n",
      "solar.pdf\n",
      "thesis/\n",
      "writing/\n"
     ]
    }
   ],
   "source": [
    "%%bash2\n",
    "ls -F"
   ]
  },
  {
   "cell_type": "markdown",
   "metadata": {
    "slideshow": {
     "slide_type": "subslide"
    }
   },
   "source": [
    "Let's create a new directory called `thesis` using the command `mkdir thesis` (which has no output):"
   ]
  },
  {
   "cell_type": "code",
   "execution_count": 3,
   "metadata": {
    "slideshow": {
     "slide_type": "fragment"
    }
   },
   "outputs": [],
   "source": [
    "%%bash2\n",
    "mkdir thesis"
   ]
  },
  {
   "cell_type": "markdown",
   "metadata": {
    "slideshow": {
     "slide_type": "subslide"
    }
   },
   "source": [
    "As you might guess from its name, `mkdir` means \"make directory\". Since `thesis` is a relative path (i.e., doesn't have a leading slash), the new directory is created in the current working directory:"
   ]
  },
  {
   "cell_type": "code",
   "execution_count": 4,
   "metadata": {
    "slideshow": {
     "slide_type": "fragment"
    }
   },
   "outputs": [
    {
     "name": "stdout",
     "output_type": "stream",
     "text": [
      "creatures/\n",
      "data/\n",
      "molecules/\n",
      "north-pacific-gyre/\n",
      "notes.txt\n",
      "pizza.cfg\n",
      "solar.pdf\n",
      "thesis/\n",
      "writing/\n"
     ]
    }
   ],
   "source": [
    "%%bash2\n",
    "ls -F"
   ]
  },
  {
   "cell_type": "markdown",
   "metadata": {
    "slideshow": {
     "slide_type": "slide"
    }
   },
   "source": [
    "## Information: Two ways of doing the same thing\n",
    "Using the shell to create a directory is no different than using a file explorer. If you open the current directory using your operating system's graphical file explorer, the `thesis` directory will appear there too. While they are two different ways of interacting with the files, the files and directories themselves are the same."
   ]
  },
  {
   "cell_type": "markdown",
   "metadata": {
    "slideshow": {
     "slide_type": "slide"
    }
   },
   "source": [
    "## Information: Good names for files and directories\n",
    "Complicated names of files and directories can make your life painful when working on the command line. Here we provide a few useful tips for the names of your files.\n",
    "\n",
    "1. **Don't use whitespaces:** Whitespaces can make a name more meaningful but since whitespace is used to break arguments on the command line it is better to avoid them in names of files and directories. You can use `-` or `_` instead of whitespace.\n",
    "2. **Don't begin the name with `-` (dash):** Commands treat names starting with - as options.\n",
    "3. **Stick with letters, numbers, `.` (period or 'full stop'), `-` (dash) and `_` (underscore):** Many other characters have special meanings on the command line. We will learn about some of these during this lesson. There are special characters that can cause your command to not work as expected and can even result in data loss.\n",
    "\n",
    "If you need to refer to names of files or directories that have whitespace or another non-alphanumeric character, you should surround the name in quotes (`\"\"`)."
   ]
  },
  {
   "cell_type": "markdown",
   "metadata": {
    "slideshow": {
     "slide_type": "slide"
    }
   },
   "source": [
    "Since we've just created the `thesis` directory, there's nothing in it yet:"
   ]
  },
  {
   "cell_type": "code",
   "execution_count": 5,
   "metadata": {
    "slideshow": {
     "slide_type": "fragment"
    }
   },
   "outputs": [
    {
     "name": "stdout",
     "output_type": "stream",
     "text": [
      "quotations.txt\n"
     ]
    }
   ],
   "source": [
    "%%bash2\n",
    "ls -F thesis"
   ]
  },
  {
   "cell_type": "markdown",
   "metadata": {
    "slideshow": {
     "slide_type": "subslide"
    }
   },
   "source": [
    "Let's change our working directory to `thesis` using `cd`, then run a text editor called Nano to create a file called `draft.txt`:"
   ]
  },
  {
   "cell_type": "code",
   "execution_count": 6,
   "metadata": {
    "slideshow": {
     "slide_type": "fragment"
    }
   },
   "outputs": [],
   "source": [
    "%%bash2\n",
    "cd thesis\n",
    "# nano draft.txt\n",
    "# If you want to run nano, use the interactive terminal, it cannot be used in a notebook\n",
    "# You can instead use the %%file magic if you want to continue working in the notebook.\n",
    "# The '#' indicates a comment in bash so the command is not executred. \n",
    "# When you run at the command line you should just type: 'nano draft.txt'"
   ]
  },
  {
   "cell_type": "code",
   "execution_count": 7,
   "metadata": {
    "slideshow": {
     "slide_type": "subslide"
    }
   },
   "outputs": [
    {
     "name": "stdout",
     "output_type": "stream",
     "text": [
      "Writing draft.txt\n"
     ]
    }
   ],
   "source": [
    "%%file draft.txt\n",
    "This is my file"
   ]
  },
  {
   "cell_type": "markdown",
   "metadata": {
    "slideshow": {
     "slide_type": "slide"
    }
   },
   "source": [
    "## Information: Which Editor?\n",
    "When we say, \"`nano` is a text editor,\" we really do mean \"text\": it can only work with plain character data, not tables, images, or any other human-friendly media. We use it in examples because it is one of the least complex text editors. However, because of this trait, it may not be powerful enough or flexible enough for the work you need to do after this workshop. On Unix systems (such as Linux and Mac OS X), many programmers use Emacs or Vim (both of which require more time to learn), or a graphical editor such as Gedit. On Windows, you may wish to use Notepad++. Windows also has a built-in editor called `notepad` that can be run from the command line in the same way as `nano` for the purposes of this lesson.\n",
    "\n",
    "No matter what editor you use, you will need to know where it searches for and saves files. If you start it from the shell, it will (probably) use your current working directory as its default location. If you use your computer's start menu, it may want to save files in your desktop or documents directory instead. You can change this by navigating to another directory the first time you \"Save As…\""
   ]
  },
  {
   "cell_type": "markdown",
   "metadata": {
    "slideshow": {
     "slide_type": "slide"
    }
   },
   "source": [
    "Let's type in a few lines of text. Once we're happy with our text, we can press `Ctrl-O` (press the Ctrl or Control key and, while holding it down, press the O key) to write our data to disk (we'll be asked what file we want to save this to: press Return to accept the suggested default of `draft.txt`).\n",
    "![alttext](../images/nano-screenshot.png)\n",
    "Once our file is saved, we can use Ctrl-X to quit the editor and return to the shell."
   ]
  },
  {
   "cell_type": "markdown",
   "metadata": {
    "slideshow": {
     "slide_type": "slide"
    }
   },
   "source": [
    "## Information: Control, Ctrl, or ^ Key\n",
    "The Control key is also called the \"Ctrl\" key. There are various ways in which using the Control key may be described. For example, you may see an instruction to press the Control key and, while holding it down, press the X key, described as any of:\n",
    "- `Control-X`\n",
    "- `Control+X`\n",
    "- `Ctrl-X`\n",
    "- `Ctrl+X`\n",
    "- `^X`\n",
    "- `C-x`\n",
    "In nano, along the bottom of the screen you'll see `^G` Get Help `^O` WriteOut. This means that you can use `Control-G` to get help and `Control-O` to save your file."
   ]
  },
  {
   "cell_type": "markdown",
   "metadata": {
    "slideshow": {
     "slide_type": "slide"
    }
   },
   "source": [
    "`nano` doesn't leave any output on the screen after it exits, but `ls` now shows that we have created a file called `draft.txt`:"
   ]
  },
  {
   "cell_type": "code",
   "execution_count": 8,
   "metadata": {
    "slideshow": {
     "slide_type": "fragment"
    }
   },
   "outputs": [
    {
     "name": "stdout",
     "output_type": "stream",
     "text": [
      "draft.txt\n",
      "quotations.txt\n"
     ]
    }
   ],
   "source": [
    "%%bash2\n",
    "ls"
   ]
  },
  {
   "cell_type": "markdown",
   "metadata": {
    "slideshow": {
     "slide_type": "slide"
    }
   },
   "source": [
    "## Exercise: Creating Files a Different Way\n",
    "We have seen how to create text files using the `nano` editor. Now, try the following command in your home directory:\n",
    "\n",
    "```bash\n",
    "cd                  # go to your home directory\n",
    "touch my_file.txt\n",
    "```\n",
    "1. What did the touch command do? When you look at your home directory using the GUI file explorer, does the file show up?\n",
    "2. Use `ls -l` to inspect the files. How large is `my_file.txt`?\n",
    "3. When might you want to create a file this way?\n",
    "\n",
    "[Solution]()"
   ]
  },
  {
   "cell_type": "markdown",
   "metadata": {
    "slideshow": {
     "slide_type": "slide"
    }
   },
   "source": [
    "## Solution: Creating Files a Different Way\n",
    "1. The touch command generates a new file called 'my_file.txt' in your home directory. If you are in your home directory, you can observe this newly generated file by typing 'ls' at the command line prompt. 'my_file.txt' can also be viewed in your GUI file explorer.\n",
    "2. When you inspect the file with 'ls -l', note that the size of 'my_file.txt' is 0kb. In other words, it contains no data. If you open 'my_file.txt' using your text editor it is blank.\n",
    "3. Some programs do not generate output files themselves, but instead require that empty files have already been generated. When the program is run, it searches for an existing file to populate with its output. The touch command allows you to efficiently generate a blank text file to be used by such programs."
   ]
  },
  {
   "cell_type": "markdown",
   "metadata": {
    "slideshow": {
     "slide_type": "slide"
    }
   },
   "source": [
    "Returning to the `data-shell` directory, let's tidy up the `thesis` directory by removing the draft we created:"
   ]
  },
  {
   "cell_type": "code",
   "execution_count": 9,
   "metadata": {
    "slideshow": {
     "slide_type": "fragment"
    }
   },
   "outputs": [],
   "source": [
    "%%bash2\n",
    "#cd thesis\n",
    "rm draft.txt"
   ]
  },
  {
   "cell_type": "markdown",
   "metadata": {
    "slideshow": {
     "slide_type": "subslide"
    }
   },
   "source": [
    "This command removes files (`rm` is short for \"remove\"). If we run `ls` again, its output is empty once more, which tells us that our file is gone:"
   ]
  },
  {
   "cell_type": "code",
   "execution_count": 10,
   "metadata": {
    "slideshow": {
     "slide_type": "fragment"
    }
   },
   "outputs": [
    {
     "name": "stdout",
     "output_type": "stream",
     "text": [
      "quotations.txt\n"
     ]
    }
   ],
   "source": [
    "%%bash2\n",
    "ls"
   ]
  },
  {
   "cell_type": "markdown",
   "metadata": {
    "slideshow": {
     "slide_type": "slide"
    }
   },
   "source": [
    "## Information: Deleting Is Forever\n",
    "The Unix shell doesn't have a trash bin that we can recover deleted files from (though most graphical interfaces to Unix do). Instead, when we delete files, they are unhooked from the file system so that their storage space on disk can be recycled. Tools for finding and recovering deleted files do exist, but there's no guarantee they'll work in any particular situation, since the computer may recycle the file's disk space right away."
   ]
  },
  {
   "cell_type": "markdown",
   "metadata": {
    "slideshow": {
     "slide_type": "slide"
    }
   },
   "source": [
    "Let's re-create that file and then move up one directory to `/Users/nelle/Desktop/data-shell` using `cd ..`:"
   ]
  },
  {
   "cell_type": "code",
   "execution_count": 11,
   "metadata": {
    "slideshow": {
     "slide_type": "fragment"
    }
   },
   "outputs": [
    {
     "name": "stdout",
     "output_type": "stream",
     "text": [
      "/home/nbuser/library/data/data-shell/thesis\n"
     ]
    }
   ],
   "source": [
    "%%bash2\n",
    "pwd\n",
    "#nano draft.txt"
   ]
  },
  {
   "cell_type": "code",
   "execution_count": 12,
   "metadata": {
    "slideshow": {
     "slide_type": "subslide"
    }
   },
   "outputs": [
    {
     "name": "stdout",
     "output_type": "stream",
     "text": [
      "Writing draft.txt\n"
     ]
    }
   ],
   "source": [
    "%%file draft.txt\n",
    "Some text"
   ]
  },
  {
   "cell_type": "code",
   "execution_count": 13,
   "metadata": {
    "slideshow": {
     "slide_type": "subslide"
    }
   },
   "outputs": [
    {
     "name": "stdout",
     "output_type": "stream",
     "text": [
      "draft.txt\n",
      "quotations.txt\n"
     ]
    }
   ],
   "source": [
    "%%bash2\n",
    "ls"
   ]
  },
  {
   "cell_type": "code",
   "execution_count": 14,
   "metadata": {
    "slideshow": {
     "slide_type": "fragment"
    }
   },
   "outputs": [],
   "source": [
    "%%bash2\n",
    "cd .."
   ]
  },
  {
   "cell_type": "markdown",
   "metadata": {
    "slideshow": {
     "slide_type": "subslide"
    }
   },
   "source": [
    "If we try to remove the entire `thesis` directory using `rm thesis`, we get an error message:"
   ]
  },
  {
   "cell_type": "code",
   "execution_count": 15,
   "metadata": {
    "slideshow": {
     "slide_type": "fragment"
    }
   },
   "outputs": [],
   "source": [
    "%%bash2\n",
    "rm thesis"
   ]
  },
  {
   "cell_type": "markdown",
   "metadata": {
    "slideshow": {
     "slide_type": "subslide"
    }
   },
   "source": [
    "This happens because `rm` by default only works on files, not directories.\n",
    "\n",
    "To really get rid of `thesis` we must also delete the file `draft.txt`. We can do this with the recursive option for `rm`:"
   ]
  },
  {
   "cell_type": "code",
   "execution_count": 16,
   "metadata": {
    "slideshow": {
     "slide_type": "fragment"
    }
   },
   "outputs": [],
   "source": [
    "%%bash2\n",
    "rm -r thesis"
   ]
  },
  {
   "cell_type": "markdown",
   "metadata": {
    "slideshow": {
     "slide_type": "slide"
    }
   },
   "source": [
    "## Exercise: Using `rm` Safely\n",
    "What happens when we type `rm -i thesis/quotations.txt`? Why would we want this protection when using `rm`?\n",
    "\n",
    "(Hint: This won't work in a notebook!)\n",
    "\n",
    "[Solution]()"
   ]
  },
  {
   "cell_type": "markdown",
   "metadata": {
    "slideshow": {
     "slide_type": "slide"
    }
   },
   "source": [
    "## Solution: Using `rm` Safely\n",
    "```bash\n",
    "rm: remove regular file 'thesis/quotations.txt'?\n",
    "```\n",
    "The `-i` option will prompt before every removal. The Unix shell doesn't have a trash bin, so all the files removed will disappear forever. By using the `-i` flag, we have the chance to check that we are deleting only the files that we want to remove."
   ]
  },
  {
   "cell_type": "markdown",
   "metadata": {
    "slideshow": {
     "slide_type": "slide"
    }
   },
   "source": [
    "## Information: With Great Power Comes Great Responsibility\n",
    "Removing the files in a directory recursively can be a very dangerous operation. If we're concerned about what we might be deleting we can add the \"interactive\" flag `-i` to `rm` which will ask us for confirmation before each step\n",
    "```bash\n",
    "rm -r -i thesis\n",
    "rm: descend into directory 'thesis'? y\n",
    "rm: remove regular file 'thesis/draft.txt'? y\n",
    "rm: remove directory 'thesis'? y\n",
    "```\n",
    "This removes everything in the directory, then the directory itself, asking at each step for you to confirm the deletion."
   ]
  },
  {
   "cell_type": "markdown",
   "metadata": {
    "slideshow": {
     "slide_type": "slide"
    }
   },
   "source": [
    "Let's create that directory and file one more time. (Note that this time we're running `nano` with the path `thesis/draft.txt`, rather than going into the `thesis` directory and running `nano` on `draft.txt` there.)"
   ]
  },
  {
   "cell_type": "code",
   "execution_count": 17,
   "metadata": {
    "slideshow": {
     "slide_type": "fragment"
    }
   },
   "outputs": [
    {
     "name": "stdout",
     "output_type": "stream",
     "text": [
      "/home/nbuser/library/data/data-shell\n"
     ]
    }
   ],
   "source": [
    "%%bash2\n",
    "pwd"
   ]
  },
  {
   "cell_type": "code",
   "execution_count": 18,
   "metadata": {
    "slideshow": {
     "slide_type": "fragment"
    }
   },
   "outputs": [],
   "source": [
    "%%bash2\n",
    "mkdir thesis\n",
    "#nano thesis/draft.txt"
   ]
  },
  {
   "cell_type": "code",
   "execution_count": 19,
   "metadata": {
    "slideshow": {
     "slide_type": "subslide"
    }
   },
   "outputs": [
    {
     "name": "stdout",
     "output_type": "stream",
     "text": [
      "Writing thesis/draft.txt\n"
     ]
    }
   ],
   "source": [
    "%%file thesis/draft.txt\n",
    "More text!"
   ]
  },
  {
   "cell_type": "code",
   "execution_count": 20,
   "metadata": {
    "slideshow": {
     "slide_type": "fragment"
    }
   },
   "outputs": [
    {
     "name": "stdout",
     "output_type": "stream",
     "text": [
      "draft.txt\n"
     ]
    }
   ],
   "source": [
    "%%bash2\n",
    "ls thesis"
   ]
  },
  {
   "cell_type": "markdown",
   "metadata": {
    "slideshow": {
     "slide_type": "slide"
    }
   },
   "source": [
    "`draft.txt` isn't a particularly informative name, so let's change the file's name using `mv`, which is short for \"move\":"
   ]
  },
  {
   "cell_type": "code",
   "execution_count": 21,
   "metadata": {
    "slideshow": {
     "slide_type": "fragment"
    }
   },
   "outputs": [],
   "source": [
    "%%bash2\n",
    "mv thesis/draft.txt thesis/quotes.txt"
   ]
  },
  {
   "cell_type": "markdown",
   "metadata": {
    "slideshow": {
     "slide_type": "subslide"
    }
   },
   "source": [
    "The first argument tells `mv` what we're \"moving\", while the second is where it's to go. In this case, we're moving `thesis/draft.txt` to `thesis/quotes.txt`, which has the same effect as renaming the file. Sure enough, `ls` shows us that `thesis` now contains one file called `quotes.txt`:"
   ]
  },
  {
   "cell_type": "code",
   "execution_count": 22,
   "metadata": {
    "slideshow": {
     "slide_type": "fragment"
    }
   },
   "outputs": [
    {
     "name": "stdout",
     "output_type": "stream",
     "text": [
      "quotes.txt\n"
     ]
    }
   ],
   "source": [
    "%%bash2\n",
    "ls thesis"
   ]
  },
  {
   "cell_type": "markdown",
   "metadata": {
    "slideshow": {
     "slide_type": "subslide"
    }
   },
   "source": [
    "One has to be careful when specifying the target file name, since `mv` will silently overwrite any existing file with the same name, which could lead to data loss. An additional flag, `mv -i` (or `mv --interactive`), can be used to make `mv` ask you for confirmation before overwriting.\n",
    "\n",
    "Just for the sake of consistency, `mv` also works on directories"
   ]
  },
  {
   "cell_type": "markdown",
   "metadata": {
    "slideshow": {
     "slide_type": "slide"
    }
   },
   "source": [
    "Let's move `quotes.txt` into the current working directory. We use `mv` once again, but this time we'll just use the name of a directory as the second argument to tell `mv` that we want to keep the filename, but put the file somewhere new. (This is why the command is called \"move\".) In this case, the directory name we use is the special directory name `.` that we mentioned earlier."
   ]
  },
  {
   "cell_type": "code",
   "execution_count": 23,
   "metadata": {
    "slideshow": {
     "slide_type": "fragment"
    }
   },
   "outputs": [],
   "source": [
    "%%bash2\n",
    "mv thesis/quotes.txt ."
   ]
  },
  {
   "cell_type": "markdown",
   "metadata": {
    "slideshow": {
     "slide_type": "subslide"
    }
   },
   "source": [
    "The effect is to move the file from the directory it was in to the current working directory. `ls` now shows us that `thesis` is empty:"
   ]
  },
  {
   "cell_type": "code",
   "execution_count": 24,
   "metadata": {
    "slideshow": {
     "slide_type": "fragment"
    }
   },
   "outputs": [],
   "source": [
    "%%bash2\n",
    "ls thesis"
   ]
  },
  {
   "cell_type": "markdown",
   "metadata": {
    "slideshow": {
     "slide_type": "subslide"
    }
   },
   "source": [
    "Further, `ls` with a filename or directory name as an argument only lists that file or directory. We can use this to see that `quotes.txt` is still in our current directory:"
   ]
  },
  {
   "cell_type": "code",
   "execution_count": 25,
   "metadata": {
    "slideshow": {
     "slide_type": "fragment"
    }
   },
   "outputs": [
    {
     "name": "stdout",
     "output_type": "stream",
     "text": [
      "quotes.txt\n"
     ]
    }
   ],
   "source": [
    "%%bash2\n",
    "ls quotes.txt"
   ]
  },
  {
   "cell_type": "markdown",
   "metadata": {
    "slideshow": {
     "slide_type": "slide"
    }
   },
   "source": [
    "## Exercise: Moving to the Current Folder\n",
    "After running the following commands, Jamie realizes that she put the files `sucrose.dat` and `maltose.dat` into the wrong folder:\n",
    "```bash\n",
    "ls -F\n",
    "analyzed/ raw/\n",
    "ls -F analyzed\n",
    "fructose.dat glucose.dat maltose.dat sucrose.dat\n",
    "cd raw/\n",
    "```\n",
    "Fill in the blanks to move these files to the current folder (i.e., the one she is currently in):\n",
    "```bash\n",
    "mv ___/sucrose.dat  ___/maltose.dat ___\n",
    "```\n",
    ".\n",
    "\n",
    "[Solution]()"
   ]
  },
  {
   "cell_type": "markdown",
   "metadata": {
    "slideshow": {
     "slide_type": "slide"
    }
   },
   "source": [
    "## Solution: Moving to the Current Folder\n",
    "```bash\n",
    "mv ../analyzed/sucrose.dat ../analyzed/maltose.dat .\n",
    "```\n",
    "Recall that `..` refers to the parent directory (i.e. one above the current directory) and that `.` refers to the current directory."
   ]
  },
  {
   "cell_type": "markdown",
   "metadata": {
    "slideshow": {
     "slide_type": "slide"
    }
   },
   "source": [
    "The `cp` command works very much like `mv`, except it copies a file instead of moving it. We can check that it did the right thing using ls with two paths as arguments - like most Unix commands, `ls` can be given multiple paths at once:"
   ]
  },
  {
   "cell_type": "code",
   "execution_count": 26,
   "metadata": {
    "slideshow": {
     "slide_type": "fragment"
    }
   },
   "outputs": [
    {
     "name": "stdout",
     "output_type": "stream",
     "text": [
      "quotes.txt\n",
      "thesis/quotations.txt\n"
     ]
    }
   ],
   "source": [
    "%%bash2\n",
    "cp quotes.txt thesis/quotations.txt\n",
    "ls quotes.txt thesis/quotations.txt"
   ]
  },
  {
   "cell_type": "markdown",
   "metadata": {
    "slideshow": {
     "slide_type": "subslide"
    }
   },
   "source": [
    "To prove that we made a copy, let's delete the `quotes.txt` file in the current directory and then run that same `ls` again."
   ]
  },
  {
   "cell_type": "code",
   "execution_count": 27,
   "metadata": {
    "slideshow": {
     "slide_type": "fragment"
    }
   },
   "outputs": [
    {
     "name": "stdout",
     "output_type": "stream",
     "text": [
      "thesis/quotations.txt\n"
     ]
    }
   ],
   "source": [
    "%%bash2\n",
    "rm quotes.txt\n",
    "ls quotes.txt thesis/quotations.txt"
   ]
  },
  {
   "cell_type": "markdown",
   "metadata": {
    "slideshow": {
     "slide_type": "subslide"
    }
   },
   "source": [
    "This time it tells us that it can't find `quotes.txt` in the current directory, but it does find the copy in `thesis` that we didn't delete."
   ]
  },
  {
   "cell_type": "markdown",
   "metadata": {
    "slideshow": {
     "slide_type": "slide"
    }
   },
   "source": [
    "## Information: What's In A Name?\n",
    "You may have noticed that all of Nelle's files' names are \"something dot something\", and in this part of the lesson, we always used the extension `.txt`. This is just a convention: we can call a file `mythesis` or almost anything else we want. However, most people use two-part names most of the time to help them (and their programs) tell different kinds of files apart. The second part of such a name is called the **filename extension**, and indicates what type of data the file holds: `.txt` signals a plain text file, `.pdf` indicates a PDF document, `.cfg` is a configuration file full of parameters for some program or other, `.png` is a PNG image, and so on.\n",
    "\n",
    "This is just a convention, albeit an important one. Files contain bytes: it's up to us and our programs to interpret those bytes according to the rules for plain text files, PDF documents, configuration files, images, and so on.\n",
    "\n",
    "Naming a PNG image of a whale as `whale.mp3` doesn't somehow magically turn it into a recording of whalesong, though it might cause the operating system to try to open it with a music player when someone double-clicks it."
   ]
  },
  {
   "cell_type": "markdown",
   "metadata": {
    "slideshow": {
     "slide_type": "slide"
    }
   },
   "source": [
    "## Exercise: Renaming Files\n",
    "Suppose that you created a .txt file in your current directory to contain a list of the statistical tests you will need to do to analyze your data, and named it: statstics.txt\n",
    "\n",
    "After creating and saving this file you realize you misspelled the filename! You want to correct the mistake, which of the following commands could you use to do so?\n",
    "\n",
    "1. `cp statstics.txt statistics.txt`\n",
    "2. `mv statstics.txt statistics.txt`\n",
    "3. `mv statstics.txt .`\n",
    "4. `cp statstics.txt .`\n",
    "\n",
    "[Solution]()"
   ]
  },
  {
   "cell_type": "markdown",
   "metadata": {
    "slideshow": {
     "slide_type": "slide"
    }
   },
   "source": [
    "## Solution: Renaming Files\n",
    "1. No. While this would create a file with the correct name, the incorrectly named file still exists in the directory and would need to be deleted.\n",
    "2. Yes, this would work to rename the file.\n",
    "3. No, the period(.) indicates where to move the file, but does not provide a new file name; identical file names cannot be created.\n",
    "4. No, the period(.) indicates where to copy the file, but does not provide a new file name; identical file names cannot be created."
   ]
  },
  {
   "cell_type": "markdown",
   "metadata": {
    "slideshow": {
     "slide_type": "slide"
    }
   },
   "source": [
    "## Exercise: Moving and Copying\n",
    "What is the output of the closing ls command in the sequence shown below?\n",
    "```bash\n",
    "pwd\n",
    "/Users/jamie/data\n",
    "ls\n",
    "proteins.dat\n",
    "mkdir recombine\n",
    "mv proteins.dat recombine/\n",
    "cp recombine/proteins.dat ../proteins-saved.dat\n",
    "ls\n",
    "```\n",
    "1. `proteins-saved.dat recombine`\n",
    "2. `recombine`\n",
    "3. `proteins.dat recombine`\n",
    "4. `proteins-saved.dat`\n",
    "\n",
    "[Solution]()"
   ]
  },
  {
   "cell_type": "markdown",
   "metadata": {
    "slideshow": {
     "slide_type": "slide"
    }
   },
   "source": [
    "## Solution: Moving and Copying\n",
    "\n",
    "We start in the `/Users/jamie/data` directory, and create a new folder called recombine. The second line moves (`mv`) the file `proteins.dat` to the new folder (`recombine`). The third line makes a copy of the file we just moved. The tricky part here is where the file was copied to. Recall that `..` means \"go up a level\", so the copied file is now in `/Users/jamie`. Notice that `..` is interpreted with respect to the current working directory, not with respect to the location of the file being copied. So, the only thing that will show using `ls` (in `/Users/jamie/data`) is the recombine folder.\n",
    "\n",
    "1. No, see explanation above. `proteins-saved.dat` is located at `/Users/jamie`\n",
    "2. Yes\n",
    "3. No, see explanation above. `proteins.dat` is located at `/Users/jamie/data/recombine`\n",
    "4. No, see explanation above. `proteins-saved.dat` is located at `/Users/jamie`"
   ]
  },
  {
   "cell_type": "markdown",
   "metadata": {
    "slideshow": {
     "slide_type": "slide"
    }
   },
   "source": [
    "## Exercise: Copy with Multiple Filenames\n",
    "For this exercise, you can test the commands in the data-shell/data directory.\n",
    "\n",
    "In the example below, what does cp do when given several filenames and a directory name?\n",
    "```bash\n",
    "mkdir backup\n",
    "cp amino-acids.txt animals.txt backup/\n",
    "```\n",
    "In the example below, what does cp do when given three or more file names?\n",
    "```bash\n",
    "ls -F\n",
    "amino-acids.txt  animals.txt  backup/  elements/  morse.txt  pdb/  planets.txt  salmon.txt  sunspot.txt\n",
    "cp amino-acids.txt animals.txt morse.txt\n",
    "```\n",
    ".\n",
    "[Solution]()"
   ]
  },
  {
   "cell_type": "markdown",
   "metadata": {
    "slideshow": {
     "slide_type": "slide"
    }
   },
   "source": [
    "## Solution: Copy with Multiple Filenames\n",
    "If given more than one file name followed by a directory name (i.e. the destination directory must be the last argument), `cp` copies the files to the named directory.\n",
    "\n",
    "If given three file names, `cp` throws an error because it is expecting a directory name as the last argument.\n",
    "```bash\n",
    "cp: target 'morse.txt' is not a directory\n",
    "```\n",
    "."
   ]
  },
  {
   "cell_type": "markdown",
   "metadata": {
    "slideshow": {
     "slide_type": "slide"
    }
   },
   "source": [
    "## Information: Wildcards\n",
    "`*` is a wildcard. It matches zero or more characters, so `*.pdb` matches `ethane.pdb`, `propane.pdb`, and every file that ends with '.pdb'. On the other hand, `p*.pdb` only matches `pentane.pdb` and `propane.pdb`, because the 'p' at the front only matches filenames that begin with the letter 'p'.\n",
    "\n",
    "`?` is also a wildcard, but it only matches a single character. This means that `p?.pdb` would match `pi.pdb` or `p5.pdb` (if we had these two files in the molecules directory), but not `propane.pdb`. We can use any number of wildcards at a time: for example, `p*.p?*` matches anything that starts with a 'p' and ends with '.', 'p', and at least one more character (since the `?` has to match one character, and the final `*` can match any number of characters). Thus, `p*.p?*` would match `preferred.practice`, and even `p.pi` (since the first `*` can match no characters at all), but not `quality.practice` (doesn't start with 'p') or `preferred.p` (there isn't at least one character after the '.p').\n",
    "\n",
    "When the shell sees a wildcard, it expands the wildcard to create a list of matching filenames before running the command that was asked for. As an exception, if a wildcard expression does not match any file, Bash will pass the expression as an argument to the command as it is. For example typing `ls *.pdf` in the molecules directory (which contains only files with names ending with `.pdb`) results in an error message that there is no file called `*.pdf`. However, generally commands like `wc` and `ls` see the lists of file names matching these expressions, but not the wildcards themselves. It is the shell, not the other programs, that deals with expanding wildcards, and this is another example of orthogonal design."
   ]
  },
  {
   "cell_type": "markdown",
   "metadata": {
    "slideshow": {
     "slide_type": "slide"
    }
   },
   "source": [
    "## Exercise: Using Wildcards\n",
    "When run in the molecules directory, which ls command(s) will produce this output?\n",
    "```bash\n",
    "ethane.pdb methane.pdb\n",
    "```\n",
    "- `ls *t*ane.pdb`\n",
    "- `ls *t?ne.*`\n",
    "- `ls *t??ne.pdb`\n",
    "- `ls ethane.*`\n",
    "\n",
    "[Solution]()"
   ]
  },
  {
   "cell_type": "markdown",
   "metadata": {
    "slideshow": {
     "slide_type": "slide"
    }
   },
   "source": [
    "## Solution: Using Wildcards\n",
    "The solution is 3.\n",
    "1. shows all files whose names contain zero or more characters (`*`) followed by the letter `t`, then zero or more characters (`*`) followed by `ane.pdb`. This gives `ethane.pdb` `methane.pdb` `octane.pdb` `pentane.pdb`.\n",
    "2. shows all files whose names start with zero or more characters (`*`) followed by the letter `t`, then a single character (`?`), then `ne`. followed by zero or more characters (`*`). This will give us `octane.pdb` and `pentane.pdb` but doesn't match anything which ends in `thane.pdb`.\n",
    "3. fixes the problems of option 2 by matching two characters (`??`) between `t` and `ne`. This is the solution.\n",
    "4. only shows files starting with `ethane.`."
   ]
  },
  {
   "cell_type": "markdown",
   "metadata": {
    "slideshow": {
     "slide_type": "slide"
    }
   },
   "source": [
    "## Exercise: More on Wildcards\n",
    "Sam has a directory containing calibration data, datasets, and descriptions of the datasets:\n",
    "```bash\n",
    "2015-10-23-calibration.txt\n",
    "2015-10-23-dataset1.txt\n",
    "2015-10-23-dataset2.txt\n",
    "2015-10-23-dataset_overview.txt\n",
    "2015-10-26-calibration.txt\n",
    "2015-10-26-dataset1.txt\n",
    "2015-10-26-dataset2.txt\n",
    "2015-10-26-dataset_overview.txt\n",
    "2015-11-23-calibration.txt\n",
    "2015-11-23-dataset1.txt\n",
    "2015-11-23-dataset2.txt\n",
    "2015-11-23-dataset_overview.txt\n",
    "```\n",
    "Before heading off to another field trip, she wants to back up her data and send some datasets to her colleague Bob. Sam uses the following commands to get the job done:\n",
    "```bash\n",
    "cp *dataset* /backup/datasets\n",
    "cp ____calibration____ /backup/calibration\n",
    "cp 2015-____-____ ~/send_to_bob/all_november_files/\n",
    "cp ____ ~/send_to_bob/all_datasets_created_on_a_23rd/\n",
    "```\n",
    "Help Sam by filling in the blanks.\n",
    "\n",
    "[Solution]()"
   ]
  },
  {
   "cell_type": "markdown",
   "metadata": {
    "slideshow": {
     "slide_type": "slide"
    }
   },
   "source": [
    "## Solution: More on Wildcards\n",
    "```bash\n",
    "cp *calibration.txt /backup/calibration\n",
    "cp 2015-11-* ~/send_to_bob/all_november_files/\n",
    "cp *-23-dataset* ~send_to_bob/all_datasets_created_on_a_23rd/\n",
    "```\n",
    "."
   ]
  },
  {
   "cell_type": "markdown",
   "metadata": {
    "slideshow": {
     "slide_type": "slide"
    }
   },
   "source": [
    "## Exercise: Organizing Directories and Files\n",
    "Jamie is working on a project and she sees that her files aren't very well organized:\n",
    "```bash\n",
    "ls -F\n",
    "analyzed/  fructose.dat    raw/   sucrose.dat\n",
    "```\n",
    "The `fructose.dat` and `sucrose.dat` files contain output from her data analysis. What command(s) covered in this lesson does she need to run so that the commands below will produce the output shown?\n",
    "```bash\n",
    "ls -F\n",
    "analyzed/   raw/\n",
    "ls analyzed\n",
    "fructose.dat    sucrose.dat\n",
    "```\n",
    ".\n",
    "[Solution]()"
   ]
  },
  {
   "cell_type": "markdown",
   "metadata": {
    "slideshow": {
     "slide_type": "slide"
    }
   },
   "source": [
    "## Solution: Organizing Directories and Files\n",
    "```bash\n",
    "mv *.dat analyzed\n",
    "```\n",
    "Jamie needs to move her files `fructose.dat` and `sucrose.dat` to the analyzed directory. The shell will expand `*.dat` to match all `.dat` files in the current directory. The `mv` command then moves the list of `.dat` files to the \"analyzed\" directory."
   ]
  },
  {
   "cell_type": "markdown",
   "metadata": {
    "slideshow": {
     "slide_type": "slide"
    }
   },
   "source": [
    "## Exercise: Copy a folder structure but not the files\n",
    "You're starting a new experiment, and would like to duplicate the file structure from your previous experiment without the data files so you can add new data.\n",
    "\n",
    "Assume that the file structure is in a folder called '2016-05-18-data', which contains a data folder that in turn contains folders named raw and processed that contain data files. The goal is to copy the file structure of the `2016-05-18-data` folder into a folder called `2016-05-20-data` and remove the data files from the directory you just created.\n",
    "\n",
    "Which of the following set of commands would achieve this objective? What would the other commands do?\n",
    "\n",
    "```bash\n",
    "cp -r 2016-05-18-data/ 2016-05-20-data/\n",
    "rm 2016-05-20-data/raw/*\n",
    "rm 2016-05-20-data/processed/*\n",
    "\n",
    "rm 2016-05-20-data/raw/*\n",
    "rm 2016-05-20-data/processed/*\n",
    "cp -r 2016-05-18-data/ 2016-5-20-data/\n",
    "\n",
    "cp -r 2016-05-18-data/ 2016-05-20-data/\n",
    "rm -r -i 2016-05-20-data/\n",
    "```\n",
    ".\n",
    "[Solution]()"
   ]
  },
  {
   "cell_type": "markdown",
   "metadata": {
    "slideshow": {
     "slide_type": "slide"
    }
   },
   "source": [
    "## Solution: Copy a folder structure but not the files\n",
    "The first set of commands achieves this objective. First we have a recursive copy of a data folder. Then two `rm` commands which remove all files in the specified directories. The shell expands the '`*`' wild card to match all files and subdirectories.\n",
    "\n",
    "The second set of commands have the wrong order: attempting to delete files which haven't yet been copied, followed by the recursive copy command which would copy them.\n",
    "\n",
    "The third set of commands would achieve the objective, but in a time-consuming way: the first command copies the directory recursively, but the second command deletes interactively, prompting for confirmation for each file and directory."
   ]
  },
  {
   "cell_type": "markdown",
   "metadata": {
    "slideshow": {
     "slide_type": "slide"
    }
   },
   "source": [
    "## Key Points\n",
    "- `cp old new` copies a file.\n",
    "- `mkdir path` creates a new directory.\n",
    "- `mv old new` moves (renames) a file or directory.\n",
    "- `rm` path removes (deletes) a file.\n",
    "- `*` matches zero or more characters in a filename, so `*.txt` matches all files ending in `.txt`.\n",
    "- `?` matches any single character in a filename, so `?.txt` matches `a.txt` but not `any.txt`.\n",
    "- Use of the `Control` key may be described in many ways, including `Ctrl-X`, `Control-X`, and `^X`.\n",
    "- The shell does not have a trash bin: once something is deleted, it's really gone.\n",
    "- Depending on the type of work you do, you may need a more powerful text editor than Nano."
   ]
  }
 ],
 "metadata": {
  "celltoolbar": "Slideshow",
  "kernelspec": {
   "display_name": "Python 3",
   "language": "python",
   "name": "python3"
  },
  "language_info": {
   "codemirror_mode": {
    "name": "ipython",
    "version": 3
   },
   "file_extension": ".py",
   "mimetype": "text/x-python",
   "name": "python",
   "nbconvert_exporter": "python",
   "pygments_lexer": "ipython3",
   "version": "3.5.4"
  }
 },
 "nbformat": 4,
 "nbformat_minor": 2
}
