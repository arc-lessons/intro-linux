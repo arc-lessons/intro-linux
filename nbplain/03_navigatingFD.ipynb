{
 "cells": [
  {
   "cell_type": "markdown",
   "metadata": {
    "slideshow": {
     "slide_type": "slide"
    }
   },
   "source": [
    "# Navigating Files and Directories"
   ]
  },
  {
   "cell_type": "markdown",
   "metadata": {
    "slideshow": {
     "slide_type": "subslide"
    }
   },
   "source": [
    "## Overview:\n",
    "\n",
    "- **Teaching:** 20 min\n",
    "- **Exercises:** 10 min\n",
    "\n",
    "**Questions**\n",
    "- How can I move around on my computer?\n",
    "- How can I see what files and directories I have?\n",
    "- How can I specify the location of a file or directory on my computer?\n",
    "\n",
    "**Objectives**\n",
    "- Explain the similarities and differences between a file and a directory.\n",
    "- Translate an absolute path into a relative path and vice versa.\n",
    "- Construct absolute and relative paths that identify specific files and directories.\n",
    "- Explain the steps in the shell’s read-run-print cycle.\n",
    "- Identify the actual command, flags, and filenames in a command-line call.\n",
    "- Demonstrate the use of tab completion, and explain its advantages."
   ]
  },
  {
   "cell_type": "markdown",
   "metadata": {
    "slideshow": {
     "slide_type": "slide"
    }
   },
   "source": [
    "## Information: Shell Commands\n",
    "\n",
    "In order to generate the material for this lesson, we make use of Jupyter Notebooks.  More on them later ...\n",
    "\n",
    "Practically, this means we have to tell the notebook that we want to execute a shell or **bash** command.  We do this with a line which begins:\n",
    "\n",
    "`%%bash2`\n",
    "\n",
    "You will not need to enter this command as you are already running bash in your terminal.  So whenever you are instructed to type a command ignore this line."
   ]
  },
  {
   "cell_type": "markdown",
   "metadata": {
    "slideshow": {
     "slide_type": "slide"
    }
   },
   "source": [
    "## whoami\n",
    "\n",
    "When you log on you will see a **prompt** that looks something like:\n",
    "\n",
    "```bash\n",
    "nbuser@nbserver:~$\n",
    "```\n",
    "\n",
    "On some systems the first part of this will be your username as your username, but we are running in the notebooks terminal which has created a special user for us **nbuser** and the terminal session is running on a server called **nbserver**.  Type the command `whoami`, then press the Enter key (sometimes marked Return) to send the command to the shell. The command’s output is the ID of the current user, i.e., it shows us who the shell thinks we are:"
   ]
  },
  {
   "cell_type": "code",
   "execution_count": 1,
   "metadata": {
    "slideshow": {
     "slide_type": "slide"
    }
   },
   "outputs": [
    {
     "name": "stdout",
     "output_type": "stream",
     "text": [
      "nbuser\n"
     ]
    }
   ],
   "source": [
    "%%bash2 --dir ~\n",
    "whoami"
   ]
  },
  {
   "cell_type": "markdown",
   "metadata": {
    "slideshow": {
     "slide_type": "slide"
    }
   },
   "source": [
    "More specifically, when we type whoami the shell:\n",
    "\n",
    "1. finds a program called whoami,\n",
    "2. runs that program,\n",
    "3. displays that program’s output, then\n",
    "4. displays a new prompt to tell us that it’s ready for more commands."
   ]
  },
  {
   "cell_type": "markdown",
   "metadata": {
    "slideshow": {
     "slide_type": "slide"
    }
   },
   "source": [
    "In this lesson, we have used the username `nbuser` or `nelle` (associated with our hypothetical scientist Nelle) in example input and output throughout.\n",
    "However, when you type this lesson’s commands on your computer or another system, you could see and use something different, namely, the username associated with the user account on your computer. This username will be the output from `whoami`. On other systems, in what follows, `nbuser` or `nelle` should always be replaced by that username."
   ]
  },
  {
   "cell_type": "markdown",
   "metadata": {
    "slideshow": {
     "slide_type": "slide"
    }
   },
   "source": [
    "## The linux file system\n",
    "\n",
    "The part of the operating system responsible for managing files and directories is called the **file system**. It organizes our data into files, which hold information, and directories (also called \"folders\"), which hold files or other directories.\n",
    "\n",
    "Several commands are frequently used to create, inspect, rename, and delete files and directories. To start exploring them, we'll go to our open shell window."
   ]
  },
  {
   "cell_type": "markdown",
   "metadata": {
    "slideshow": {
     "slide_type": "slide"
    }
   },
   "source": [
    "First let's find out where we are by running a command called `pwd` (which stands for \"print working directory\"). Directories are like places - at any time while we are using the shell we are in exactly one place, called our current working directory. Commands mostly read and write files in the **current(present) working directory**, i.e. \"here\", so knowing where you are before running a command is important. `pwd` shows you where you are:"
   ]
  },
  {
   "cell_type": "code",
   "execution_count": 2,
   "metadata": {
    "slideshow": {
     "slide_type": "fragment"
    }
   },
   "outputs": [
    {
     "name": "stdout",
     "output_type": "stream",
     "text": [
      "/home/nbuser\n"
     ]
    }
   ],
   "source": [
    "%%bash2\n",
    "pwd"
   ]
  },
  {
   "cell_type": "markdown",
   "metadata": {
    "slideshow": {
     "slide_type": "fragment"
    }
   },
   "source": [
    "Here, the computer's response is as above, which the `data-shell` directory we extracted on the schedule page."
   ]
  },
  {
   "cell_type": "markdown",
   "metadata": {
    "slideshow": {
     "slide_type": "slide"
    }
   },
   "source": [
    "## Information: Home Directory Variation\n",
    "The home directory path will look different on different operating systems. On Linux it may look like `/home/nelle`, and on Windows it will be similar to `C:\\Documents and Settings\\nelle` or `C:\\Users\\nelle`.\n",
    "\n",
    "(Note that it may look slightly different for different versions of Windows.) In all of our examples, we've used jupyter notebooks output as the default - Linux, Windows and Mac output will differ.\n",
    "    \n",
    "Jupyter sets the working directory to the folder in which the notebook is stored, we will often overide this using magics, as discussed in the setup."
   ]
  },
  {
   "cell_type": "markdown",
   "metadata": {
    "slideshow": {
     "slide_type": "subslide"
    }
   },
   "source": [
    "To understand what a \"home directory\" is, let's have a look at how the file system as a whole is organized. For the sake of this example, we'll be illustrating the filesystem on our scientist Nelle's computer. After this illustration, you'll be learning commands to explore your own filesystem, which will be constructed in a similar way, but not be exactly identical."
   ]
  },
  {
   "cell_type": "markdown",
   "metadata": {
    "slideshow": {
     "slide_type": "subslide"
    }
   },
   "source": [
    "On Nelle's computer, the filesystem looks like this:\n",
    "\n",
    "![Nelle's filesystem](../images/filesystem.png)\n",
    "\n",
    "At the top is the root directory that holds everything else. We refer to it using a slash character, `/`, on its own; this is the leading slash in `/Users/nelle`."
   ]
  },
  {
   "cell_type": "markdown",
   "metadata": {
    "slideshow": {
     "slide_type": "subslide"
    }
   },
   "source": [
    "Inside that directory are several other directories: `bin` (which is where some built-in programs are stored), `data` (for miscellaneous data files), `Users` (where users' personal directories are located), `tmp` (for temporary files that don't need to be stored long-term), and so on.\n",
    "\n",
    "We know that our current working directory `/Users/nelle` is stored inside `/Users` because `/Users` is the first part of its name. Similarly, we know that `/Users` is stored inside the root directory `/` because its name begins with `/`."
   ]
  },
  {
   "cell_type": "markdown",
   "metadata": {
    "slideshow": {
     "slide_type": "slide"
    }
   },
   "source": [
    "## Information: Slashes\n",
    "Notice that there are two meanings for the `/` character. When it appears at the front of a file or directory name, it refers to the root directory. When it appears *inside* a name, it's just a separator."
   ]
  },
  {
   "cell_type": "markdown",
   "metadata": {
    "slideshow": {
     "slide_type": "subslide"
    }
   },
   "source": [
    "Underneath `/Users`, we find one directory for each user with an account on Nelle's machine, her colleagues the Mummy and Wolfman.\n",
    "\n",
    "![](../images/home-directories.svg)\n",
    "\n",
    "The Mummy's files are stored in `/Users/imhotep`, Wolfman's in `/Users/larry`, and Nelle's in `Users/nelle`. Because Nelle is the user in our examples here, this is why we get `/Users/nelle` as our home directory.\n",
    "Typically, when you open a new command prompt you will be in your home directory to start.\n",
    "\n",
    "Now let's learn the command that will let us see the contents of our own filesystem. We can see what's in the `data-shell` directory by running `ls`, which stands for \"listing\":"
   ]
  },
  {
   "cell_type": "code",
   "execution_count": 3,
   "metadata": {
    "slideshow": {
     "slide_type": "subslide"
    }
   },
   "outputs": [
    {
     "name": "stdout",
     "output_type": "stream",
     "text": [
      "anaconda2_501\n",
      "anaconda3_420\n",
      "anaconda3_501\n",
      "IfSharp\n",
      "library\n",
      "R\n"
     ]
    }
   ],
   "source": [
    "%%bash2\n",
    "ls"
   ]
  },
  {
   "cell_type": "markdown",
   "metadata": {
    "slideshow": {
     "slide_type": "subslide"
    }
   },
   "source": [
    "`ls` prints the names of the files and directories in the current directory. We can make its output more comprehensible by using the **flag** `-F` (also known as a **switch** or an **option**) , which tells `ls` to add a marker to file and directory names to indicate what they are. A trailing `/` indicates that this is a directory. Depending on your settings, it might also use colors to indicate whether each entry is a file or directory."
   ]
  },
  {
   "cell_type": "code",
   "execution_count": 5,
   "metadata": {
    "slideshow": {
     "slide_type": "subslide"
    }
   },
   "outputs": [
    {
     "name": "stdout",
     "output_type": "stream",
     "text": [
      "anaconda2_501/\n",
      "anaconda3_420/\n",
      "anaconda3_501/\n",
      "IfSharp/\n",
      "library/\n",
      "R/\n"
     ]
    }
   ],
   "source": [
    "%%bash2\n",
    "ls -F"
   ]
  },
  {
   "cell_type": "markdown",
   "metadata": {
    "slideshow": {
     "slide_type": "slide"
    }
   },
   "source": [
    "## Getting help\n",
    "\n",
    "`ls` has lots of other flags. There are two common ways to find out how to use a command and what flags it accepts:\n",
    "\n",
    "1. We can pass a `--help` flag to the command, such as: `ls --help`\n",
    "2. We can read its manual with man, such as: `man -ls`\n",
    "\n",
    "**Depending on your environment you might find that only one of these works (either `man` or `--help`)**. We'll describe both ways below."
   ]
  },
  {
   "cell_type": "markdown",
   "metadata": {
    "slideshow": {
     "slide_type": "subslide"
    }
   },
   "source": [
    "### The `--help` flag\n",
    "\n",
    "Many bash commands, and programs that people have written that can be run from within bash, support a `--help` flag to display more information on how to use the command or program."
   ]
  },
  {
   "cell_type": "code",
   "execution_count": 8,
   "metadata": {
    "slideshow": {
     "slide_type": "subslide"
    }
   },
   "outputs": [
    {
     "name": "stdout",
     "output_type": "stream",
     "text": [
      "Usage: ls [OPTION]... [FILE]...\n",
      "List information about the FILEs (the current directory by default).\n",
      "Sort entries alphabetically if none of -cftuvSUX nor --sort is specified.\n",
      "\n",
      "Mandatory arguments to long options are mandatory for short options too.\n",
      "  -a, --all                  do not ignore entries starting with .\n",
      "  -A, --almost-all           do not list implied . and ..\n",
      "      --author               with -l, print the author of each file\n",
      "  -b, --escape               print C-style escapes for nongraphic characters\n",
      "      --block-size=SIZE      scale sizes by SIZE before printing them; e.g.,\n",
      "                               '--block-size=M' prints sizes in units of\n",
      "                               1,048,576 bytes; see SIZE format below\n",
      "  -B, --ignore-backups       do not list implied entries ending with ~\n",
      "  -c                         with -lt: sort by, and show, ctime (time of last\n",
      "                               modification of file status information);\n",
      "                               with -l: show ctime and sort by name;\n",
      "                               otherwise: sort by ctime, newest first\n",
      "  -C                         list entries by columns\n",
      "      --color[=WHEN]         colorize the output; WHEN can be 'always' (default\n",
      "                               if omitted), 'auto', or 'never'; more info below\n",
      "  -d, --directory            list directories themselves, not their contents\n",
      "  -D, --dired                generate output designed for Emacs' dired mode\n",
      "  -f                         do not sort, enable -aU, disable -ls --color\n",
      "  -F, --classify             append indicator (one of */=>@|) to entries\n",
      "      --file-type            likewise, except do not append '*'\n",
      "      --format=WORD          across -x, commas -m, horizontal -x, long -l,\n",
      "                               single-column -1, verbose -l, vertical -C\n",
      "      --full-time            like -l --time-style=full-iso\n",
      "  -g                         like -l, but do not list owner\n",
      "      --group-directories-first\n",
      "                             group directories before files;\n",
      "                               can be augmented with a --sort option, but any\n",
      "                               use of --sort=none (-U) disables grouping\n",
      "  -G, --no-group             in a long listing, don't print group names\n",
      "  -h, --human-readable       with -l and/or -s, print human readable sizes\n",
      "                               (e.g., 1K 234M 2G)\n",
      "      --si                   likewise, but use powers of 1000 not 1024\n",
      "  -H, --dereference-command-line\n",
      "                             follow symbolic links listed on the command line\n",
      "      --dereference-command-line-symlink-to-dir\n",
      "                             follow each command line symbolic link\n",
      "                               that points to a directory\n",
      "      --hide=PATTERN         do not list implied entries matching shell PATTERN\n",
      "                               (overridden by -a or -A)\n",
      "      --indicator-style=WORD  append indicator with style WORD to entry names:\n",
      "                               none (default), slash (-p),\n",
      "                               file-type (--file-type), classify (-F)\n",
      "  -i, --inode                print the index number of each file\n",
      "  -I, --ignore=PATTERN       do not list implied entries matching shell PATTERN\n",
      "  -k, --kibibytes            default to 1024-byte blocks for disk usage\n",
      "  -l                         use a long listing format\n",
      "  -L, --dereference          when showing file information for a symbolic\n",
      "                               link, show information for the file the link\n",
      "                               references rather than for the link itself\n",
      "  -m                         fill width with a comma separated list of entries\n",
      "  -n, --numeric-uid-gid      like -l, but list numeric user and group IDs\n",
      "  -N, --literal              print raw entry names (don't treat e.g. control\n",
      "                               characters specially)\n",
      "  -o                         like -l, but do not list group information\n",
      "  -p, --indicator-style=slash\n",
      "                             append / indicator to directories\n",
      "  -q, --hide-control-chars   print ? instead of nongraphic characters\n",
      "      --show-control-chars   show nongraphic characters as-is (the default,\n",
      "                               unless program is 'ls' and output is a terminal)\n",
      "  -Q, --quote-name           enclose entry names in double quotes\n",
      "      --quoting-style=WORD   use quoting style WORD for entry names:\n",
      "                               literal, locale, shell, shell-always,\n",
      "                               shell-escape, shell-escape-always, c, escape\n",
      "  -r, --reverse              reverse order while sorting\n",
      "  -R, --recursive            list subdirectories recursively\n",
      "  -s, --size                 print the allocated size of each file, in blocks\n",
      "  -S                         sort by file size, largest first\n",
      "      --sort=WORD            sort by WORD instead of name: none (-U), size (-S),\n",
      "                               time (-t), version (-v), extension (-X)\n",
      "      --time=WORD            with -l, show time as WORD instead of default\n",
      "                               modification time: atime or access or use (-u);\n",
      "                               ctime or status (-c); also use specified time\n",
      "                               as sort key if --sort=time (newest first)\n",
      "      --time-style=STYLE     with -l, show times using style STYLE:\n",
      "                               full-iso, long-iso, iso, locale, or +FORMAT;\n",
      "                               FORMAT is interpreted like in 'date'; if FORMAT\n",
      "                               is FORMAT1<newline>FORMAT2, then FORMAT1 applies\n",
      "                               to non-recent files and FORMAT2 to recent files;\n",
      "                               if STYLE is prefixed with 'posix-', STYLE\n",
      "                               takes effect only outside the POSIX locale\n",
      "  -t                         sort by modification time, newest first\n",
      "  -T, --tabsize=COLS         assume tab stops at each COLS instead of 8\n",
      "  -u                         with -lt: sort by, and show, access time;\n",
      "                               with -l: show access time and sort by name;\n",
      "                               otherwise: sort by access time, newest first\n",
      "  -U                         do not sort; list entries in directory order\n",
      "  -v                         natural sort of (version) numbers within text\n",
      "  -w, --width=COLS           set output width to COLS.  0 means no limit\n",
      "  -x                         list entries by lines instead of by columns\n",
      "  -X                         sort alphabetically by entry extension\n",
      "  -Z, --context              print any security context of each file\n",
      "  -1                         list one file per line.  Avoid '\\n' with -q or -b\n",
      "      --help     display this help and exit\n",
      "      --version  output version information and exit\n",
      "\n",
      "The SIZE argument is an integer and optional unit (example: 10K is 10*1024).\n",
      "Units are K,M,G,T,P,E,Z,Y (powers of 1024) or KB,MB,... (powers of 1000).\n",
      "\n",
      "Using color to distinguish file types is disabled both by default and\n",
      "with --color=never.  With --color=auto, ls emits color codes only when\n",
      "standard output is connected to a terminal.  The LS_COLORS environment\n",
      "variable can change the settings.  Use the dircolors command to set it.\n",
      "\n",
      "Exit status:\n",
      " 0  if OK,\n",
      " 1  if minor problems (e.g., cannot access subdirectory),\n",
      " 2  if serious trouble (e.g., cannot access command-line argument).\n",
      "\n",
      "GNU coreutils online help: <http://www.gnu.org/software/coreutils/>\n",
      "Full documentation at: <http://www.gnu.org/software/coreutils/ls>\n",
      "or available locally via: info '(coreutils) ls invocation'\n"
     ]
    }
   ],
   "source": [
    "%%bash2\n",
    "ls --help"
   ]
  },
  {
   "cell_type": "markdown",
   "metadata": {
    "slideshow": {
     "slide_type": "slide"
    }
   },
   "source": [
    "## Information: Unsupported command-line options\n",
    "\n",
    "If you try to use an option (flag) that is not supported, `ls` and other programs will usually print an error message similar to:\n",
    "```bash\n",
    "ls -j\n",
    "ls: invalid option -- 'j'\n",
    "Try 'ls --help' for more information.\n",
    "```\n",
    "."
   ]
  },
  {
   "cell_type": "code",
   "execution_count": 9,
   "metadata": {
    "slideshow": {
     "slide_type": "subslide"
    }
   },
   "outputs": [],
   "source": [
    "%%bash2\n",
    "ls -j"
   ]
  },
  {
   "cell_type": "markdown",
   "metadata": {
    "slideshow": {
     "slide_type": "slide"
    }
   },
   "source": [
    "### The `man` command\n",
    "The other way to learn about ls is to type "
   ]
  },
  {
   "cell_type": "code",
   "execution_count": 6,
   "metadata": {
    "slideshow": {
     "slide_type": "subslide"
    }
   },
   "outputs": [
    {
     "name": "stdout",
     "output_type": "stream",
     "text": [
      "LS(1)                            User Commands                           LS(1)\n",
      "\n",
      "NAME\n",
      "       ls - list directory contents\n",
      "\n",
      "SYNOPSIS\n",
      "       ls [OPTION]... [FILE]...\n",
      "\n",
      "DESCRIPTION\n",
      "       List  information  about  the FILEs (the current directory by default).\n",
      "       Sort entries alphabetically if none of -cftuvSUX nor --sort  is  speci‐\n",
      "       fied.\n",
      "\n",
      "       Mandatory  arguments  to  long  options are mandatory for short options\n",
      "       too.\n",
      "\n",
      "       -a, --all\n",
      "              do not ignore entries starting with .\n",
      "\n",
      "       -A, --almost-all\n",
      "              do not list implied . and ..\n",
      "\n",
      "       --author\n",
      "              with -l, print the author of each file\n",
      "\n",
      "       -b, --escape\n",
      "              print C-style escapes for nongraphic characters\n",
      "\n",
      "       --block-size=SIZE\n",
      "              scale sizes by SIZE before printing them; e.g., '--block-size=M'\n",
      "              prints sizes in units of 1,048,576 bytes; see SIZE format below\n",
      "\n",
      "       -B, --ignore-backups\n",
      "              do not list implied entries ending with ~\n",
      "\n",
      "       -c     with -lt: sort by, and show, ctime (time of last modification of\n",
      "              file status information); with -l: show ctime and sort by  name;\n",
      "              otherwise: sort by ctime, newest first\n",
      "\n",
      "       -C     list entries by columns\n",
      "\n",
      "       --color[=WHEN]\n",
      "              colorize  the output; WHEN can be 'always' (default if omitted),\n",
      "              'auto', or 'never'; more info below\n",
      "\n",
      "       -d, --directory\n",
      "              list directories themselves, not their contents\n",
      "\n",
      "       -D, --dired\n",
      "              generate output designed for Emacs' dired mode\n",
      "\n",
      "       -f     do not sort, enable -aU, disable -ls --color\n",
      "\n",
      "       -F, --classify\n",
      "              append indicator (one of */=>@|) to entries\n",
      "\n",
      "       --file-type\n",
      "              likewise, except do not append '*'\n",
      "\n",
      "       --format=WORD\n",
      "              across -x, commas -m, horizontal -x, long -l, single-column  -1,\n",
      "              verbose -l, vertical -C\n",
      "\n",
      "       --full-time\n",
      "              like -l --time-style=full-iso\n",
      "\n",
      "       -g     like -l, but do not list owner\n",
      "\n",
      "       --group-directories-first\n",
      "              group directories before files;\n",
      "\n",
      "              can   be  augmented  with  a  --sort  option,  but  any  use  of\n",
      "              --sort=none (-U) disables grouping\n",
      "\n",
      "       -G, --no-group\n",
      "              in a long listing, don't print group names\n",
      "\n",
      "       -h, --human-readable\n",
      "              with -l and/or -s, print human readable sizes (e.g., 1K 234M 2G)\n",
      "\n",
      "       --si   likewise, but use powers of 1000 not 1024\n",
      "\n",
      "       -H, --dereference-command-line\n",
      "              follow symbolic links listed on the command line\n",
      "\n",
      "       --dereference-command-line-symlink-to-dir\n",
      "              follow each command line symbolic link\n",
      "\n",
      "              that points to a directory\n",
      "\n",
      "       --hide=PATTERN\n",
      "              do not list implied entries matching shell  PATTERN  (overridden\n",
      "              by -a or -A)\n",
      "\n",
      "       --indicator-style=WORD\n",
      "              append indicator with style WORD to entry names: none (default),\n",
      "              slash (-p), file-type (--file-type), classify (-F)\n",
      "\n",
      "       -i, --inode\n",
      "              print the index number of each file\n",
      "\n",
      "       -I, --ignore=PATTERN\n",
      "              do not list implied entries matching shell PATTERN\n",
      "\n",
      "       -k, --kibibytes\n",
      "              default to 1024-byte blocks for disk usage\n",
      "\n",
      "       -l     use a long listing format\n",
      "\n",
      "       -L, --dereference\n",
      "              when showing file information for a symbolic link, show informa‐\n",
      "              tion  for  the file the link references rather than for the link\n",
      "              itself\n",
      "\n",
      "       -m     fill width with a comma separated list of entries\n",
      "\n",
      "       -n, --numeric-uid-gid\n",
      "              like -l, but list numeric user and group IDs\n",
      "\n",
      "       -N, --literal\n",
      "              print raw entry names (don't treat e.g. control characters  spe‐\n",
      "              cially)\n",
      "\n",
      "       -o     like -l, but do not list group information\n",
      "\n",
      "       -p, --indicator-style=slash\n",
      "              append / indicator to directories\n",
      "\n",
      "       -q, --hide-control-chars\n",
      "              print ? instead of nongraphic characters\n",
      "\n",
      "       --show-control-chars\n",
      "              show nongraphic characters as-is (the default, unless program is\n",
      "              'ls' and output is a terminal)\n",
      "\n",
      "       -Q, --quote-name\n",
      "              enclose entry names in double quotes\n",
      "\n",
      "       --quoting-style=WORD\n",
      "              use quoting style WORD for entry names: literal, locale,  shell,\n",
      "              shell-always, shell-escape, shell-escape-always, c, escape\n",
      "\n",
      "       -r, --reverse\n",
      "              reverse order while sorting\n",
      "\n",
      "       -R, --recursive\n",
      "              list subdirectories recursively\n",
      "\n",
      "       -s, --size\n",
      "              print the allocated size of each file, in blocks\n",
      "\n",
      "       -S     sort by file size, largest first\n",
      "\n",
      "       --sort=WORD\n",
      "              sort  by  WORD instead of name: none (-U), size (-S), time (-t),\n",
      "              version (-v), extension (-X)\n",
      "\n",
      "       --time=WORD\n",
      "              with -l, show time as WORD instead of default modification time:\n",
      "              atime  or  access  or  use  (-u); ctime or status (-c); also use\n",
      "              specified time as sort key if --sort=time (newest first)\n",
      "\n",
      "       --time-style=STYLE\n",
      "              with -l, show times using style STYLE: full-iso, long-iso,  iso,\n",
      "              locale,  or  +FORMAT;  FORMAT  is interpreted like in 'date'; if\n",
      "              FORMAT  is  FORMAT1<newline>FORMAT2,  then  FORMAT1  applies  to\n",
      "              non-recent  files  and FORMAT2 to recent files; if STYLE is pre‐\n",
      "              fixed with 'posix-', STYLE takes effect only outside  the  POSIX\n",
      "              locale\n",
      "\n",
      "       -t     sort by modification time, newest first\n",
      "\n",
      "       -T, --tabsize=COLS\n",
      "              assume tab stops at each COLS instead of 8\n",
      "\n",
      "       -u     with  -lt:  sort by, and show, access time; with -l: show access\n",
      "              time and sort by name; otherwise: sort by  access  time,  newest\n",
      "              first\n",
      "\n",
      "       -U     do not sort; list entries in directory order\n",
      "\n",
      "       -v     natural sort of (version) numbers within text\n",
      "\n",
      "       -w, --width=COLS\n",
      "              set output width to COLS.  0 means no limit\n",
      "\n",
      "       -x     list entries by lines instead of by columns\n",
      "\n",
      "       -X     sort alphabetically by entry extension\n",
      "\n",
      "       -Z, --context\n",
      "              print any security context of each file\n",
      "\n",
      "       -1     list one file per line.  Avoid '\\n' with -q or -b\n",
      "\n",
      "       --help display this help and exit\n",
      "\n",
      "       --version\n",
      "              output version information and exit\n",
      "\n",
      "       The  SIZE  argument  is  an  integer and optional unit (example: 10K is\n",
      "       10*1024).  Units are K,M,G,T,P,E,Z,Y  (powers  of  1024)  or  KB,MB,...\n",
      "       (powers of 1000).\n",
      "\n",
      "       Using  color  to distinguish file types is disabled both by default and\n",
      "       with --color=never.  With --color=auto, ls emits color codes only  when\n",
      "       standard  output is connected to a terminal.  The LS_COLORS environment\n",
      "       variable can change the settings.  Use the dircolors command to set it.\n",
      "\n",
      "   Exit status:\n",
      "       0      if OK,\n",
      "\n",
      "       1      if minor problems (e.g., cannot access subdirectory),\n",
      "\n",
      "       2      if serious trouble (e.g., cannot access command-line argument).\n",
      "\n",
      "AUTHOR\n",
      "       Written by Richard M. Stallman and David MacKenzie.\n",
      "\n",
      "REPORTING BUGS\n",
      "       GNU coreutils online help: <http://www.gnu.org/software/coreutils/>\n",
      "       Report ls translation bugs to <http://translationproject.org/team/>\n",
      "\n",
      "COPYRIGHT\n",
      "       Copyright © 2016 Free Software Foundation, Inc.   License  GPLv3+:  GNU\n",
      "       GPL version 3 or later <http://gnu.org/licenses/gpl.html>.\n",
      "       This  is  free  software:  you  are free to change and redistribute it.\n",
      "       There is NO WARRANTY, to the extent permitted by law.\n",
      "\n",
      "SEE ALSO\n",
      "       Full documentation at: <http://www.gnu.org/software/coreutils/ls>\n",
      "       or available locally via: info '(coreutils) ls invocation'\n",
      "\n",
      "GNU coreutils 8.25               February 2017                           LS(1)\n"
     ]
    }
   ],
   "source": [
    "%%bash2\n",
    "man ls"
   ]
  },
  {
   "cell_type": "markdown",
   "metadata": {
    "slideshow": {
     "slide_type": "subslide"
    }
   },
   "source": [
    "This will turn your terminal into a page with a description of the `ls` command and its options and, if you're lucky, some examples of how to use it.\n",
    "\n",
    "To navigate through the `man` pages, you may use `↑` and `↓` to move line-by-line, or try `B` and `Spacebar` to skip up and down by a full page. To search for a character or word in the man pages, use `/` followed by the character or word you are searching for.\n",
    "\n",
    "To **quit** the `man` pages, press `Q`."
   ]
  },
  {
   "cell_type": "markdown",
   "metadata": {
    "slideshow": {
     "slide_type": "slide"
    }
   },
   "source": [
    "## Information: Manual pages on the web\n",
    "Of course there is a third way to access help for commands: searching the internet via your web browser. When using internet search, including the phrase `unix man page` in your search query will help to find relevant results.\n",
    "\n",
    "GNU provides links to its [manuals](http://www.gnu.org/manual/manual.html) including the [core GNU utilities](http://www.gnu.org/software/coreutils/manual/coreutils.html), which covers many commands introduced within this lesson."
   ]
  },
  {
   "cell_type": "markdown",
   "metadata": {
    "slideshow": {
     "slide_type": "slide"
    }
   },
   "source": [
    "## Exercise: Exploring More `ls` Flags\n",
    "What does the command `ls` do when used with the `-l` and `-h` flags?\n",
    "\n",
    "Some of its output is about properties that we do not cover in this lesson (such as file permissions and ownership), but the rest should be useful nevertheless.\n",
    "\n",
    "[Solution]()"
   ]
  },
  {
   "cell_type": "markdown",
   "metadata": {
    "slideshow": {
     "slide_type": "slide"
    }
   },
   "source": [
    "## Solution: Exploring More ls Flags\n",
    "The `-l` flag makes `ls` use a long listing format, showing not only the file/directory names but also additional information such as the file size and the time of its last modification. The `-h` flag makes the file size \"human readable\", i.e. display something like `5.3K` instead of `5369`."
   ]
  },
  {
   "cell_type": "markdown",
   "metadata": {
    "slideshow": {
     "slide_type": "slide"
    }
   },
   "source": [
    "## Exercise: Listing Recursively and By Time\n",
    "The command `ls -R` lists the contents of directories recursively, i.e., lists their sub-directories, sub-sub-directories, and so on at each level. The command `ls -t` lists things by time of last change, with most recently changed files or directories first. In what order does `ls -R -t` display things? Hint: `ls -l` uses a long listing format to view timestamps.\n",
    "\n",
    "[Solution]()"
   ]
  },
  {
   "cell_type": "markdown",
   "metadata": {
    "slideshow": {
     "slide_type": "slide"
    }
   },
   "source": [
    "## Solution: Listing Recursively and By Time\n",
    "The files/directories in each directory are sorted by time of last change."
   ]
  },
  {
   "cell_type": "markdown",
   "metadata": {
    "slideshow": {
     "slide_type": "slide"
    }
   },
   "source": [
    "## The library\n",
    "\n",
    "On notebooks, the library that we cloned is in the directory **library** and the data for this lesson in a subdirectory **data**.\n",
    "\n",
    "Let's verify this with:"
   ]
  },
  {
   "cell_type": "code",
   "execution_count": 10,
   "metadata": {},
   "outputs": [
    {
     "name": "stdout",
     "output_type": "stream",
     "text": [
      "data-shell.zip\n"
     ]
    }
   ],
   "source": [
    "%%bash2\n",
    "ls library/data"
   ]
  },
  {
   "cell_type": "markdown",
   "metadata": {
    "slideshow": {
     "slide_type": "slide"
    }
   },
   "source": [
    "We need change our location to a different directory, so we are no longer located in our home directory.\n",
    "\n",
    "The command to change locations is `cd` followed by a directory name to change our working directory. `cd` stands for “change directory”, which is a bit misleading: the command doesn’t change the directory, it changes the shell’s idea of what directory we are in.\n",
    "\n",
    "Let’s say we want to move to the data directory we saw above. We can use the following series of commands to get there:\n",
    "\n",
    "The command to change locations is `cd` followed by a directory name to change our working directory. `cd` stands for \"change directory\", which is a bit misleading: the command doesn't change the directory, it changes the shell's idea of what directory we are in."
   ]
  },
  {
   "cell_type": "code",
   "execution_count": 12,
   "metadata": {
    "slideshow": {
     "slide_type": "slide"
    }
   },
   "outputs": [],
   "source": [
    "%%bash2\n",
    "cd library/data"
   ]
  },
  {
   "cell_type": "markdown",
   "metadata": {
    "slideshow": {
     "slide_type": "slide"
    }
   },
   "source": [
    "This directory contains a zip file, `data-shell.zip`, which we need to unzip with the command:"
   ]
  },
  {
   "cell_type": "code",
   "execution_count": 13,
   "metadata": {},
   "outputs": [
    {
     "name": "stdout",
     "output_type": "stream",
     "text": [
      "Archive:  data-shell.zip\n",
      "   creating: data-shell/\n",
      "  inflating: data-shell/notes.txt    \n",
      "  inflating: data-shell/.bash_profile  \n",
      "   creating: data-shell/creatures/\n",
      "  inflating: data-shell/creatures/unicorn.dat  \n",
      "  inflating: data-shell/creatures/basilisk.dat  \n",
      "   creating: data-shell/data/\n",
      "   creating: data-shell/data/pdb/\n",
      "  inflating: data-shell/data/pdb/quinine.pdb  \n",
      "  inflating: data-shell/data/pdb/lactose.pdb  \n",
      "  inflating: data-shell/data/pdb/pyridoxal.pdb  \n",
      "  inflating: data-shell/data/pdb/lactic-acid.pdb  \n",
      "  inflating: data-shell/data/pdb/methanol.pdb  \n",
      "  inflating: data-shell/data/pdb/tnt.pdb  \n",
      "  inflating: data-shell/data/pdb/vanillin.pdb  \n",
      "  inflating: data-shell/data/pdb/glycol.pdb  \n",
      "  inflating: data-shell/data/pdb/tuberin.pdb  \n",
      "  inflating: data-shell/data/pdb/tyrian-purple.pdb  \n",
      "  inflating: data-shell/data/pdb/aldrin.pdb  \n",
      "  inflating: data-shell/data/pdb/mustard.pdb  \n",
      "  inflating: data-shell/data/pdb/strychnine.pdb  \n",
      "  inflating: data-shell/data/pdb/cyclobutane.pdb  \n",
      "  inflating: data-shell/data/pdb/cyclohexanol.pdb  \n",
      "  inflating: data-shell/data/pdb/thiamine.pdb  \n",
      "  inflating: data-shell/data/pdb/vinyl-chloride.pdb  \n",
      "  inflating: data-shell/data/pdb/propane.pdb  \n",
      "  inflating: data-shell/data/pdb/mint.pdb  \n",
      "  inflating: data-shell/data/pdb/menthol.pdb  \n",
      "  inflating: data-shell/data/pdb/octane.pdb  \n",
      "  inflating: data-shell/data/pdb/camphene.pdb  \n",
      "  inflating: data-shell/data/pdb/cinnamaldehyde.pdb  \n",
      "  inflating: data-shell/data/pdb/codeine.pdb  \n",
      "  inflating: data-shell/data/pdb/maltose.pdb  \n",
      "  inflating: data-shell/data/pdb/heme.pdb  \n",
      "  inflating: data-shell/data/pdb/ethane.pdb  \n",
      "  inflating: data-shell/data/pdb/ascorbic-acid.pdb  \n",
      "  inflating: data-shell/data/pdb/testosterone.pdb  \n",
      "  inflating: data-shell/data/pdb/vitamin-a.pdb  \n",
      "  inflating: data-shell/data/pdb/lsd.pdb  \n",
      "  inflating: data-shell/data/pdb/citronellal.pdb  \n",
      "  inflating: data-shell/data/pdb/benzaldehyde.pdb  \n",
      "  inflating: data-shell/data/pdb/nerol.pdb  \n",
      "  inflating: data-shell/data/pdb/morphine.pdb  \n",
      "  inflating: data-shell/data/pdb/ethylcyclohexane.pdb  \n",
      "  inflating: data-shell/data/pdb/norethindrone.pdb  \n",
      "  inflating: data-shell/data/pdb/lanoxin.pdb  \n",
      "  inflating: data-shell/data/pdb/cyclopropane.pdb  \n",
      "  inflating: data-shell/data/pdb/styrene.pdb  \n",
      "  inflating: data-shell/data/pdb/ammonia.pdb  \n",
      "  inflating: data-shell/data/pdb/cubane.pdb  \n",
      "  inflating: data-shell/data/pdb/pentane.pdb  \n",
      "  inflating: data-shell/data/pdb/ethanol.pdb  \n",
      "  inflating: data-shell/data/pdb/methane.pdb  \n",
      "  inflating: data-shell/data/pdb/sucrose.pdb  \n",
      "  inflating: data-shell/data/pdb/cholesterol.pdb  \n",
      "  inflating: data-shell/data/pdb/piperine.pdb  \n",
      "  inflating: data-shell/data/amino-acids.txt  \n",
      "  inflating: data-shell/data/planets.txt  \n",
      "  inflating: data-shell/data/salmon.txt  \n",
      "  inflating: data-shell/data/animals.txt  \n",
      "   creating: data-shell/data/elements/\n",
      "  inflating: data-shell/data/elements/Tl.xml  \n",
      "  inflating: data-shell/data/elements/Co.xml  \n",
      "  inflating: data-shell/data/elements/Na.xml  \n",
      "  inflating: data-shell/data/elements/Np.xml  \n",
      "  inflating: data-shell/data/elements/Xe.xml  \n",
      "  inflating: data-shell/data/elements/Fr.xml  \n",
      "  inflating: data-shell/data/elements/Er.xml  \n",
      "  inflating: data-shell/data/elements/Md.xml  \n",
      "  inflating: data-shell/data/elements/Sc.xml  \n",
      "  inflating: data-shell/data/elements/Cl.xml  \n",
      "  inflating: data-shell/data/elements/Mo.xml  \n",
      "  inflating: data-shell/data/elements/Hg.xml  \n",
      "  inflating: data-shell/data/elements/Ba.xml  \n",
      "  inflating: data-shell/data/elements/Cu.xml  \n",
      "  inflating: data-shell/data/elements/Tc.xml  \n",
      "  inflating: data-shell/data/elements/Re.xml  \n",
      "  inflating: data-shell/data/elements/H.xml  \n",
      "  inflating: data-shell/data/elements/Nb.xml  \n",
      "  inflating: data-shell/data/elements/Cd.xml  \n",
      "  inflating: data-shell/data/elements/Gd.xml  \n",
      "  inflating: data-shell/data/elements/Bi.xml  \n",
      "  inflating: data-shell/data/elements/C.xml  \n",
      "  inflating: data-shell/data/elements/Zr.xml  \n",
      "  inflating: data-shell/data/elements/Li.xml  \n",
      "  inflating: data-shell/data/elements/Ti.xml  \n",
      "  inflating: data-shell/data/elements/Sr.xml  \n",
      "  inflating: data-shell/data/elements/Ac.xml  \n",
      "  inflating: data-shell/data/elements/Lu.xml  \n",
      "  inflating: data-shell/data/elements/Fm.xml  \n",
      "  inflating: data-shell/data/elements/Pa.xml  \n",
      "  inflating: data-shell/data/elements/Os.xml  \n",
      "  inflating: data-shell/data/elements/Pu.xml  \n",
      "  inflating: data-shell/data/elements/Mg.xml  \n",
      "  inflating: data-shell/data/elements/Es.xml  \n",
      "  inflating: data-shell/data/elements/O.xml  \n",
      "  inflating: data-shell/data/elements/Ru.xml  \n",
      "  inflating: data-shell/data/elements/Eu.xml  \n",
      "  inflating: data-shell/data/elements/F.xml  \n",
      "  inflating: data-shell/data/elements/Pr.xml  \n",
      "  inflating: data-shell/data/elements/Al.xml  \n",
      "  inflating: data-shell/data/elements/Te.xml  \n",
      "  inflating: data-shell/data/elements/Pt.xml  \n",
      "  inflating: data-shell/data/elements/B.xml  \n",
      "  inflating: data-shell/data/elements/Pd.xml  \n",
      "  inflating: data-shell/data/elements/Ce.xml  \n",
      "  inflating: data-shell/data/elements/At.xml  \n",
      "  inflating: data-shell/data/elements/Au.xml  \n",
      "  inflating: data-shell/data/elements/W.xml  \n",
      "  inflating: data-shell/data/elements/Am.xml  \n",
      "  inflating: data-shell/data/elements/Cm.xml  \n",
      "  inflating: data-shell/data/elements/Ga.xml  \n",
      "  inflating: data-shell/data/elements/As.xml  \n",
      "  inflating: data-shell/data/elements/Cf.xml  \n",
      "  inflating: data-shell/data/elements/Hf.xml  \n",
      "  inflating: data-shell/data/elements/V.xml  \n",
      "  inflating: data-shell/data/elements/Fe.xml  \n",
      "  inflating: data-shell/data/elements/I.xml  \n",
      "  inflating: data-shell/data/elements/Tm.xml  \n",
      "  inflating: data-shell/data/elements/He.xml  \n",
      "  inflating: data-shell/data/elements/Se.xml  \n",
      "  inflating: data-shell/data/elements/Ho.xml  \n",
      "  inflating: data-shell/data/elements/S.xml  \n",
      "  inflating: data-shell/data/elements/Kr.xml  \n",
      "  inflating: data-shell/data/elements/Sm.xml  \n",
      "  inflating: data-shell/data/elements/Zn.xml  \n",
      "  inflating: data-shell/data/elements/Ta.xml  \n",
      "  inflating: data-shell/data/elements/Si.xml  \n",
      "  inflating: data-shell/data/elements/Ni.xml  \n",
      "  inflating: data-shell/data/elements/Y.xml  \n",
      "  inflating: data-shell/data/elements/K.xml  \n",
      "  inflating: data-shell/data/elements/In.xml  \n",
      "  inflating: data-shell/data/elements/Ra.xml  \n",
      "  inflating: data-shell/data/elements/Th.xml  \n",
      "  inflating: data-shell/data/elements/No.xml  \n",
      "  inflating: data-shell/data/elements/Dy.xml  \n",
      "  inflating: data-shell/data/elements/Bk.xml  \n",
      "  inflating: data-shell/data/elements/Ge.xml  \n",
      "  inflating: data-shell/data/elements/Rn.xml  \n",
      "  inflating: data-shell/data/elements/Nd.xml  \n",
      "  inflating: data-shell/data/elements/Pm.xml  \n",
      "  inflating: data-shell/data/elements/Ag.xml  \n",
      "  inflating: data-shell/data/elements/Rh.xml  \n",
      "  inflating: data-shell/data/elements/La.xml  \n",
      "  inflating: data-shell/data/elements/Br.xml  \n",
      "  inflating: data-shell/data/elements/Ir.xml  \n",
      "  inflating: data-shell/data/elements/Tb.xml  \n",
      "  inflating: data-shell/data/elements/P.xml  \n",
      "  inflating: data-shell/data/elements/Mn.xml  \n",
      "  inflating: data-shell/data/elements/Ar.xml  \n",
      "  inflating: data-shell/data/elements/Rb.xml  \n",
      "  inflating: data-shell/data/elements/Sn.xml  \n",
      "  inflating: data-shell/data/elements/Yb.xml  \n",
      "  inflating: data-shell/data/elements/Po.xml  \n",
      "  inflating: data-shell/data/elements/Pb.xml  \n",
      "  inflating: data-shell/data/elements/Sb.xml  \n",
      "  inflating: data-shell/data/elements/Cs.xml  \n",
      "  inflating: data-shell/data/elements/Be.xml  \n",
      "  inflating: data-shell/data/elements/N.xml  \n",
      "  inflating: data-shell/data/elements/Cr.xml  \n",
      "  inflating: data-shell/data/elements/Ca.xml  \n",
      "  inflating: data-shell/data/elements/U.xml  \n",
      "  inflating: data-shell/data/elements/Lr.xml  \n",
      "  inflating: data-shell/data/elements/Ne.xml  \n",
      "  inflating: data-shell/data/sunspot.txt  \n",
      "  inflating: data-shell/data/morse.txt  \n",
      "   creating: data-shell/data/animal-counts/\n",
      "  inflating: data-shell/data/animal-counts/animals.txt  \n",
      "   creating: data-shell/writing/\n",
      "  inflating: data-shell/writing/haiku.txt  \n",
      "   creating: data-shell/writing/data/\n",
      "  inflating: data-shell/writing/data/LittleWomen.txt  \n",
      "  inflating: data-shell/writing/data/one.txt  \n",
      "  inflating: data-shell/writing/data/two.txt  \n",
      "   creating: data-shell/writing/thesis/\n",
      " extracting: data-shell/writing/thesis/empty-draft.md  \n",
      "   creating: data-shell/writing/tools/\n",
      "   creating: data-shell/writing/tools/old/\n",
      " extracting: data-shell/writing/tools/old/oldtool  \n",
      "  inflating: data-shell/writing/tools/format  \n",
      " extracting: data-shell/writing/tools/stats  \n",
      "  inflating: data-shell/solar.pdf    \n",
      "   creating: data-shell/north-pacific-gyre/\n",
      "   creating: data-shell/north-pacific-gyre/2012-07-03/\n",
      "  inflating: data-shell/north-pacific-gyre/2012-07-03/goodiff  \n",
      "  inflating: data-shell/north-pacific-gyre/2012-07-03/NENE01978B.txt  \n",
      "  inflating: data-shell/north-pacific-gyre/2012-07-03/NENE01729B.txt  \n",
      "  inflating: data-shell/north-pacific-gyre/2012-07-03/NENE02043B.txt  \n",
      "  inflating: data-shell/north-pacific-gyre/2012-07-03/NENE01751B.txt  \n",
      "  inflating: data-shell/north-pacific-gyre/2012-07-03/NENE01978A.txt  \n",
      "  inflating: data-shell/north-pacific-gyre/2012-07-03/goostats  \n",
      "  inflating: data-shell/north-pacific-gyre/2012-07-03/NENE01971Z.txt  \n",
      "  inflating: data-shell/north-pacific-gyre/2012-07-03/NENE01843A.txt  \n",
      "  inflating: data-shell/north-pacific-gyre/2012-07-03/NENE01729A.txt  \n",
      "  inflating: data-shell/north-pacific-gyre/2012-07-03/NENE01736A.txt  \n",
      "  inflating: data-shell/north-pacific-gyre/2012-07-03/NENE02043A.txt  \n",
      "  inflating: data-shell/north-pacific-gyre/2012-07-03/NENE02040B.txt  \n",
      "  inflating: data-shell/north-pacific-gyre/2012-07-03/NENE01843B.txt  \n",
      "  inflating: data-shell/north-pacific-gyre/2012-07-03/NENE02040A.txt  \n",
      "  inflating: data-shell/north-pacific-gyre/2012-07-03/NENE01751A.txt  \n",
      "  inflating: data-shell/north-pacific-gyre/2012-07-03/NENE02018B.txt  \n",
      "  inflating: data-shell/north-pacific-gyre/2012-07-03/NENE02040Z.txt  \n",
      "  inflating: data-shell/north-pacific-gyre/2012-07-03/NENE01812A.txt  \n",
      "  inflating: data-shell/pizza.cfg    \n",
      "   creating: data-shell/molecules/\n",
      "  inflating: data-shell/molecules/propane.pdb  \n",
      "  inflating: data-shell/molecules/octane.pdb  \n",
      "  inflating: data-shell/molecules/ethane.pdb  \n",
      "  inflating: data-shell/molecules/cubane.pdb  \n",
      "  inflating: data-shell/molecules/pentane.pdb  \n",
      "  inflating: data-shell/molecules/methane.pdb  \n"
     ]
    }
   ],
   "source": [
    "%%bash2\n",
    "unzip data-shell.zip"
   ]
  },
  {
   "cell_type": "markdown",
   "metadata": {
    "slideshow": {
     "slide_type": "slide"
    }
   },
   "source": [
    "Now we can check the contents of the zip by running `ls`:"
   ]
  },
  {
   "cell_type": "code",
   "execution_count": 14,
   "metadata": {
    "slideshow": {
     "slide_type": "slide"
    }
   },
   "outputs": [
    {
     "name": "stdout",
     "output_type": "stream",
     "text": [
      "data-shell\n",
      "data-shell.zip\n"
     ]
    }
   ],
   "source": [
    "%%bash2\n",
    "ls"
   ]
  },
  {
   "cell_type": "markdown",
   "metadata": {
    "slideshow": {
     "slide_type": "slide"
    }
   },
   "source": [
    "Unzipping the file has created a new directory `data-shell`.  As before we can check the contents of this with:"
   ]
  },
  {
   "cell_type": "code",
   "execution_count": 15,
   "metadata": {
    "slideshow": {
     "slide_type": "slide"
    }
   },
   "outputs": [
    {
     "name": "stdout",
     "output_type": "stream",
     "text": [
      "creatures/\n",
      "data/\n",
      "molecules/\n",
      "north-pacific-gyre/\n",
      "notes.txt\n",
      "pizza.cfg\n",
      "solar.pdf\n",
      "writing/\n"
     ]
    }
   ],
   "source": [
    "%%bash2\n",
    "ls -F data-shell"
   ]
  },
  {
   "cell_type": "markdown",
   "metadata": {
    "slideshow": {
     "slide_type": "slide"
    }
   },
   "source": [
    "Here, we can see that our `data-shell` directory contains mostly sub-directories. Any names in your output that don't have trailing slashes, are plain old files. And note that there is a space between `ls` and `-F`: without it, the shell thinks we're trying to run a command called `ls-F`, which doesn't exist."
   ]
  },
  {
   "cell_type": "markdown",
   "metadata": {
    "slideshow": {
     "slide_type": "subslide"
    }
   },
   "source": [
    "We can also use ls to see the contents of a different directory. Let's take a look at our `data` directory by running `ls -F data`, i.e., the command `ls` with the `-F` flag and the argument `data-shell`. The argument `data` tells `ls` that we want a listing of something other than our current working directory:"
   ]
  },
  {
   "cell_type": "code",
   "execution_count": 8,
   "metadata": {
    "slideshow": {
     "slide_type": "fragment"
    }
   },
   "outputs": [
    {
     "name": "stdout",
     "output_type": "stream",
     "text": [
      "creatures/\n",
      "data/\n",
      "molecules/\n",
      "north-pacific-gyre/\n",
      "notes.txt\n",
      "pizza.cfg\n",
      "solar.pdf\n",
      "writing/\n"
     ]
    }
   ],
   "source": [
    "%%bash2\n",
    "ls -F data-shell"
   ]
  },
  {
   "cell_type": "markdown",
   "metadata": {},
   "source": [
    "## Information: Parameters and Arguments\n",
    "\n",
    "According to Wikipedia, the terms argument and parameter mean slightly different things. In practice, however, most people use them interchangeably to refer to the input term(s) given to a command.\n",
    "\n",
    "`ls` is the command, `-lh` are the flags (also called options), and `data-shell` is the argument."
   ]
  },
  {
   "cell_type": "markdown",
   "metadata": {
    "slideshow": {
     "slide_type": "subslide"
    }
   },
   "source": [
    "\n",
    "Your output should be a list of all the files in the `data-shell` directory.  This is the directory that you downloaded and extracted at the start of the lesson. If the directory does not exist, check that you have downloaded it to the correct folder.\n",
    "\n",
    "As you may now see, using a bash shell is strongly dependent on the idea that your files are organized in a hierarchical file system. Organizing things hierarchically in this way helps us keep track of our work: it’s possible to put hundreds of files in our home directory, just as it’s possible to pile hundreds of printed papers on our desk, but it’s a self-defeating strategy."
   ]
  },
  {
   "cell_type": "markdown",
   "metadata": {
    "slideshow": {
     "slide_type": "subslide"
    }
   },
   "source": [
    "Let's say we want to move to the `data` directory we saw above. We can use the following commands to get there:"
   ]
  },
  {
   "cell_type": "code",
   "execution_count": 16,
   "metadata": {
    "slideshow": {
     "slide_type": "fragment"
    }
   },
   "outputs": [],
   "source": [
    "%%bash2\n",
    "cd data-shell\n",
    "cd data"
   ]
  },
  {
   "cell_type": "markdown",
   "metadata": {
    "slideshow": {
     "slide_type": "subslide"
    }
   },
   "source": [
    "These commands will move us from our home directory to the `data-shell` directory and then into the `data` directory. `cd` doesn't print anything, but if we run `pwd` after it, we can see that we are now in `/Users/nelle/Desktop/data-shell/data`. If we run ls without arguments now, it lists the contents of `/Users/nelle/Desktop/data-shell/data`, because that's where we now are:"
   ]
  },
  {
   "cell_type": "code",
   "execution_count": 17,
   "metadata": {
    "slideshow": {
     "slide_type": "fragment"
    }
   },
   "outputs": [
    {
     "name": "stdout",
     "output_type": "stream",
     "text": [
      "/home/nbuser/library/data/data-shell/data\n"
     ]
    }
   ],
   "source": [
    "%%bash2\n",
    "pwd"
   ]
  },
  {
   "cell_type": "code",
   "execution_count": 18,
   "metadata": {
    "slideshow": {
     "slide_type": "subslide"
    }
   },
   "outputs": [
    {
     "name": "stdout",
     "output_type": "stream",
     "text": [
      "amino-acids.txt\n",
      "animal-counts/\n",
      "animals.txt\n",
      "elements/\n",
      "morse.txt\n",
      "pdb/\n",
      "planets.txt\n",
      "salmon.txt\n",
      "sunspot.txt\n"
     ]
    }
   ],
   "source": [
    "%%bash2\n",
    "ls -F"
   ]
  },
  {
   "cell_type": "markdown",
   "metadata": {
    "slideshow": {
     "slide_type": "slide"
    }
   },
   "source": [
    "We can do this again and change directory into the `elements` directory and use `pwd` to verify that we have changed into another directory."
   ]
  },
  {
   "cell_type": "code",
   "execution_count": 19,
   "metadata": {
    "slideshow": {
     "slide_type": "fragment"
    }
   },
   "outputs": [
    {
     "name": "stdout",
     "output_type": "stream",
     "text": [
      "/home/nbuser/library/data/data-shell/data/elements\n"
     ]
    }
   ],
   "source": [
    "%%bash2\n",
    "cd elements\n",
    "pwd"
   ]
  },
  {
   "cell_type": "markdown",
   "metadata": {
    "slideshow": {
     "slide_type": "slide"
    }
   },
   "source": [
    "We now know how to go down the directory tree, but how do we go up? We might try the following:"
   ]
  },
  {
   "cell_type": "code",
   "execution_count": 20,
   "metadata": {
    "slideshow": {
     "slide_type": "fragment"
    }
   },
   "outputs": [],
   "source": [
    "%%bash2\n",
    "cd data"
   ]
  },
  {
   "cell_type": "markdown",
   "metadata": {
    "slideshow": {
     "slide_type": "subslide"
    }
   },
   "source": [
    "But we get an error! Why is this?\n",
    "\n",
    "With our methods so far, `cd` can only see sub-directories inside your current directory. There are different ways to see directories above your current location; we'll start with the simplest."
   ]
  },
  {
   "cell_type": "markdown",
   "metadata": {
    "slideshow": {
     "slide_type": "subslide"
    }
   },
   "source": [
    "There is a shortcut in the shell to move up one directory level that looks like this:"
   ]
  },
  {
   "cell_type": "code",
   "execution_count": 21,
   "metadata": {
    "slideshow": {
     "slide_type": "fragment"
    }
   },
   "outputs": [],
   "source": [
    "%%bash2\n",
    "cd .."
   ]
  },
  {
   "cell_type": "markdown",
   "metadata": {
    "slideshow": {
     "slide_type": "subslide"
    }
   },
   "source": [
    "`..` is a special directory name meaning \"the directory containing this one\", or more succinctly, the parent of the current directory. Sure enough, if we run `pwd` after running `cd ..`, we're back in `/Users/nelle/Desktop/data-shell/data`:"
   ]
  },
  {
   "cell_type": "code",
   "execution_count": 22,
   "metadata": {
    "slideshow": {
     "slide_type": "fragment"
    }
   },
   "outputs": [
    {
     "name": "stdout",
     "output_type": "stream",
     "text": [
      "/home/nbuser/library/data/data-shell/data\n"
     ]
    }
   ],
   "source": [
    "%%bash2\n",
    "pwd"
   ]
  },
  {
   "cell_type": "markdown",
   "metadata": {
    "slideshow": {
     "slide_type": "subslide"
    }
   },
   "source": [
    "The special directory `..` doesn't usually show up when we run `ls`. If we want to display it, we can give `ls` the `-a` flag:"
   ]
  },
  {
   "cell_type": "code",
   "execution_count": 23,
   "metadata": {
    "slideshow": {
     "slide_type": "fragment"
    }
   },
   "outputs": [
    {
     "name": "stdout",
     "output_type": "stream",
     "text": [
      "./\n",
      "../\n",
      "amino-acids.txt\n",
      "animal-counts/\n",
      "animals.txt\n",
      "elements/\n",
      "morse.txt\n",
      "pdb/\n",
      "planets.txt\n",
      "salmon.txt\n",
      "sunspot.txt\n"
     ]
    }
   ],
   "source": [
    "%%bash2\n",
    "ls -F -a"
   ]
  },
  {
   "cell_type": "markdown",
   "metadata": {
    "slideshow": {
     "slide_type": "subslide"
    }
   },
   "source": [
    "`-a` stands for \"show all\"; it forces ls to show us file and directory names that begin with `.`, such as `..` (which, if we're in `/Users/nelle`, refers to the `/Users` directory) As you can see, it also displays another special directory that's just called `.`, which means \"the current working directory\". It may seem redundant to have a name for it, but we'll see some uses for it soon.\n",
    "\n",
    "Note that in most command line tools, multiple flags can be combined with a single `-` and no spaces between the flags: `ls -F -a` is equivalent to `ls -Fa`."
   ]
  },
  {
   "cell_type": "markdown",
   "metadata": {
    "slideshow": {
     "slide_type": "subslide"
    }
   },
   "source": [
    "We can get back to the `data-shell` directory the same way:"
   ]
  },
  {
   "cell_type": "code",
   "execution_count": 24,
   "metadata": {
    "slideshow": {
     "slide_type": "fragment"
    }
   },
   "outputs": [
    {
     "name": "stdout",
     "output_type": "stream",
     "text": [
      "/home/nbuser/library/data/data-shell\n"
     ]
    }
   ],
   "source": [
    "%%bash2\n",
    "cd ..\n",
    "pwd"
   ]
  },
  {
   "cell_type": "markdown",
   "metadata": {
    "slideshow": {
     "slide_type": "slide"
    }
   },
   "source": [
    "## Information: Other Hidden Files\n",
    "In addition to the hidden directories `..` and `.`, you may also see a file called `.bash_profile`. This file usually contains shell configuration settings. You may also see other files and directories beginning with `.`. These are usually files and directories that are used to configure different programs on your computer. The prefix `.` is used to prevent these configuration files from cluttering the terminal when a standard `ls` command is used."
   ]
  },
  {
   "cell_type": "markdown",
   "metadata": {
    "slideshow": {
     "slide_type": "slide"
    }
   },
   "source": [
    "## Information: Orthogonality\n",
    "The special names `.` and `..` don't belong to `cd`; they are interpreted the same way by every program. For example, if we are in `/Users/nelle/data`, the command `ls ..` will give us a listing of `/Users/nelle`. When the meanings of the parts are the same no matter how they're combined, programmers say they are **orthogonal**: Orthogonal systems tend to be easier for people to learn because there are fewer special cases and exceptions to keep track of."
   ]
  },
  {
   "cell_type": "markdown",
   "metadata": {
    "slideshow": {
     "slide_type": "slide"
    }
   },
   "source": [
    "Let's try returning to the `elements` directory in the `data` direcotry, which we saw above. Last time, we used two commands, but we can actually string together the list of directories to move to `elements` in one step:"
   ]
  },
  {
   "cell_type": "code",
   "execution_count": 25,
   "metadata": {
    "slideshow": {
     "slide_type": "fragment"
    }
   },
   "outputs": [],
   "source": [
    "%%bash2\n",
    "cd data/elements"
   ]
  },
  {
   "cell_type": "markdown",
   "metadata": {
    "slideshow": {
     "slide_type": "subslide"
    }
   },
   "source": [
    "Check that we've moved to the right place by running `pwd` and `ls -F`\n",
    "\n",
    "If we want to move up one level from the data directory, we could use `cd ..`. But there is another way to move to any directory, regardless of your current location."
   ]
  },
  {
   "cell_type": "markdown",
   "metadata": {
    "slideshow": {
     "slide_type": "subslide"
    }
   },
   "source": [
    "So far, when specifying directory names, or even a directory path (as above), we have been using **relative paths**. When you use a relative path with a command like `ls` or `cd`, it tries to find that location from where we are, rather than from the root of the file system."
   ]
  },
  {
   "cell_type": "markdown",
   "metadata": {
    "slideshow": {
     "slide_type": "subslide"
    }
   },
   "source": [
    "However, it is possible to specify the **absolute path** to a directory by including its entire path from the root directory, which is indicated by a leading slash. The leading `/` tells the computer to follow the path from the root of the file system, so it always refers to exactly one directory, no matter where we are when we run the command."
   ]
  },
  {
   "cell_type": "markdown",
   "metadata": {
    "slideshow": {
     "slide_type": "subslide"
    }
   },
   "source": [
    "This allows us to move to our `data-shell` directory from anywhere on the filesystem (including from inside `data`). To find the absolute path we're looking for, we can use `pwd` and then extract the piece we need to move to `data-shell`."
   ]
  },
  {
   "cell_type": "code",
   "execution_count": 26,
   "metadata": {
    "slideshow": {
     "slide_type": "fragment"
    }
   },
   "outputs": [
    {
     "name": "stdout",
     "output_type": "stream",
     "text": [
      "/home/nbuser/library/data/data-shell/data/elements\n"
     ]
    }
   ],
   "source": [
    "%%bash2\n",
    "pwd"
   ]
  },
  {
   "cell_type": "markdown",
   "metadata": {
    "slideshow": {
     "slide_type": "subslide"
    }
   },
   "source": [
    "```bash\n",
    "%%bash2\n",
    "cd /home/nbuser/library/data/data-shell/\n",
    "```\n",
    "Don't execute this command, as the absolute path may be different for you!  Instead select the output from your `pwd` command up to and including `data-shell`."
   ]
  },
  {
   "cell_type": "markdown",
   "metadata": {
    "slideshow": {
     "slide_type": "subslide"
    }
   },
   "source": [
    "Run `pwd` and `ls -F` to ensure that we're in the directory we expect.\n",
    "\n",
    "These then, are the basic commands for navigating the filesystem on your computer: `pwd`, `ls` and `cd`. Let's explore some variations on those commands."
   ]
  },
  {
   "cell_type": "markdown",
   "metadata": {
    "slideshow": {
     "slide_type": "slide"
    }
   },
   "source": [
    "What happens if you type `cd` on its own, without giving a directory?"
   ]
  },
  {
   "cell_type": "code",
   "execution_count": 27,
   "metadata": {
    "slideshow": {
     "slide_type": "fragment"
    }
   },
   "outputs": [],
   "source": [
    "%%bash2\n",
    "cd"
   ]
  },
  {
   "cell_type": "markdown",
   "metadata": {
    "slideshow": {
     "slide_type": "fragment"
    }
   },
   "source": [
    "How can you check what happened? `pwd` gives us the answer!"
   ]
  },
  {
   "cell_type": "code",
   "execution_count": 28,
   "metadata": {
    "slideshow": {
     "slide_type": "fragment"
    }
   },
   "outputs": [
    {
     "name": "stdout",
     "output_type": "stream",
     "text": [
      "/home/nbuser\n"
     ]
    }
   ],
   "source": [
    "%%bash2\n",
    "pwd"
   ]
  },
  {
   "cell_type": "markdown",
   "metadata": {
    "slideshow": {
     "slide_type": "subslide"
    }
   },
   "source": [
    "It turns out that `cd` without an argument will return you to your home directory, which is great if you've gotten lost in your own filesystem."
   ]
  },
  {
   "cell_type": "markdown",
   "metadata": {
    "slideshow": {
     "slide_type": "slide"
    }
   },
   "source": [
    "## Information: Two More Shortcuts\n",
    "The shell interprets the character `~` (tilde) at the start of a path to mean \"the current user's home directory\". For example, if Nelle's home directory is `/Users/nelle`, then `~/data` is equivalent to `/Users/nelle/data`. This only works if it is the first character in the path: `here/there/~/elsewhere` is not `here/there/Users/nelle/elsewhere`.\n",
    "\n",
    "Another shortcut is the `-` (dash) character. `cd` will translate `-` into the previous directory I was in, which is faster than having to remember, then type, the full path. This is a very efficient way of moving back and forth between directories. The difference between `cd ..` and `cd -` is that the former brings you up, while the latter brings you back. You can think of it as the Last Channel button on a TV remote."
   ]
  },
  {
   "cell_type": "markdown",
   "metadata": {
    "slideshow": {
     "slide_type": "slide"
    }
   },
   "source": [
    "## Exercise: Absolute vs Relative Paths\n",
    "Starting from `/Users/amanda/data/`, which of the following commands could Amanda use to navigate to her home directory, which is `/Users/amanda`?\n",
    "1. `cd .`\n",
    "2. `cd /`\n",
    "3. `cd /home/amanda`\n",
    "4. `cd ../..`\n",
    "5. `cd ~`\n",
    "6. `cd home`\n",
    "7. `cd ~/data/..`\n",
    "8. `cd`\n",
    "9. `cd ..`\n",
    "\n",
    "[Solution]()"
   ]
  },
  {
   "cell_type": "markdown",
   "metadata": {
    "slideshow": {
     "slide_type": "slide"
    }
   },
   "source": [
    "## Solution: Absolute vs Relative Paths\n",
    "1. No: `.` stands for the current directory.\n",
    "2. No: `/` stands for the root directory.\n",
    "3. No: Amanda's home directory is `/Users/amanda`.\n",
    "4. No: this goes up two levels, i.e. ends in `/Users`.\n",
    "5. Yes: `~` stands for the user's home directory, in this case `/Users/amanda`.\n",
    "6. No: this would navigate into a directory home in the current directory if it exists.\n",
    "7. Yes: unnecessarily complicated, but correct.\n",
    "8. Yes: shortcut to go back to the user's home directory.\n",
    "9. Yes: goes up one level."
   ]
  },
  {
   "cell_type": "markdown",
   "metadata": {
    "slideshow": {
     "slide_type": "slide"
    }
   },
   "source": [
    "## Exercise: Relative Path Resolution\n",
    "Using the filesystem diagram below, if pwd displays `/Users/thing`, what will `ls -F ../backup` display?\n",
    "1. `../backup: No such file or directory`\n",
    "2. `2012-12-01 2013-01-08 2013-01-27`\n",
    "3. `2012-12-01/ 2013-01-08/ 2013-01-27/`\n",
    "4. `original/ pnas_final/ pnas_sub/`\n",
    "![](../images/filesystem-challenge.svg)\n",
    "\n",
    "[Solution]()"
   ]
  },
  {
   "cell_type": "markdown",
   "metadata": {
    "slideshow": {
     "slide_type": "slide"
    }
   },
   "source": [
    "## Solution: Relative Path Resolution\n",
    "1. No: there is a directory backup in `/Users`.\n",
    "2. No: this is the content of `Users/thing/backup`, but with `..` we asked for one level further up.\n",
    "3. No: see previous explanation.\n",
    "4. Yes: `../backup/` refers to `/Users/backup/`."
   ]
  },
  {
   "cell_type": "markdown",
   "metadata": {
    "slideshow": {
     "slide_type": "slide"
    }
   },
   "source": [
    "## Exercise: `ls` Reading Comprehension\n",
    "Assuming a directory structure as in the above Figure (File System for Challenge Questions), if `pwd` displays `/Users/backup`, and `-r` tells ls to display things in reverse order, what command will display:\n",
    "```bash\n",
    "pnas_sub/ pnas_final/ original/\n",
    "```\n",
    "1. `ls pwd`\n",
    "2. `ls -r -F`\n",
    "3. `ls -r -F /Users/backup`\n",
    "4. Either #2 or #3 above, but not #1.\n",
    "\n",
    "[Solution]()"
   ]
  },
  {
   "cell_type": "markdown",
   "metadata": {
    "slideshow": {
     "slide_type": "slide"
    }
   },
   "source": [
    "## Solution: `ls` Reading Comprehension\n",
    "1. No: `pwd` is not the name of a directory.\n",
    "2. Yes: `ls` without directory argument lists files and directories in the current directory.\n",
    "3. Yes: uses the absolute path explicitly.\n",
    "4. Correct: see explanations above."
   ]
  },
  {
   "cell_type": "markdown",
   "metadata": {
    "slideshow": {
     "slide_type": "slide"
    }
   },
   "source": [
    "## Nelle's Pipeline: Organizing Files\n",
    "\n",
    "Knowing just this much about files and directories, Nelle is ready to organize the files that the protein assay machine will create. First, she creates a directory called `north-pacific-gyre` (to remind herself where the data came from). Inside that, she creates a directory called `2012-07-03`, which is the date she started processing the samples. She used to use names like `conference-paper` and `revised-results`, but she found them hard to understand after a couple of years. (The final straw was when she found herself creating a directory called `revised-revised-results-3`.)"
   ]
  },
  {
   "cell_type": "markdown",
   "metadata": {
    "slideshow": {
     "slide_type": "slide"
    }
   },
   "source": [
    "## Information: Sorting Output\n",
    "Nelle names her directories \"year-month-day\", with leading zeroes for months and days, because the shell displays file and directory names in alphabetical order. If she used month names, December would come before July; if she didn't use leading zeroes, November ('11') would come before July ('7'). Similarly, putting the year first means that June 2012 will come before June 2013."
   ]
  },
  {
   "cell_type": "markdown",
   "metadata": {
    "slideshow": {
     "slide_type": "slide"
    }
   },
   "source": [
    "Each of her physical samples is labelled according to her lab's convention with a unique ten-character ID, such as \"NENE01729A\". This is what she used in her collection log to record the location, time, depth, and other characteristics of the sample, so she decides to use it as part of each data file's name. Since the assay machine's output is plain text, she will call her files `NENE01729A.txt`, `NENE01812A.txt`, and so on. All 1520 files will go into the same directory."
   ]
  },
  {
   "cell_type": "markdown",
   "metadata": {
    "slideshow": {
     "slide_type": "subslide"
    }
   },
   "source": [
    "Now in her current directory data-shell, Nelle can see what files she has using the command:\n",
    "\n",
    "`ls north-pacific-gyre/2012-07-03/`\n",
    "\n",
    "This is a lot to type, but she can let the shell do most of the work through what is called **tab completion**. If she types:\n",
    "\n",
    "`ls nor`\n",
    "\n",
    "and then presses tab (the tab key on her keyboard), the shell automatically completes the directory name for her:\n",
    "\n",
    "`ls north-pacific-gyre/`\n",
    "\n",
    "If she presses tab again, Bash will add `2012-07-03/` to the command, since it's the only possible completion. Pressing tab again does nothing, since there are 19 possibilities; pressing tab twice brings up a list of all the files, and so on. This is called **tab completion**, and we will see it in many other tools as we go on."
   ]
  },
  {
   "cell_type": "markdown",
   "metadata": {
    "slideshow": {
     "slide_type": "slide"
    }
   },
   "source": [
    "## Information: linux.bath and the ‘H-drive’\n",
    "\n",
    "Your results may be slightly different depending on how you have customized your filesystem.\n",
    "From the Windows taskbar open a File explorer window and open the ‘H-drive’ H: What do you notice about the output of ls and the contents of H:\n",
    "Also compare the output of ls dos and the contents of your Documents folder in Windows File Explorer.\n"
   ]
  },
  {
   "cell_type": "markdown",
   "metadata": {
    "slideshow": {
     "slide_type": "slide"
    }
   },
   "source": [
    "## Key Points:\n",
    "\n",
    "- The file system is responsible for managing information on the disk.\n",
    "- Information is stored in files, which are stored in directories (folders).\n",
    "- Directories can also store other directories, which forms a directory tree.\n",
    "- `cd path` changes the current working directory.\n",
    "- `ls path` prints a listing of a specific file or directory; `ls` on its own lists the current working directory.\n",
    "- `pwd` prints the user's current working directory.\n",
    "- `/` on its own is the root directory of the whole file system.\n",
    "- A relative path specifies a location starting from the current location.\n",
    "- An absolute path specifies a location from the root of the file system.\n",
    "- Directory names in a path are separated with `/` on Unix, but `\\` on Windows.\n",
    "- `..` means 'the directory above the current one'; `.` on its own means 'the current directory'.\n",
    "- Most files' names are something.extension. The extension isn't required, and doesn't guarantee anything, but is normally used to indicate the type of data in the file."
   ]
  }
 ],
 "metadata": {
  "celltoolbar": "Slideshow",
  "kernelspec": {
   "display_name": "Python 3",
   "language": "python",
   "name": "python3"
  },
  "language_info": {
   "codemirror_mode": {
    "name": "ipython",
    "version": 3
   },
   "file_extension": ".py",
   "mimetype": "text/x-python",
   "name": "python",
   "nbconvert_exporter": "python",
   "pygments_lexer": "ipython3",
   "version": "3.7.3"
  }
 },
 "nbformat": 4,
 "nbformat_minor": 2
}
