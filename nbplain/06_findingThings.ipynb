{
 "cells": [
  {
   "cell_type": "markdown",
   "metadata": {
    "slideshow": {
     "slide_type": "slide"
    }
   },
   "source": [
    "# Finding Things"
   ]
  },
  {
   "cell_type": "markdown",
   "metadata": {
    "slideshow": {
     "slide_type": "subslide"
    }
   },
   "source": [
    "## Overview:\n",
    "\n",
    "**Teaching:** 25 min\n",
    "\n",
    "**Exercises:** 20 min\n",
    "\n",
    "**Questions**\n",
    "- How can I find files?\n",
    "- How can I find things in files?\n",
    "\n",
    "**Objectives**\n",
    "- Use `grep` to select lines from text files that match simple patterns.\n",
    "- Use `find` to find files whose names match simple patterns.\n",
    "- Use the output of one command as the command-line argument(s) to another command.\n",
    "- Explain what is meant by 'text' and 'binary' files, and why many common tools don't handle the latter well."
   ]
  },
  {
   "cell_type": "markdown",
   "metadata": {
    "slideshow": {
     "slide_type": "slide"
    }
   },
   "source": [
    "In the same way that many of us now use \"Google\" as a verb meaning \"to find\", Unix programmers often use the word \"grep\". \"grep\" is a contraction of \"global/regular expression/print\", a common sequence of operations in early Unix text editors. It is also the name of a very useful command-line program.\n",
    "\n",
    "`grep` finds and prints lines in files that match a pattern. For our examples, we will use a file that contains three haikus taken from a 1998 competition in Salon magazine. For this set of examples, we're going to be working in the `writing` subdirectory:"
   ]
  },
  {
   "cell_type": "code",
   "execution_count": 1,
   "metadata": {
    "slideshow": {
     "slide_type": "subslide"
    }
   },
   "outputs": [
    {
     "name": "stdout",
     "output_type": "stream",
     "text": [
      "The Tao that is seen\n",
      "Is not the true Tao, until\n",
      "You bring fresh toner.\n",
      "\n",
      "With searching comes loss\n",
      "and the presence of absence:\n",
      "\"My Thesis\" not found.\n",
      "\n",
      "Yesterday it worked\n",
      "Today it is not working\n",
      "Software is like that.\n"
     ]
    }
   ],
   "source": [
    "%%bash2 --dir ~/library/data/data-shell\n",
    "cd writing\n",
    "cat haiku.txt"
   ]
  },
  {
   "cell_type": "markdown",
   "metadata": {
    "slideshow": {
     "slide_type": "skip"
    }
   },
   "source": [
    "## Information: Forever, or Five Years\n",
    "We haven't linked to the original haikus because they don't appear to be on Salon's site any longer. As Jeff Rothenberg said, \"Digital information lasts forever — or five years, whichever comes first.\" Luckily, popular content often has backups."
   ]
  },
  {
   "cell_type": "markdown",
   "metadata": {
    "slideshow": {
     "slide_type": "slide"
    }
   },
   "source": [
    "Let's find lines that contain the word \"not\":"
   ]
  },
  {
   "cell_type": "code",
   "execution_count": 2,
   "metadata": {
    "slideshow": {
     "slide_type": "fragment"
    }
   },
   "outputs": [
    {
     "name": "stdout",
     "output_type": "stream",
     "text": [
      "Is not the true Tao, until\n",
      "\"My Thesis\" not found.\n",
      "Today it is not working\n"
     ]
    }
   ],
   "source": [
    "%%bash2\n",
    "grep not haiku.txt"
   ]
  },
  {
   "cell_type": "markdown",
   "metadata": {
    "slideshow": {
     "slide_type": "subslide"
    }
   },
   "source": [
    "Here, not is the pattern we're searching for. The `grep` command searches through the file, looking for matches to the pattern specified. To use it type `grep`, then the pattern we're searching for and finally the name of the file (or files) we're searching in.\n",
    "\n",
    "The output is the three lines in the file that contain the letters \"not\"."
   ]
  },
  {
   "cell_type": "markdown",
   "metadata": {
    "slideshow": {
     "slide_type": "slide"
    }
   },
   "source": [
    "Let's try a different pattern: \"The\"."
   ]
  },
  {
   "cell_type": "code",
   "execution_count": 3,
   "metadata": {
    "slideshow": {
     "slide_type": "fragment"
    }
   },
   "outputs": [
    {
     "name": "stdout",
     "output_type": "stream",
     "text": [
      "The Tao that is seen\n",
      "\"My Thesis\" not found.\n"
     ]
    }
   ],
   "source": [
    "%%bash2\n",
    "grep The haiku.txt"
   ]
  },
  {
   "cell_type": "markdown",
   "metadata": {
    "slideshow": {
     "slide_type": "subslide"
    }
   },
   "source": [
    "This time, two lines that include the letters \"The\" are outputted. However, one instance of those letters is contained within a larger word, \"Thesis\".\n",
    "\n",
    "To restrict matches to lines containing the word \"The\" on its own, we can give grep with the `-w` flag. This will limit matches to word boundaries."
   ]
  },
  {
   "cell_type": "code",
   "execution_count": 4,
   "metadata": {
    "slideshow": {
     "slide_type": "fragment"
    }
   },
   "outputs": [
    {
     "name": "stdout",
     "output_type": "stream",
     "text": [
      "The Tao that is seen\n"
     ]
    }
   ],
   "source": [
    "%%bash2\n",
    "grep -w The haiku.txt"
   ]
  },
  {
   "cell_type": "markdown",
   "metadata": {
    "slideshow": {
     "slide_type": "subslide"
    }
   },
   "source": [
    "Note that a \"word boundary\" includes the start and end of a line, so not just letters surrounded by spaces. Sometimes we don't want to search for a single word, but a phrase. This is also easy to do with grep by putting the phrase in quotes."
   ]
  },
  {
   "cell_type": "code",
   "execution_count": 5,
   "metadata": {
    "slideshow": {
     "slide_type": "subslide"
    }
   },
   "outputs": [
    {
     "name": "stdout",
     "output_type": "stream",
     "text": [
      "Today it is not working\n"
     ]
    }
   ],
   "source": [
    "%%bash2\n",
    "grep -w \"is not\" haiku.txt"
   ]
  },
  {
   "cell_type": "markdown",
   "metadata": {
    "slideshow": {
     "slide_type": "subslide"
    }
   },
   "source": [
    "We've now seen that you don't have to have quotes around single words, but it is useful to use quotes when searching for multiple words. It also helps to make it easier to distinguish between the search term or phrase and the file being searched. We will use quotes in the remaining examples."
   ]
  },
  {
   "cell_type": "markdown",
   "metadata": {
    "slideshow": {
     "slide_type": "slide"
    }
   },
   "source": [
    "Another useful option is `-n`, which numbers the lines that match:"
   ]
  },
  {
   "cell_type": "code",
   "execution_count": 6,
   "metadata": {
    "slideshow": {
     "slide_type": "fragment"
    }
   },
   "outputs": [
    {
     "name": "stdout",
     "output_type": "stream",
     "text": [
      "5:With searching comes loss\n",
      "9:Yesterday it worked\n",
      "10:Today it is not working\n"
     ]
    }
   ],
   "source": [
    "%%bash2\n",
    "grep -n \"it\" haiku.txt"
   ]
  },
  {
   "cell_type": "markdown",
   "metadata": {
    "slideshow": {
     "slide_type": "subslide"
    }
   },
   "source": [
    "Here, we can see that lines 5, 9, and 10 contain the letters \"it\".\n",
    "\n",
    "We can combine options (i.e. flags) as we do with other Unix commands. For example, let's find the lines that contain the word \"the\". We can combine the option `-w` to find the lines that contain the word \"the\" and `-n` to number the lines that match:"
   ]
  },
  {
   "cell_type": "code",
   "execution_count": 7,
   "metadata": {
    "slideshow": {
     "slide_type": "fragment"
    }
   },
   "outputs": [
    {
     "name": "stdout",
     "output_type": "stream",
     "text": [
      "2:Is not the true Tao, until\n",
      "6:and the presence of absence:\n"
     ]
    }
   ],
   "source": [
    "%%bash2\n",
    "grep -n -w \"the\" haiku.txt"
   ]
  },
  {
   "cell_type": "markdown",
   "metadata": {
    "slideshow": {
     "slide_type": "subslide"
    }
   },
   "source": [
    "Now we want to use the option `-i` to make our search case-insensitive:"
   ]
  },
  {
   "cell_type": "code",
   "execution_count": 8,
   "metadata": {
    "slideshow": {
     "slide_type": "fragment"
    }
   },
   "outputs": [
    {
     "name": "stdout",
     "output_type": "stream",
     "text": [
      "1:The Tao that is seen\n",
      "2:Is not the true Tao, until\n",
      "6:and the presence of absence:\n"
     ]
    }
   ],
   "source": [
    "%%bash2\n",
    "grep -n -w -i \"the\" haiku.txt"
   ]
  },
  {
   "cell_type": "markdown",
   "metadata": {
    "slideshow": {
     "slide_type": "subslide"
    }
   },
   "source": [
    "Now, we want to use the option `-v` to invert our search, i.e., we want to output the lines that do not contain the word \"the\"."
   ]
  },
  {
   "cell_type": "code",
   "execution_count": 9,
   "metadata": {
    "slideshow": {
     "slide_type": "fragment"
    }
   },
   "outputs": [
    {
     "name": "stdout",
     "output_type": "stream",
     "text": [
      "1:The Tao that is seen\n",
      "3:You bring fresh toner.\n",
      "4:\n",
      "5:With searching comes loss\n",
      "7:\"My Thesis\" not found.\n",
      "8:\n",
      "9:Yesterday it worked\n",
      "10:Today it is not working\n",
      "11:Software is like that.\n"
     ]
    }
   ],
   "source": [
    "%%bash2\n",
    "grep -n -w -v \"the\" haiku.txt"
   ]
  },
  {
   "cell_type": "markdown",
   "metadata": {
    "slideshow": {
     "slide_type": "subslide"
    }
   },
   "source": [
    "`grep` has lots of other options. To find out what they are, we can type:"
   ]
  },
  {
   "cell_type": "code",
   "execution_count": 10,
   "metadata": {
    "slideshow": {
     "slide_type": "fragment"
    }
   },
   "outputs": [
    {
     "name": "stdout",
     "output_type": "stream",
     "text": [
      "Usage: grep [OPTION]... PATTERN [FILE]...\n",
      "Search for PATTERN in each FILE or standard input.\n",
      "PATTERN is, by default, a basic regular expression (BRE).\n",
      "Example: grep -i 'hello world' menu.h main.c\n",
      "\n",
      "Regexp selection and interpretation:\n",
      "  -E, --extended-regexp     PATTERN is an extended regular expression (ERE)\n",
      "  -F, --fixed-strings       PATTERN is a set of newline-separated strings\n",
      "  -G, --basic-regexp        PATTERN is a basic regular expression (BRE)\n",
      "  -P, --perl-regexp         PATTERN is a Perl regular expression\n",
      "  -e, --regexp=PATTERN      use PATTERN for matching\n",
      "  -f, --file=FILE           obtain PATTERN from FILE\n",
      "  -i, --ignore-case         ignore case distinctions\n",
      "  -w, --word-regexp         force PATTERN to match only whole words\n",
      "  -x, --line-regexp         force PATTERN to match only whole lines\n",
      "  -z, --null-data           a data line ends in 0 byte, not newline\n",
      "\n",
      "Miscellaneous:\n",
      "  -s, --no-messages         suppress error messages\n",
      "  -v, --invert-match        select non-matching lines\n"
     ]
    }
   ],
   "source": [
    "%%bash2\n",
    "grep --help | head -20 # Remove `| head -20` to see full output"
   ]
  },
  {
   "cell_type": "markdown",
   "metadata": {
    "slideshow": {
     "slide_type": "slide"
    }
   },
   "source": [
    "## Exercise: Using grep\n",
    "Which command would result in the following output:\n",
    "```bash\n",
    "and the presence of absence:\n",
    "```\n",
    "1. `grep \"of\" haiku.txt`\n",
    "2. `grep -E \"of\" haiku.txt`\n",
    "3. `grep -w \"of\" haiku.txt`\n",
    "4. `grep -i \"of\" haiku.txt`\n",
    "\n",
    "[Solution]()"
   ]
  },
  {
   "cell_type": "markdown",
   "metadata": {
    "slideshow": {
     "slide_type": "slide"
    }
   },
   "source": [
    "## Solution: Using grep\n",
    "The correct answer is 3, because the `-w` flag looks only for whole-word matches. The other options will all match \"of\" when part of another word."
   ]
  },
  {
   "cell_type": "markdown",
   "metadata": {
    "slideshow": {
     "slide_type": "slide"
    }
   },
   "source": [
    "## Information: Wildcards\n",
    "`grep`'s real power doesn't come from its options, though; it comes from the fact that patterns can include wildcards. (The technical name for these is regular expressions, which is what the \"re\" in \"grep\" stands for.) Regular expressions are both complex and powerful; if you want to do complex searches, please look at the lesson on our website. As a taster, we can find lines that have an 'o' in the second position like this:\n",
    "```bash\n",
    "grep -E '^.o' haiku.txt\n",
    "\n",
    "You bring fresh toner.\n",
    "Today it is not working\n",
    "Software is like that.\n",
    "```\n",
    "We use the `-E` flag and put the pattern in quotes to prevent the shell from trying to interpret it. (If the pattern contained a `*`, for example, the shell would try to expand it before running grep.) The `^` in the pattern anchors the match to the start of the line. The `.` matches a single character (just like `?` in the shell), while the `o` matches an actual 'o'."
   ]
  },
  {
   "cell_type": "markdown",
   "metadata": {
    "slideshow": {
     "slide_type": "slide"
    }
   },
   "source": [
    "## Exercise: Tracking a Species\n",
    "Leah has several hundred data files saved in one directory, each of which is formatted like this:\n",
    "```bash\n",
    "2013-11-05,deer,5\n",
    "2013-11-05,rabbit,22\n",
    "2013-11-05,raccoon,7\n",
    "2013-11-06,rabbit,19\n",
    "2013-11-06,deer,2\n",
    "```\n",
    "She wants to write a shell script that takes a species as the first command-line argument and a directory as the second argument. The script should return one file called `species.txt` containing a list of dates and the number of that species seen on each date. For example using the data shown above, `rabbit.txt` would contain:\n",
    "```bash\n",
    "2013-11-05,22\n",
    "2013-11-06,19\n",
    "```\n",
    "Put these commands and pipes in the right order to achieve this:\n",
    "```bash\n",
    "cut -d : -f 2  \n",
    ">  \n",
    "|  \n",
    "grep -w $1 -r $2  \n",
    "|  \n",
    "$1.txt  \n",
    "cut -d , -f 1,3  \n",
    "```\n",
    "Hint: use `man grep` to look for how to grep text recursively in a directory and `man cut` to select more than one field in a line.\n",
    "\n",
    "An example of such a file is provided in `data-shell/data/animal-counts/animals.txt`\n",
    "\n",
    "[Solution]()"
   ]
  },
  {
   "cell_type": "markdown",
   "metadata": {
    "slideshow": {
     "slide_type": "slide"
    }
   },
   "source": [
    "## Solution: Tracking a Species\n",
    "```bash\n",
    "grep -w $1 -r $2 | cut -d : -f 2 | cut -d , -f 1,3  > $1.txt\n",
    "```\n",
    "You would call the script above like this:\n",
    "```bash\n",
    "bash count-species.sh bear .\n",
    "```\n",
    "."
   ]
  },
  {
   "cell_type": "markdown",
   "metadata": {
    "slideshow": {
     "slide_type": "slide"
    }
   },
   "source": [
    "## Exercise: Little Women\n",
    "You and your friend, having just finished reading Little Women by Louisa May Alcott, are in an argument. Of the four sisters in the book, Jo, Meg, Beth, and Amy, your friend thinks that Jo was the most mentioned. You, however, are certain it was Amy. Luckily, you have a file `LittleWomen.txt` containing the full text of the novel (`data-shell/writing/data/LittleWomen.txt`). How would you tabulate the number of times each of the four sisters is mentioned?\n",
    "\n",
    "Hint: one solution might employ the commands `grep` and `wc` and a `|`, while another might utilize `grep` options. There is often more than one way to solve a programming task, so a particular solution is usually chosen based on a combination of yielding the correct result, elegance, readability, and speed.\n",
    "\n",
    "[Solution]()"
   ]
  },
  {
   "cell_type": "markdown",
   "metadata": {
    "slideshow": {
     "slide_type": "slide"
    }
   },
   "source": [
    "## Solution: Little Women\n",
    "```bash\n",
    "grep -ow Amy LittleWomen.txt | wc -l\n",
    "grep -ow Beth LittleWomen.txt | wc -l\n",
    "grep -ow Jo LittleWomen.txt | wc -l\n",
    "grep -ow Meg LittleWomen.txt | wc -l\n",
    "```\n",
    "Alternative, slightly inferior solution:\n",
    "```bash\n",
    "grep -ocw Amy LittleWomen.txt\n",
    "grep -ocw Beth LittleWomen.txt\n",
    "grep -ocw Jo LittleWomen.txt\n",
    "grep -ocw Meg LittleWomen.txt\n",
    "```\n",
    "This solution is inferior because `grep -c` only reports the number of lines matched. The total number of matches reported by this method will be lower if there is more than one match per line."
   ]
  },
  {
   "cell_type": "markdown",
   "metadata": {
    "slideshow": {
     "slide_type": "slide"
    }
   },
   "source": [
    "While `grep` finds lines in files, the find command finds files themselves. Again, it has a lot of options; to show how the simplest ones work, we'll use the directory tree shown below.\n",
    "\n",
    "![](../images/find-file-tree.svg)"
   ]
  },
  {
   "cell_type": "markdown",
   "metadata": {
    "slideshow": {
     "slide_type": "subslide"
    }
   },
   "source": [
    "Nelle's writing directory contains one file called `haiku.txt` and three subdirectories: `thesis` (which contains a sadly empty file, `empty-draft.md`); `data` (which contains three files `LittleWomen.txt`, `one.txt` and `two.txt`); and a `tools` directory that contains the programs `format` and `stats`, and a subdirectory called `old`, with a file `oldtool`."
   ]
  },
  {
   "cell_type": "markdown",
   "metadata": {
    "slideshow": {
     "slide_type": "slide"
    }
   },
   "source": [
    "For our first command, let's run `find .`."
   ]
  },
  {
   "cell_type": "code",
   "execution_count": 11,
   "metadata": {
    "slideshow": {
     "slide_type": "fragment"
    }
   },
   "outputs": [
    {
     "name": "stdout",
     "output_type": "stream",
     "text": [
      ".\n",
      "./tools\n",
      "./tools/old\n",
      "./tools/old/oldtool\n",
      "./tools/stats\n",
      "./tools/format\n",
      "./thesis\n",
      "./thesis/empty-draft.md\n",
      "./haiku.txt\n",
      "./data\n",
      "./data/two.txt\n",
      "./data/LittleWomen.txt\n",
      "./data/one.txt\n"
     ]
    }
   ],
   "source": [
    "%%bash2\n",
    "find ."
   ]
  },
  {
   "cell_type": "markdown",
   "metadata": {
    "slideshow": {
     "slide_type": "subslide"
    }
   },
   "source": [
    "As always, the `.` on its own means the current working directory, which is where we want our search to start. `find`'s output is the names of every file and directory under the current working directory. This can seem useless at first but find has many options to filter the output and in this lesson we will discover some of them."
   ]
  },
  {
   "cell_type": "markdown",
   "metadata": {
    "slideshow": {
     "slide_type": "subslide"
    }
   },
   "source": [
    "The first option in our list is `-type d` that means \"things that are directories\". Sure enough, `find`'s output is the names of the five directories in our little tree (including `.`):"
   ]
  },
  {
   "cell_type": "code",
   "execution_count": 12,
   "metadata": {
    "slideshow": {
     "slide_type": "fragment"
    }
   },
   "outputs": [
    {
     "name": "stdout",
     "output_type": "stream",
     "text": [
      ".\n",
      "./tools\n",
      "./tools/old\n",
      "./thesis\n",
      "./data\n"
     ]
    }
   ],
   "source": [
    "%%bash2\n",
    "find . -type d"
   ]
  },
  {
   "cell_type": "markdown",
   "metadata": {
    "slideshow": {
     "slide_type": "subslide"
    }
   },
   "source": [
    "Notice that the objects find finds are not listed in any particular order. If we change `-type d` to `-type f`, we get a listing of all the files instead:"
   ]
  },
  {
   "cell_type": "code",
   "execution_count": 13,
   "metadata": {
    "slideshow": {
     "slide_type": "fragment"
    }
   },
   "outputs": [
    {
     "name": "stdout",
     "output_type": "stream",
     "text": [
      "./tools/old/oldtool\n",
      "./tools/stats\n",
      "./tools/format\n",
      "./thesis/empty-draft.md\n",
      "./haiku.txt\n",
      "./data/two.txt\n",
      "./data/LittleWomen.txt\n",
      "./data/one.txt\n"
     ]
    }
   ],
   "source": [
    "%%bash2\n",
    "find . -type f"
   ]
  },
  {
   "cell_type": "markdown",
   "metadata": {
    "slideshow": {
     "slide_type": "subslide"
    }
   },
   "source": [
    "Now let's try matching by name:"
   ]
  },
  {
   "cell_type": "code",
   "execution_count": 14,
   "metadata": {
    "slideshow": {
     "slide_type": "fragment"
    }
   },
   "outputs": [
    {
     "name": "stdout",
     "output_type": "stream",
     "text": [
      "./haiku.txt\n"
     ]
    }
   ],
   "source": [
    "%%bash2\n",
    "find . -name *.txt"
   ]
  },
  {
   "cell_type": "markdown",
   "metadata": {
    "slideshow": {
     "slide_type": "subslide"
    }
   },
   "source": [
    "We expected it to find all the text files, but it only prints out `./haiku.txt`. The problem is that the shell expands wildcard characters like `*` before commands run. Since `*.txt` in the current directory expands to `haiku.txt`, the command we actually ran was:"
   ]
  },
  {
   "cell_type": "code",
   "execution_count": 15,
   "metadata": {
    "slideshow": {
     "slide_type": "fragment"
    }
   },
   "outputs": [
    {
     "name": "stdout",
     "output_type": "stream",
     "text": [
      "./haiku.txt\n"
     ]
    }
   ],
   "source": [
    "%%bash2\n",
    "find . -name haiku.txt"
   ]
  },
  {
   "cell_type": "markdown",
   "metadata": {
    "slideshow": {
     "slide_type": "subslide"
    }
   },
   "source": [
    "`find` did what we asked; we just asked for the wrong thing.\n",
    "\n",
    "To get what we want, let's do what we did with grep: put `*.txt` in single quotes to prevent the shell from expanding the `*` wildcard. This way, find actually gets the pattern `*.txt`, not the expanded filename `haiku.txt`:"
   ]
  },
  {
   "cell_type": "code",
   "execution_count": 16,
   "metadata": {
    "slideshow": {
     "slide_type": "fragment"
    }
   },
   "outputs": [
    {
     "name": "stdout",
     "output_type": "stream",
     "text": [
      "./haiku.txt\n",
      "./data/two.txt\n",
      "./data/LittleWomen.txt\n",
      "./data/one.txt\n"
     ]
    }
   ],
   "source": [
    "%%bash2\n",
    "find . -name '*.txt'"
   ]
  },
  {
   "cell_type": "markdown",
   "metadata": {
    "slideshow": {
     "slide_type": "slide"
    }
   },
   "source": [
    "## Information: Listing vs. Finding\n",
    "`ls` and `find` can be made to do similar things given the right options, but under normal circumstances, `ls` lists everything it can, while find searches for things with certain properties and shows them."
   ]
  },
  {
   "cell_type": "markdown",
   "metadata": {
    "slideshow": {
     "slide_type": "slide"
    }
   },
   "source": [
    "As we said earlier, the command line's power lies in combining tools. We've seen how to do that with pipes; let's look at another technique. As we just saw, `find . -name '*.txt'` gives us a list of all text files in or below the current directory. How can we combine that with `wc -l` to count the lines in all those files?"
   ]
  },
  {
   "cell_type": "markdown",
   "metadata": {
    "slideshow": {
     "slide_type": "subslide"
    }
   },
   "source": [
    "The simplest way is to put the find command inside `$()`:"
   ]
  },
  {
   "cell_type": "code",
   "execution_count": 17,
   "metadata": {
    "slideshow": {
     "slide_type": "fragment"
    }
   },
   "outputs": [
    {
     "name": "stdout",
     "output_type": "stream",
     "text": [
      "     11 ./haiku.txt\n",
      "    300 ./data/two.txt\n",
      "  21022 ./data/LittleWomen.txt\n",
      "     70 ./data/one.txt\n",
      "  21403 total\n"
     ]
    }
   ],
   "source": [
    "%%bash2\n",
    "wc -l $(find . -name '*.txt')"
   ]
  },
  {
   "cell_type": "markdown",
   "metadata": {
    "slideshow": {
     "slide_type": "subslide"
    }
   },
   "source": [
    "When the shell executes this command, the first thing it does is run whatever is inside the `$()`. It then replaces the `$()` expression with that command's output. Since the output of find is the four filenames `./data/one.txt`, `./data/LittleWomen.txt`, `./data/two.txt`, and `./haiku.txt`, the shell constructs the command:"
   ]
  },
  {
   "cell_type": "code",
   "execution_count": 18,
   "metadata": {
    "slideshow": {
     "slide_type": "fragment"
    }
   },
   "outputs": [
    {
     "name": "stdout",
     "output_type": "stream",
     "text": [
      "     70 ./data/one.txt\n",
      "  21022 ./data/LittleWomen.txt\n",
      "    300 ./data/two.txt\n",
      "     11 ./haiku.txt\n",
      "  21403 total\n"
     ]
    }
   ],
   "source": [
    "%%bash2\n",
    "wc -l ./data/one.txt ./data/LittleWomen.txt ./data/two.txt ./haiku.txt"
   ]
  },
  {
   "cell_type": "markdown",
   "metadata": {
    "slideshow": {
     "slide_type": "subslide"
    }
   },
   "source": [
    "which is what we wanted. This expansion is exactly what the shell does when it expands wildcards like `*` and `?`, but lets us use any command we want as our own \"wildcard\"."
   ]
  },
  {
   "cell_type": "markdown",
   "metadata": {
    "slideshow": {
     "slide_type": "subslide"
    }
   },
   "source": [
    "It's very common to use `find` and `grep` together. The first finds files that match a pattern; the second looks for lines inside those files that match another pattern. Here, for example, we can find PDB files that contain iron atoms by looking for the string \"FE\" in all the `.pdb` files above the current directory:"
   ]
  },
  {
   "cell_type": "code",
   "execution_count": 19,
   "metadata": {
    "slideshow": {
     "slide_type": "fragment"
    }
   },
   "outputs": [
    {
     "name": "stdout",
     "output_type": "stream",
     "text": [
      "../data/pdb/heme.pdb:ATOM     25 FE           1      -0.924   0.535  -0.518\n"
     ]
    }
   ],
   "source": [
    "%%bash2\n",
    "grep \"FE\" $(find .. -name '*.pdb')"
   ]
  },
  {
   "cell_type": "markdown",
   "metadata": {
    "slideshow": {
     "slide_type": "slide"
    }
   },
   "source": [
    "## Exercise: Matching and Subtracting\n",
    "The `-v` flag to `grep` inverts pattern matching, so that only lines which do not match the pattern are printed. Given that, which of the following commands will find all files in `data` whose names end in `s.txt` (e.g., `animals.txt` or `planets.txt`), but do not contain the word `net`? Once you have thought about your answer, you can test the commands in the `data-shell` directory.\n",
    "1. `find data -name '*s.txt' | grep -v net`\n",
    "2. `find data -name *s.txt | grep -v net`\n",
    "3. `grep -v \"temp\" $(find data -name '*s.txt')`\n",
    "4. None of the above.\n",
    "\n",
    "[Solution]()"
   ]
  },
  {
   "cell_type": "markdown",
   "metadata": {
    "slideshow": {
     "slide_type": "slide"
    }
   },
   "source": [
    "## Solution: Matching and Subtracting\n",
    "The correct answer is 1. Putting the match expression in quotes prevents the shell expanding it, so it gets passed to the find command.\n",
    "\n",
    "Option 2 is incorrect because the shell expands *s.txt instead of passing the wildcard expression to find.\n",
    "\n",
    "Option 3 is incorrect because it searches the contents of the files for lines which do not match \"temp\", rather than searching the file names."
   ]
  },
  {
   "cell_type": "markdown",
   "metadata": {
    "slideshow": {
     "slide_type": "slide"
    }
   },
   "source": [
    "## Information: Binary Files\n",
    "We have focused exclusively on finding things in text files. What if your data is stored as images, in databases, or in some other format? One option would be to extend tools like `grep` to handle those formats. This hasn't happened, and probably won't, because there are too many formats to support.\n",
    "\n",
    "The second option is to convert the data to text, or extract the text-ish bits from the data. This is probably the most common approach, since it only requires people to build one tool per data format (to extract information). On the one hand, it makes simple things easy to do. On the negative side, complex things are usually impossible. For example, it's easy enough to write a program that will extract X and Y dimensions from image files for `grep` to play with, but how would you write something to find values in a spreadsheet whose cells contained formulas?\n",
    "\n",
    "The third choice is to recognize that the shell and text processing have their limits, and to use another programming language. When the time comes to do this, don't be too hard on the shell: many modern programming languages have borrowed a lot of ideas from it, and imitation is also the sincerest form of praise."
   ]
  },
  {
   "cell_type": "markdown",
   "metadata": {
    "slideshow": {
     "slide_type": "slide"
    }
   },
   "source": [
    "The Unix shell is older than most of the people who use it. It has survived so long because it is one of the most productive programming environments ever created - maybe even the most productive. Its syntax may be cryptic, but people who have mastered it can experiment with different commands interactively, then use what they have learned to automate their work. Graphical user interfaces may be better at the first, but the shell is still unbeaten at the second. And as Alfred North Whitehead wrote in 1911, \"Civilization advances by extending the number of important operations which we can perform without thinking about them.\""
   ]
  },
  {
   "cell_type": "markdown",
   "metadata": {
    "slideshow": {
     "slide_type": "slide"
    }
   },
   "source": [
    "## Exercise: `find` Pipeline Reading Comprehension\n",
    "Write a short explanatory comment for the following shell script:\n",
    "```bash\n",
    "wc -l $(find . -name '*.dat') | sort -n\n",
    "```\n",
    ".\n",
    "[Solution]()"
   ]
  },
  {
   "cell_type": "markdown",
   "metadata": {
    "slideshow": {
     "slide_type": "slide"
    }
   },
   "source": [
    "## Solution: `find` Pipeline Reading Comprehension\n",
    "1. Find all files with a `.dat` extension in the current directory\n",
    "2. Count the number of lines each of these files contains\n",
    "3. Sort the output from step 2. numerically"
   ]
  },
  {
   "cell_type": "markdown",
   "metadata": {
    "slideshow": {
     "slide_type": "slide"
    }
   },
   "source": [
    "## Exercise: Finding Files With Different Properties\n",
    "The `find` command can be given several other criteria known as \"tests\" to locate files with specific attributes, such as creation time, size, permissions, or ownership. Use `man find` to explore these, and then write a single command to find all files in or below the current directory that were modified by the user `ahmed` in the last 24 hours.\n",
    "\n",
    "Hint 1: you will need to use three tests: `-type`, `mtime`, and `-user`.\n",
    "\n",
    "Hint 2: The value for `-mtime` will need to be negative—why?\n",
    "\n",
    "[Solution]()"
   ]
  },
  {
   "cell_type": "markdown",
   "metadata": {
    "slideshow": {
     "slide_type": "slide"
    }
   },
   "source": [
    "## Solution: Finding Files With Different Properties\n",
    "Assuming that Nelle's home is our working directory we type:\n",
    "```bash\n",
    "find ./ -type f -mtime -1 -user ahmed\n",
    "```\n",
    "."
   ]
  },
  {
   "cell_type": "markdown",
   "metadata": {
    "slideshow": {
     "slide_type": "slide"
    }
   },
   "source": [
    "## Key Points:\n",
    "\n",
    "- `find` finds files with specific properties that match patterns.\n",
    "- `grep` selects lines in files that match patterns.\n",
    "- `--help` is a flag supported by many bash commands, and programs that can be run from within Bash, to display more information on how to use these commands or programs.\n",
    "- `man` command displays the manual page for a given command.\n",
    "- `$(command)` inserts a command's output in place."
   ]
  }
 ],
 "metadata": {
  "celltoolbar": "Slideshow",
  "kernelspec": {
   "display_name": "Python 3",
   "language": "python",
   "name": "python3"
  },
  "language_info": {
   "codemirror_mode": {
    "name": "ipython",
    "version": 3
   },
   "file_extension": ".py",
   "mimetype": "text/x-python",
   "name": "python",
   "nbconvert_exporter": "python",
   "pygments_lexer": "ipython3",
   "version": "3.7.3"
  }
 },
 "nbformat": 4,
 "nbformat_minor": 2
}
