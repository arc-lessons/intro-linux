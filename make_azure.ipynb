{
  "cells": [
    {
      "metadata": {
        "trusted": true
      },
      "cell_type": "code",
      "source": "!pip install -r requirements.txt",
      "execution_count": 2,
      "outputs": [
        {
          "output_type": "stream",
          "text": "Requirement already satisfied: jupyter_contrib_nbextensions in /home/nbuser/anaconda3_501/lib/python3.6/site-packages (from -r requirements.txt (line 1)) (0.5.1)\nRequirement already satisfied: lxml in /home/nbuser/anaconda3_501/lib/python3.6/site-packages (from jupyter_contrib_nbextensions->-r requirements.txt (line 1)) (4.2.5)\nRequirement already satisfied: jupyter-nbextensions-configurator>=0.4.0 in /home/nbuser/anaconda3_501/lib/python3.6/site-packages (from jupyter_contrib_nbextensions->-r requirements.txt (line 1)) (0.4.1)\nRequirement already satisfied: notebook>=4.0 in /home/nbuser/anaconda3_501/lib/python3.6/site-packages (from jupyter_contrib_nbextensions->-r requirements.txt (line 1)) (5.7.2)\nRequirement already satisfied: pyyaml in /home/nbuser/anaconda3_501/lib/python3.6/site-packages (from jupyter_contrib_nbextensions->-r requirements.txt (line 1)) (3.13)\nRequirement already satisfied: tornado in /home/nbuser/anaconda3_501/lib/python3.6/site-packages (from jupyter_contrib_nbextensions->-r requirements.txt (line 1)) (4.5.3)\nRequirement already satisfied: nbconvert>=4.2 in /home/nbuser/anaconda3_501/lib/python3.6/site-packages (from jupyter_contrib_nbextensions->-r requirements.txt (line 1)) (5.4.0)\nRequirement already satisfied: jupyter-highlight-selected-word>=0.1.1 in /home/nbuser/anaconda3_501/lib/python3.6/site-packages (from jupyter_contrib_nbextensions->-r requirements.txt (line 1)) (0.2.0)\nRequirement already satisfied: jupyter-core in /home/nbuser/anaconda3_501/lib/python3.6/site-packages (from jupyter_contrib_nbextensions->-r requirements.txt (line 1)) (4.4.0)\nRequirement already satisfied: traitlets>=4.1 in /home/nbuser/anaconda3_501/lib/python3.6/site-packages (from jupyter_contrib_nbextensions->-r requirements.txt (line 1)) (4.3.2)\nRequirement already satisfied: ipython-genutils in /home/nbuser/anaconda3_501/lib/python3.6/site-packages (from jupyter_contrib_nbextensions->-r requirements.txt (line 1)) (0.2.0)\nRequirement already satisfied: jupyter-contrib-core>=0.3.3 in /home/nbuser/anaconda3_501/lib/python3.6/site-packages (from jupyter_contrib_nbextensions->-r requirements.txt (line 1)) (0.3.3)\nRequirement already satisfied: jupyter-latex-envs>=1.3.8 in /home/nbuser/anaconda3_501/lib/python3.6/site-packages (from jupyter_contrib_nbextensions->-r requirements.txt (line 1)) (1.4.6)\nRequirement already satisfied: pyzmq>=17 in /home/nbuser/anaconda3_501/lib/python3.6/site-packages (from notebook>=4.0->jupyter_contrib_nbextensions->-r requirements.txt (line 1)) (17.1.2)\nRequirement already satisfied: nbformat in /home/nbuser/anaconda3_501/lib/python3.6/site-packages (from notebook>=4.0->jupyter_contrib_nbextensions->-r requirements.txt (line 1)) (4.4.0)\nRequirement already satisfied: prometheus-client in /home/nbuser/anaconda3_501/lib/python3.6/site-packages (from notebook>=4.0->jupyter_contrib_nbextensions->-r requirements.txt (line 1)) (0.4.2)\nRequirement already satisfied: ipykernel in /home/nbuser/anaconda3_501/lib/python3.6/site-packages (from notebook>=4.0->jupyter_contrib_nbextensions->-r requirements.txt (line 1)) (5.1.0)\nRequirement already satisfied: jinja2 in /home/nbuser/anaconda3_501/lib/python3.6/site-packages (from notebook>=4.0->jupyter_contrib_nbextensions->-r requirements.txt (line 1)) (2.10)\nRequirement already satisfied: jupyter-client>=5.2.0 in /home/nbuser/anaconda3_501/lib/python3.6/site-packages (from notebook>=4.0->jupyter_contrib_nbextensions->-r requirements.txt (line 1)) (5.2.3)\nRequirement already satisfied: Send2Trash in /home/nbuser/anaconda3_501/lib/python3.6/site-packages (from notebook>=4.0->jupyter_contrib_nbextensions->-r requirements.txt (line 1)) (1.5.0)\nRequirement already satisfied: terminado>=0.8.1 in /home/nbuser/anaconda3_501/lib/python3.6/site-packages (from notebook>=4.0->jupyter_contrib_nbextensions->-r requirements.txt (line 1)) (0.8.1)\nRequirement already satisfied: mistune>=0.8.1 in /home/nbuser/anaconda3_501/lib/python3.6/site-packages (from nbconvert>=4.2->jupyter_contrib_nbextensions->-r requirements.txt (line 1)) (0.8.4)\nRequirement already satisfied: pygments in /home/nbuser/anaconda3_501/lib/python3.6/site-packages (from nbconvert>=4.2->jupyter_contrib_nbextensions->-r requirements.txt (line 1)) (2.2.0)\nRequirement already satisfied: entrypoints>=0.2.2 in /home/nbuser/anaconda3_501/lib/python3.6/site-packages (from nbconvert>=4.2->jupyter_contrib_nbextensions->-r requirements.txt (line 1)) (0.2.3)\nRequirement already satisfied: bleach in /home/nbuser/anaconda3_501/lib/python3.6/site-packages (from nbconvert>=4.2->jupyter_contrib_nbextensions->-r requirements.txt (line 1)) (1.5.0)\nRequirement already satisfied: pandocfilters>=1.4.1 in /home/nbuser/anaconda3_501/lib/python3.6/site-packages (from nbconvert>=4.2->jupyter_contrib_nbextensions->-r requirements.txt (line 1)) (1.4.2)\nRequirement already satisfied: testpath in /home/nbuser/anaconda3_501/lib/python3.6/site-packages (from nbconvert>=4.2->jupyter_contrib_nbextensions->-r requirements.txt (line 1)) (0.4.2)\nRequirement already satisfied: defusedxml in /home/nbuser/anaconda3_501/lib/python3.6/site-packages (from nbconvert>=4.2->jupyter_contrib_nbextensions->-r requirements.txt (line 1)) (0.5.0)\nRequirement already satisfied: decorator in /home/nbuser/anaconda3_501/lib/python3.6/site-packages (from traitlets>=4.1->jupyter_contrib_nbextensions->-r requirements.txt (line 1)) (4.3.0)\nRequirement already satisfied: six in /home/nbuser/anaconda3_501/lib/python3.6/site-packages (from traitlets>=4.1->jupyter_contrib_nbextensions->-r requirements.txt (line 1)) (1.11.0)\nRequirement already satisfied: setuptools in /home/nbuser/anaconda3_501/lib/python3.6/site-packages (from jupyter-contrib-core>=0.3.3->jupyter_contrib_nbextensions->-r requirements.txt (line 1)) (40.8.0)\nRequirement already satisfied: ipython in /home/nbuser/anaconda3_501/lib/python3.6/site-packages (from jupyter-latex-envs>=1.3.8->jupyter_contrib_nbextensions->-r requirements.txt (line 1)) (7.1.1)\nRequirement already satisfied: jsonschema!=2.5.0,>=2.4 in /home/nbuser/anaconda3_501/lib/python3.6/site-packages (from nbformat->notebook>=4.0->jupyter_contrib_nbextensions->-r requirements.txt (line 1)) (2.6.0)\nRequirement already satisfied: MarkupSafe>=0.23 in /home/nbuser/anaconda3_501/lib/python3.6/site-packages (from jinja2->notebook>=4.0->jupyter_contrib_nbextensions->-r requirements.txt (line 1)) (1.1.0)\nRequirement already satisfied: python-dateutil>=2.1 in /home/nbuser/anaconda3_501/lib/python3.6/site-packages (from jupyter-client>=5.2.0->notebook>=4.0->jupyter_contrib_nbextensions->-r requirements.txt (line 1)) (2.7.5)\nRequirement already satisfied: html5lib!=0.9999,!=0.99999,<0.99999999,>=0.999 in /home/nbuser/anaconda3_501/lib/python3.6/site-packages (from bleach->nbconvert>=4.2->jupyter_contrib_nbextensions->-r requirements.txt (line 1)) (0.9999999)\nRequirement already satisfied: jedi>=0.10 in /home/nbuser/anaconda3_501/lib/python3.6/site-packages (from ipython->jupyter-latex-envs>=1.3.8->jupyter_contrib_nbextensions->-r requirements.txt (line 1)) (0.13.1)\nRequirement already satisfied: pexpect; sys_platform != \"win32\" in /home/nbuser/anaconda3_501/lib/python3.6/site-packages (from ipython->jupyter-latex-envs>=1.3.8->jupyter_contrib_nbextensions->-r requirements.txt (line 1)) (4.6.0)\nRequirement already satisfied: pickleshare in /home/nbuser/anaconda3_501/lib/python3.6/site-packages (from ipython->jupyter-latex-envs>=1.3.8->jupyter_contrib_nbextensions->-r requirements.txt (line 1)) (0.7.5)\nRequirement already satisfied: backcall in /home/nbuser/anaconda3_501/lib/python3.6/site-packages (from ipython->jupyter-latex-envs>=1.3.8->jupyter_contrib_nbextensions->-r requirements.txt (line 1)) (0.1.0)\nRequirement already satisfied: prompt-toolkit<2.1.0,>=2.0.0 in /home/nbuser/anaconda3_501/lib/python3.6/site-packages (from ipython->jupyter-latex-envs>=1.3.8->jupyter_contrib_nbextensions->-r requirements.txt (line 1)) (2.0.7)\nRequirement already satisfied: parso>=0.3.0 in /home/nbuser/anaconda3_501/lib/python3.6/site-packages (from jedi>=0.10->ipython->jupyter-latex-envs>=1.3.8->jupyter_contrib_nbextensions->-r requirements.txt (line 1)) (0.3.1)\nRequirement already satisfied: ptyprocess>=0.5 in /home/nbuser/anaconda3_501/lib/python3.6/site-packages (from pexpect; sys_platform != \"win32\"->ipython->jupyter-latex-envs>=1.3.8->jupyter_contrib_nbextensions->-r requirements.txt (line 1)) (0.6.0)\nRequirement already satisfied: wcwidth in /home/nbuser/anaconda3_501/lib/python3.6/site-packages (from prompt-toolkit<2.1.0,>=2.0.0->ipython->jupyter-latex-envs>=1.3.8->jupyter_contrib_nbextensions->-r requirements.txt (line 1)) (0.1.7)\n",
          "name": "stdout"
        }
      ]
    },
    {
      "metadata": {
        "trusted": true
      },
      "cell_type": "code",
      "source": "!ls -l;. ./azure_setup.sh",
      "execution_count": 1,
      "outputs": [
        {
          "output_type": "stream",
          "text": "total 0\n-rw-r--r-- 1 nbuser nbuser   373 Apr 14 22:59 azure_setup.sh\ndrwxr-xr-x 2 nbuser nbuser     0 Apr 14 22:59 data\ndrwxr-xr-x 2 nbuser nbuser     0 Apr 14 22:59 html\ndrwxr-xr-x 2 nbuser nbuser     0 Apr 14 22:59 images\n-rw-r--r-- 1 nbuser nbuser 15172 Apr 16 12:13 make_azure.ipynb\ndrwxr-xr-x 2 nbuser nbuser     0 Apr 14 22:59 notebooks_plain\ndrwxr-xr-x 2 nbuser nbuser     0 Apr 14 22:59 notebooks_rendered\n-rw-r--r-- 1 nbuser nbuser   686 Apr 14 22:59 README.md\n-rw-r--r-- 1 nbuser nbuser    41 Apr 16 11:44 requirements.txt\ndrwxr-xr-x 2 nbuser nbuser     0 Apr 14 22:59 tools\n[ProfileCreate] Generating default config file: '/home/nbuser/.ipython/profile_default/ipython_config.py'\n[ProfileCreate] Generating default config file: '/home/nbuser/.ipython/profile_default/ipython_kernel_config.py'\n",
          "name": "stdout"
        }
      ]
    },
    {
      "metadata": {
        "trusted": true
      },
      "cell_type": "code",
      "source": "!cd tools/;make html",
      "execution_count": 3,
      "outputs": [
        {
          "output_type": "stream",
          "text": "\u001b[1;34mBuilding render\u001b[0m\n\u001b[1;34mBuilding html\u001b[0m\nmake ../html/00_schedule.html ../html/01_intro.html ../html/02_linux_bath.html ../html/03_navigatingFD.html ../html/03_navigatingFD-soln.html ../html/04_workingFD.html ../html/04_workingFD-soln.html ../html/05_pipesNfilters.html ../html/05_pipesNfilters-soln.html ../html/06_findingThings.html ../html/06_findingThings-soln.html ../html/99_bash_magic.html ../html/99_linux.html\nmake[1]: Entering directory '/home/nbuser/library/tools'\nmake[1]: '../html/00_schedule.html' is up to date.\nmake[1]: '../html/01_intro.html' is up to date.\nmake[1]: '../html/02_linux_bath.html' is up to date.\n\u001b[1;34mBuilding ../html/03_navigatingFD.html\u001b[0m\njupyter nbconvert --to=html --output-dir=../html ../notebooks_rendered/03_navigatingFD.ipynb\n[NbConvertApp] Converting notebook ../notebooks_rendered/03_navigatingFD.ipynb to html\n[NbConvertApp] Writing 357712 bytes to ../html/03_navigatingFD.html\n# Replace '../images' in links with './images'\nsed -i 's/..\\/images/.\\/images/g' ../html/../html/03_navigatingFD.html\n# Replace '../data' in links with './data'\nsed -i 's/..\\/data/.\\/data/g' ../html/../html/03_navigatingFD.html\n# Replace '.ipynb' in links with '.html'\nsed -i 's/.ipynb/.html/g' ../html/../html/03_navigatingFD.html\n# Horrible hack because <code> environment doesn't seem to work with CSS sheet\nsed -i 's/<code>/<code style=\"background-color:#F7F7F7;border:1px solid #CFCFCF\">/g' ../html/../html/03_navigatingFD.html\n# Another hack since \\n is converted to [space] in links\nsed -i 's/%0A\"/%20\"/g' ../html/../html/03_navigatingFD.html\n\u001b[1;34mBuilding ../html/03_navigatingFD-soln.html\u001b[0m\njupyter nbconvert --to=html --output-dir=../html ../notebooks_rendered/03_navigatingFD-soln.ipynb\n[NbConvertApp] Converting notebook ../notebooks_rendered/03_navigatingFD-soln.ipynb to html\n[NbConvertApp] Writing 276928 bytes to ../html/03_navigatingFD-soln.html\n# Replace '../images' in links with './images'\nsed -i 's/..\\/images/.\\/images/g' ../html/../html/03_navigatingFD-soln.html\n# Replace '../data' in links with './data'\nsed -i 's/..\\/data/.\\/data/g' ../html/../html/03_navigatingFD-soln.html\n# Replace '.ipynb' in links with '.html'\nsed -i 's/.ipynb/.html/g' ../html/../html/03_navigatingFD-soln.html\n# Horrible hack because <code> environment doesn't seem to work with CSS sheet\nsed -i 's/<code>/<code style=\"background-color:#F7F7F7;border:1px solid #CFCFCF\">/g' ../html/../html/03_navigatingFD-soln.html\n# Another hack since \\n is converted to [space] in links\nsed -i 's/%0A\"/%20\"/g' ../html/../html/03_navigatingFD-soln.html\nmake[1]: '../html/04_workingFD.html' is up to date.\nmake[1]: '../html/04_workingFD-soln.html' is up to date.\nmake[1]: '../html/05_pipesNfilters.html' is up to date.\nmake[1]: '../html/05_pipesNfilters-soln.html' is up to date.\nmake[1]: '../html/06_findingThings.html' is up to date.\nmake[1]: '../html/06_findingThings-soln.html' is up to date.\nmake[1]: '../html/99_bash_magic.html' is up to date.\nmake[1]: '../html/99_linux.html' is up to date.\nmake[1]: Leaving directory '/home/nbuser/library/tools'\n",
          "name": "stdout"
        }
      ]
    },
    {
      "metadata": {
        "trusted": true
      },
      "cell_type": "code",
      "source": "",
      "execution_count": null,
      "outputs": []
    }
  ],
  "metadata": {
    "kernelspec": {
      "name": "python36",
      "display_name": "Python 3.6",
      "language": "python"
    },
    "language_info": {
      "mimetype": "text/x-python",
      "nbconvert_exporter": "python",
      "name": "python",
      "pygments_lexer": "ipython3",
      "version": "3.6.6",
      "file_extension": ".py",
      "codemirror_mode": {
        "version": 3,
        "name": "ipython"
      }
    }
  },
  "nbformat": 4,
  "nbformat_minor": 1
}