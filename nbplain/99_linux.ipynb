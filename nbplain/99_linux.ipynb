{
 "cells": [
  {
   "cell_type": "markdown",
   "metadata": {},
   "source": [
    "# Information: Under Development"
   ]
  },
  {
   "cell_type": "markdown",
   "metadata": {},
   "source": [
    "### Personal Machine\n",
    "If you choose not to run on [notebooks.azure.com](https://notebooks.azure.com) you will need to download some files to follow this lesson:\n",
    "\n",
    "1. Download [data-shell.zip](../data/data-shell.zip) and move the file to your Desktop.\n",
    "2. Unzip/extract the file (ask your instructor if you need help with this step). You should end up with a new folder called data-shell on your Desktop.\n",
    "3. Open a terminal and type `cd`, then press the Enter key. That last step will make sure you start with your home folder as your working directory.\n",
    "\n",
    "In the lesson, you will find out how to access the data in this folder."
   ]
  },
  {
   "cell_type": "markdown",
   "metadata": {},
   "source": [
    "## Information: Where to type commands: How to open a new shell\n",
    "\n",
    "The shell is a program that enables us to send commands to the computer and receive output. It is also referred to as the terminal or command line.\n",
    "\n",
    "Some computers include a default Unix Shell program. The steps below describe some methods for identifying and opening a Unix Shell program if you already have one installed. There are also options for identifying and downloading a Unix Shell program, a Linux/UNIX emulator, or a program to access a Unix Shell on a server.\n",
    "\n",
    "If none of the options below address your circumstances, try an online search for: Unix shell [your computer model] [your operating system].\n",
    "\n",
    "### Linux\n",
    "\n",
    "The default Unix Shell for Linux operating systems is usually Bash. On most versions of Linux, it is accessible by running the (Gnome) Terminal or (KDE) Konsole or xterm, which can be found via the applications menu or the search bar. If your machine is set up to use something other than bash, you can run it by opening a terminal and typing bash.\n",
    "\n",
    "### Mac OS\n",
    "\n",
    "For a Mac computer, the default Unix Shell is Bash, and it is available via the Terminal Utilities program within your Applications folder.\n",
    "\n",
    "To open Terminal, try one or both of the following:\n",
    "\n",
    "Go to your Applications. Within Applications, open the Utilities folder. Locate Terminal in the Utilities folder and open it.\n",
    "\n",
    "Use the Mac 'Spotlight' computer search function. Search for: Terminal and press Return.\n",
    "Reference\n",
    "\n",
    "- How to Use Terminal on a Mac\n",
    "\n",
    "### Windows\n",
    "\n",
    "Computers with Windows operating systems do not automatically have a Unix Shell program installed. In this lesson, we encourage you to use an emulator included in Git for Windows, which gives you access to both Bash shell commands and Git. If you are attending a Software Carpentry workshop session, it is likely you have already received instructions on how to install Git for Windows.\n",
    "\n",
    "Once installed, you can open a terminal by running the program Git Bash from the Windows start menu.\n",
    "\n",
    "Other solutions are available for running Bash commands on Windows. There is now a Bash shell command-line tool available for Windows 10. Additionally, you can run Bash commands on a remote computer or server that already has a Unix Shell, from your Windows machine. This can usually be done through a Secure Shell (SSH) client. One such client available for free for Windows computers is PuTTY. See the reference below for information on installing and using PuTTY, using the Windows 10 command-line tool, or installing and using a Unix/Linux emulator.\n",
    "Reference\n",
    "\n",
    "- Git for Windows\n",
    "- How to Install Bash shell command-line tool on Windows 10\n",
    "- Install and Use the Linux Bash Shell on Windows 10\n",
    "- Using the Windows 10 Bash Shell\n",
    "- Using a Unix/Linux emulator (Cygwin) or Secure Shell (SSH) client (Putty)"
   ]
  }
 ],
 "metadata": {
  "kernelspec": {
   "display_name": "Python 3",
   "language": "python",
   "name": "python3"
  },
  "language_info": {
   "codemirror_mode": {
    "name": "ipython",
    "version": 3
   },
   "file_extension": ".py",
   "mimetype": "text/x-python",
   "name": "python",
   "nbconvert_exporter": "python",
   "pygments_lexer": "ipython3",
   "version": "3.5.4"
  }
 },
 "nbformat": 4,
 "nbformat_minor": 2
}
