{
 "cells": [
  {
   "cell_type": "markdown",
   "metadata": {
    "slideshow": {
     "slide_type": "slide"
    }
   },
   "source": [
    "# Pipes and Filters"
   ]
  },
  {
   "cell_type": "markdown",
   "metadata": {
    "slideshow": {
     "slide_type": "subslide"
    }
   },
   "source": [
    "## Overview:\n",
    "\n",
    "**Teaching:** 25 min\n",
    "\n",
    "**Exercises:** 10 min\n",
    "\n",
    "**Questions**\n",
    "- How can I combine existing commands to do new things?\n",
    "\n",
    "**Objectives**\n",
    "- Redirect a command's output to a file.\n",
    "- Process a file instead of keyboard input using redirection.\n",
    "- Construct command pipelines with two or more stages.\n",
    "- Explain what usually happens if a program or pipeline isn't given any input to process.\n",
    "- Explain Unix's 'small pieces, loosely joined' philosophy."
   ]
  },
  {
   "cell_type": "markdown",
   "metadata": {
    "slideshow": {
     "slide_type": "slide"
    }
   },
   "source": [
    "Now that we know a few basic commands, we can finally look at the shell's most powerful feature: the ease with which it lets us combine existing programs in new ways. We'll start with a directory called molecules that contains six files describing some simple organic molecules. The .pdb extension indicates that these files are in Protein Data Bank format, a simple text format that specifies the type and position of each atom in the molecule."
   ]
  },
  {
   "cell_type": "code",
   "execution_count": 1,
   "metadata": {
    "slideshow": {
     "slide_type": "subslide"
    }
   },
   "outputs": [
    {
     "name": "stdout",
     "output_type": "stream",
     "text": [
      "cubane.pdb\n",
      "ethane.pdb\n",
      "lengths.txt\n",
      "methane.pdb\n",
      "octane.pdb\n",
      "pentane.pdb\n",
      "propane.pdb\n",
      "sorted-lengths.txt\n"
     ]
    }
   ],
   "source": [
    "%%bash2 --dir ~/library/data/data-shell\n",
    "ls molecules"
   ]
  },
  {
   "cell_type": "markdown",
   "metadata": {
    "slideshow": {
     "slide_type": "subslide"
    }
   },
   "source": [
    "Let's go into that directory with cd and run the command `wc *.pdb`. `wc` is the \"word count\" command: it counts the number of lines, words, and characters in files (from left to right, in that order).\n",
    "\n",
    "The `*` in `*.pdb` matches zero or more characters, so the shell turns `*.pdb` into a list of all `.pdb` files in the current directory:"
   ]
  },
  {
   "cell_type": "code",
   "execution_count": 2,
   "metadata": {
    "slideshow": {
     "slide_type": "fragment"
    }
   },
   "outputs": [
    {
     "name": "stdout",
     "output_type": "stream",
     "text": [
      "  20  156 1158 cubane.pdb\n",
      "  12   84  622 ethane.pdb\n",
      "   9   57  422 methane.pdb\n",
      "  30  246 1828 octane.pdb\n",
      "  21  165 1226 pentane.pdb\n",
      "  15  111  825 propane.pdb\n",
      " 107  819 6081 total\n"
     ]
    }
   ],
   "source": [
    "%%bash2\n",
    "cd molecules\n",
    "wc *.pdb"
   ]
  },
  {
   "cell_type": "markdown",
   "metadata": {
    "slideshow": {
     "slide_type": "subslide"
    }
   },
   "source": [
    "If we run `wc -l` instead of just `wc`, the output shows only the number of lines per file:"
   ]
  },
  {
   "cell_type": "code",
   "execution_count": 3,
   "metadata": {
    "slideshow": {
     "slide_type": "fragment"
    }
   },
   "outputs": [
    {
     "name": "stdout",
     "output_type": "stream",
     "text": [
      "  20 cubane.pdb\n",
      "  12 ethane.pdb\n",
      "   9 methane.pdb\n",
      "  30 octane.pdb\n",
      "  21 pentane.pdb\n",
      "  15 propane.pdb\n",
      " 107 total\n"
     ]
    }
   ],
   "source": [
    "%%bash2\n",
    "wc -l *.pdb"
   ]
  },
  {
   "cell_type": "markdown",
   "metadata": {
    "slideshow": {
     "slide_type": "subslide"
    }
   },
   "source": [
    "We can also use `-w` to get only the number of words, or `-c` to get only the number of characters.\n",
    "\n",
    "Which of these files is shortest? It's an easy question to answer when there are only six files, but what if there were 6000? Our first step toward a solution is to run the command:"
   ]
  },
  {
   "cell_type": "code",
   "execution_count": 4,
   "metadata": {
    "slideshow": {
     "slide_type": "fragment"
    }
   },
   "outputs": [],
   "source": [
    "%%bash2\n",
    "wc -l *.pdb > lengths.txt"
   ]
  },
  {
   "cell_type": "markdown",
   "metadata": {
    "slideshow": {
     "slide_type": "subslide"
    }
   },
   "source": [
    "The greater than symbol, `>`, tells the shell to redirect the command's output to a file instead of printing it to the screen. (This is why there is no screen output: everything that wc would have printed has gone into the file `lengths.txt` instead.) The shell will create the file if it doesn't exist. If the file exists, it will be silently overwritten, which may lead to data loss and thus requires some caution. `ls lengths.txt` confirms that the file exists:"
   ]
  },
  {
   "cell_type": "code",
   "execution_count": 5,
   "metadata": {
    "slideshow": {
     "slide_type": "fragment"
    }
   },
   "outputs": [
    {
     "name": "stdout",
     "output_type": "stream",
     "text": [
      "lengths.txt\n"
     ]
    }
   ],
   "source": [
    "%%bash2\n",
    "ls lengths.txt"
   ]
  },
  {
   "cell_type": "markdown",
   "metadata": {
    "slideshow": {
     "slide_type": "subslide"
    }
   },
   "source": [
    "We can now send the content of `lengths.txt` to the screen using `cat lengths.txt`. cat stands for \"concatenate\": it prints the contents of files one after another. There's only one file in this case, so cat just shows us what it contains:"
   ]
  },
  {
   "cell_type": "code",
   "execution_count": 6,
   "metadata": {
    "slideshow": {
     "slide_type": "fragment"
    }
   },
   "outputs": [
    {
     "name": "stdout",
     "output_type": "stream",
     "text": [
      "  20 cubane.pdb\n",
      "  12 ethane.pdb\n",
      "   9 methane.pdb\n",
      "  30 octane.pdb\n",
      "  21 pentane.pdb\n",
      "  15 propane.pdb\n",
      " 107 total\n"
     ]
    }
   ],
   "source": [
    "%%bash2\n",
    "cat lengths.txt"
   ]
  },
  {
   "cell_type": "markdown",
   "metadata": {
    "slideshow": {
     "slide_type": "slide"
    }
   },
   "source": [
    "## Information: Output Page by Page\n",
    "We'll continue to use `cat` in this lesson, for convenience and consistency, but it has the disadvantage that it always dumps the whole file onto your screen. More useful in practice is the command `less`, which you use with `$ less lengths.txt`. This displays a screenful of the file, and then stops. You can go forward one screenful by pressing the spacebar, or back one by pressing `b`. Press `q` to quit."
   ]
  },
  {
   "cell_type": "markdown",
   "metadata": {
    "slideshow": {
     "slide_type": "slide"
    }
   },
   "source": [
    "Now let's use the `sort` command to sort its contents."
   ]
  },
  {
   "cell_type": "markdown",
   "metadata": {
    "slideshow": {
     "slide_type": "slide"
    }
   },
   "source": [
    "## Exercise: What Does `sort -n` Do?\n",
    "If we run sort on a file containing the following lines:\n",
    "```bash\n",
    "10\n",
    "2\n",
    "19\n",
    "22\n",
    "6\n",
    "```\n",
    "the output is:\n",
    "```bash\n",
    "10\n",
    "19\n",
    "2\n",
    "22\n",
    "6\n",
    "```\n",
    "If we run sort `-n` on the same input, we get this instead:\n",
    "```bash\n",
    "2\n",
    "6\n",
    "10\n",
    "19\n",
    "22\n",
    "```\n",
    "Explain why `-n` has this effect.\n",
    "\n",
    "[Solution]()"
   ]
  },
  {
   "cell_type": "markdown",
   "metadata": {
    "slideshow": {
     "slide_type": "slide"
    }
   },
   "source": [
    "## Solution: What Does `sort -n` Do?\n",
    "\n",
    "The `-n` flag specifies a numeric sort, rather than alphabetical."
   ]
  },
  {
   "cell_type": "markdown",
   "metadata": {
    "slideshow": {
     "slide_type": "slide"
    }
   },
   "source": [
    "We will also use the `-n` flag to specify that the sort is numerical instead of alphabetical. This does not change the file; instead, it sends the sorted result to the screen:"
   ]
  },
  {
   "cell_type": "code",
   "execution_count": 7,
   "metadata": {
    "slideshow": {
     "slide_type": "fragment"
    }
   },
   "outputs": [
    {
     "name": "stdout",
     "output_type": "stream",
     "text": [
      "   9 methane.pdb\n",
      "  12 ethane.pdb\n",
      "  15 propane.pdb\n",
      "  20 cubane.pdb\n",
      "  21 pentane.pdb\n",
      "  30 octane.pdb\n",
      " 107 total\n"
     ]
    }
   ],
   "source": [
    "%%bash2\n",
    "sort -n lengths.txt"
   ]
  },
  {
   "cell_type": "markdown",
   "metadata": {
    "slideshow": {
     "slide_type": "subslide"
    }
   },
   "source": [
    "We can put the sorted list of lines in another temporary file called `sorted-lengths.txt` by putting `> sorted-lengths.txt` after the command, just as we used `> lengths.txt` to put the output of `wc` into `lengths.txt`. Once we've done that, we can run another command called `head` to get the first few lines in `sorted-lengths.txt`:"
   ]
  },
  {
   "cell_type": "code",
   "execution_count": 8,
   "metadata": {
    "slideshow": {
     "slide_type": "fragment"
    }
   },
   "outputs": [
    {
     "name": "stdout",
     "output_type": "stream",
     "text": [
      "   9 methane.pdb\n"
     ]
    }
   ],
   "source": [
    "%%bash2\n",
    "sort -n lengths.txt > sorted-lengths.txt\n",
    "head -n 1 sorted-lengths.txt"
   ]
  },
  {
   "cell_type": "markdown",
   "metadata": {
    "slideshow": {
     "slide_type": "subslide"
    }
   },
   "source": [
    "Using `-n 1` with `head` tells it that we only want the first line of the file; `-n 20` would get the first 20, and so on. Since `sorted-lengths.txt` contains the lengths of our files ordered from least to greatest, the output of head must be the file with the fewest lines."
   ]
  },
  {
   "cell_type": "markdown",
   "metadata": {
    "slideshow": {
     "slide_type": "slide"
    }
   },
   "source": [
    "## Information: Redirecting to the same file\n",
    "It's a very bad idea to try redirecting the output of a command that operates on a file to the same file. For example:\n",
    "```bash\n",
    "sort -n lengths.txt > lengths.txt\n",
    "```\n",
    "Doing something like this may give you incorrect results and/or delete the contents of `lengths.txt`."
   ]
  },
  {
   "cell_type": "markdown",
   "metadata": {
    "slideshow": {
     "slide_type": "slide"
    }
   },
   "source": [
    "## Exercise: What Does `>>` Mean?\n",
    "We have seen the use of `>`, but there is a similar operator `>>` which works slightly differently. By using the `echo` command to print strings, test the commands below to reveal the difference between the two operators:\n",
    "```bash\n",
    "echo hello > testfile01.txt\n",
    "```\n",
    "and:\n",
    "```bash\n",
    "echo hello >> testfile02.txt\n",
    "```\n",
    "Hint: Try executing each command twice in a row and then examining the output files.\n",
    "\n",
    "[Solution]()"
   ]
  },
  {
   "cell_type": "markdown",
   "metadata": {
    "slideshow": {
     "slide_type": "slide"
    }
   },
   "source": [
    "## Solution: What Does `>>` Mean?\n",
    "In the first example with `>`, the string \"hello\" is written to `testfile01.txt`, but the file gets overwritten each time we run the command.\n",
    "\n",
    "We see from the second example that the `>>` operator also writes \"hello\" to a file (in this `casetestfile02.txt`), but appends the string to the file if it already exists (i.e. when we run it for the second time)."
   ]
  },
  {
   "cell_type": "markdown",
   "metadata": {
    "slideshow": {
     "slide_type": "slide"
    }
   },
   "source": [
    "## Exercise: Appending Data\n",
    "We have already met the `head` command, which prints lines from the start of a file. `tail` is similar, but prints lines from the end of a file instead.\n",
    "\n",
    "Consider the file `data-shell/data/animals.txt`. After these commands, select the answer that corresponds to the file `animalsUpd.txt`:\n",
    "```bash\n",
    "head -n 3 animals.txt > animalsUpd.txt\n",
    "tail -n 2 animals.txt >> animalsUpd.txt\n",
    "```\n",
    "1. The first three lines of `animals.txt`\n",
    "2. The last two lines of `animals.txt`\n",
    "3. The first three lines and the last two lines of `animals.txt`\n",
    "4. The second and third lines of `animals.txt`\n",
    "\n",
    "[Solution]()"
   ]
  },
  {
   "cell_type": "markdown",
   "metadata": {
    "slideshow": {
     "slide_type": "slide"
    }
   },
   "source": [
    "## Solution: Appending Data\n",
    "Option 3 is correct. For option 1 to be correct we would only run the `head` command. For option 2 to be correct we would only run the `tail` command. For option 4 to be correct we would have to pipe the output of `head` into `tail -2` by doing `head -3 animals.txt | tail -2 >> animalsUpd.txt`"
   ]
  },
  {
   "cell_type": "markdown",
   "metadata": {
    "slideshow": {
     "slide_type": "slide"
    }
   },
   "source": [
    "If you think this is confusing, you're in good company: even once you understand what `wc`, `sort`, and `head` do, all those intermediate files make it hard to follow what's going on. We can make it easier to understand by running `sort` and `head` together:"
   ]
  },
  {
   "cell_type": "code",
   "execution_count": 9,
   "metadata": {
    "slideshow": {
     "slide_type": "fragment"
    }
   },
   "outputs": [
    {
     "name": "stdout",
     "output_type": "stream",
     "text": [
      "   9 methane.pdb\n"
     ]
    }
   ],
   "source": [
    "%%bash2\n",
    "sort -n lengths.txt | head -n 1"
   ]
  },
  {
   "cell_type": "markdown",
   "metadata": {
    "slideshow": {
     "slide_type": "subslide"
    }
   },
   "source": [
    "The vertical bar, `|`, between the two commands is called a pipe. It tells the shell that we want to use the output of the command on the left as the input to the command on the right. The computer might create a temporary file if it needs to, or copy data from one program to the other in memory, or something else entirely; we don't have to know or care."
   ]
  },
  {
   "cell_type": "markdown",
   "metadata": {
    "slideshow": {
     "slide_type": "subslide"
    }
   },
   "source": [
    "Nothing prevents us from chaining pipes consecutively. That is, we can for example send the output of `wc` directly to `sort`, and then the resulting output to `head`. Thus we first use a pipe to send the output of `wc` to `sort`:"
   ]
  },
  {
   "cell_type": "code",
   "execution_count": 10,
   "metadata": {
    "slideshow": {
     "slide_type": "fragment"
    }
   },
   "outputs": [
    {
     "name": "stdout",
     "output_type": "stream",
     "text": [
      "   9 methane.pdb\n",
      "  12 ethane.pdb\n",
      "  15 propane.pdb\n",
      "  20 cubane.pdb\n",
      "  21 pentane.pdb\n",
      "  30 octane.pdb\n",
      " 107 total\n"
     ]
    }
   ],
   "source": [
    "%%bash2\n",
    "wc -l *.pdb | sort -n"
   ]
  },
  {
   "cell_type": "markdown",
   "metadata": {
    "slideshow": {
     "slide_type": "subslide"
    }
   },
   "source": [
    "And now we send the output of this pipe, through another pipe, to `head`, so that the full pipeline becomes:"
   ]
  },
  {
   "cell_type": "code",
   "execution_count": 11,
   "metadata": {
    "slideshow": {
     "slide_type": "fragment"
    }
   },
   "outputs": [
    {
     "name": "stdout",
     "output_type": "stream",
     "text": [
      "   9 methane.pdb\n"
     ]
    }
   ],
   "source": [
    "%%bash2\n",
    "wc -l *.pdb | sort -n | head -n 1"
   ]
  },
  {
   "cell_type": "markdown",
   "metadata": {
    "slideshow": {
     "slide_type": "subslide"
    }
   },
   "source": [
    "This is exactly like a mathematician nesting functions like _log(3x)_ and saying \"the log of three times x\". In our case, the calculation is \"head of sort of line count of `*.pdb`\"."
   ]
  },
  {
   "cell_type": "markdown",
   "metadata": {
    "slideshow": {
     "slide_type": "slide"
    }
   },
   "source": [
    "## Exercise: Piping Commands Together\n",
    "In our current directory, we want to find the 3 files which have the least number of lines. Which command listed below would work?\n",
    "1. `wc -l * > sort -n > head -n 3`\n",
    "2. `wc -l * | sort -n | head -n 1-3`\n",
    "3. `wc -l * | head -n 3 | sort -n`\n",
    "4. `wc -l * | sort -n | head -n 3`\n",
    "\n",
    "[Solution]()"
   ]
  },
  {
   "cell_type": "markdown",
   "metadata": {
    "slideshow": {
     "slide_type": "slide"
    }
   },
   "source": [
    "## Solution: Piping Commands Together\n",
    "Option 4 is the solution. The pipe character `|` is used to feed the standard output from one process to the standard input of another. `>` is used to redirect standard output to a file. Try it in the `data-shell/molecules` directory!"
   ]
  },
  {
   "cell_type": "markdown",
   "metadata": {
    "slideshow": {
     "slide_type": "subslide"
    }
   },
   "source": [
    "Here's what actually happens behind the scenes when we create a pipe. When a computer runs a program - any program - it creates a process in memory to hold the program's software and its current state. Every process has an input channel called standard input. (By this point, you may be surprised that the name is so memorable, but don't worry: most Unix programmers call it \"stdin\"). Every process also has a default output channel called standard output (or \"stdout\"). A second output channel called standard error (stderr) also exists. This channel is typically used for error or diagnostic messages, and it allows a user to pipe the output of one program into another while still receiving error messages in the terminal.\n",
    "\n",
    "The shell is actually just another program. Under normal circumstances, whatever we type on the keyboard is sent to the shell on its standard input, and whatever it produces on standard output is displayed on our screen. When we tell the shell to run a program, it creates a new process and temporarily sends whatever we type on our keyboard to that process's standard input, and whatever the process sends to standard output to the screen.\n",
    "\n",
    "Here's what happens when we run `wc -l *.pdb > lengths.txt`. The shell starts by telling the computer to create a new process to run the `wc` program. Since we've provided some filenames as arguments, `wc` reads from them instead of from standard input. And since we've used `>` to redirect output to a file, the shell connects the process's standard output to that file.\n",
    "\n",
    "If we run `wc -l *.pdb | sort -n` instead, the shell creates two processes (one for each process in the pipe) so that `wc` and `sort` run simultaneously. The standard output of `wc` is fed directly to the standard input of sort; since there's no redirection with `>`, `sort`'s output goes to the screen. And if we run `wc -l *.pdb | sort -n | head -n 1`, we get three processes with data flowing from the files, through `wc` to `sort`, and from `sort` through `head` to the screen."
   ]
  },
  {
   "cell_type": "markdown",
   "metadata": {
    "slideshow": {
     "slide_type": "subslide"
    }
   },
   "source": [
    "![](../images/redirects-and-pipes.png)"
   ]
  },
  {
   "cell_type": "markdown",
   "metadata": {
    "slideshow": {
     "slide_type": "subslide"
    }
   },
   "source": [
    "This simple idea is why Unix has been so successful. Instead of creating enormous programs that try to do many different things, Unix programmers focus on creating lots of simple tools that each do one job well, and that work well with each other. This programming model is called \"pipes and filters\". We've already seen pipes; a filter is a program like `wc` or `sort` that transforms a stream of input into a stream of output. Almost all of the standard Unix tools can work this way: unless told to do otherwise, they read from standard input, do something with what they've read, and write to standard output.\n",
    "\n",
    "The key is that any program that reads lines of text from standard input and writes lines of text to standard output can be combined with every other program that behaves this way as well. You can and should write your programs this way so that you and other people can put those programs into pipes to multiply their power."
   ]
  },
  {
   "cell_type": "markdown",
   "metadata": {
    "slideshow": {
     "slide_type": "slide"
    }
   },
   "source": [
    "## Information: Redirecting Input\n",
    "As well as using `>` to redirect a program's output, we can use `<` to redirect its input, i.e., to read from a file instead of from standard input. For example, instead of writing `wc ammonia.pdb`, we could write `wc < ammonia.pdb`. In the first case, `wc` gets a command line argument telling it what file to open. In the second, `wc` doesn't have any command line arguments, so it reads from standard input, but we have told the shell to send the contents of `ammonia.pdb` to `wc`'s standard input."
   ]
  },
  {
   "cell_type": "markdown",
   "metadata": {
    "slideshow": {
     "slide_type": "slide"
    }
   },
   "source": [
    "## Exercise: What Does `<` Mean?\n",
    "Change directory to `data-shell` (the top level of our downloaded example data).\n",
    "\n",
    "What is the difference between:\n",
    "```bash\n",
    "wc -l notes.txt\n",
    "```\n",
    "and:\n",
    "```bash\n",
    "wc -l < notes.txt\n",
    "```\n",
    "\n",
    "[Solution]()"
   ]
  },
  {
   "cell_type": "markdown",
   "metadata": {
    "slideshow": {
     "slide_type": "slide"
    }
   },
   "source": [
    "## Solution: What Does `<` Mean?\n",
    "`<` is used to redirect input to a command.\n",
    "\n",
    "In both examples, the shell returns the number of lines from the input to the `wc` command. In the first example, the input is the file `notes.txt` and the file name is given in the output from the `wc` command. In the second example, the contents of the file `notes.txt` are redirected to standard input. It is as if we have entered the contents of the file by typing at the prompt. Hence the file name is not given in the output - just the number of lines. Try this for yourself:\n",
    "```bash\n",
    "wc -l\n",
    "this\n",
    "is\n",
    "a test\n",
    "Ctrl-D # This lets the shell know you have finished typing the input\n",
    "\n",
    "3\n",
    "```\n",
    "."
   ]
  },
  {
   "cell_type": "markdown",
   "metadata": {
    "slideshow": {
     "slide_type": "slide"
    }
   },
   "source": [
    "## Exercise: Why Does `uniq` Only Remove Adjacent Duplicates?\n",
    "The command `uniq` removes adjacent duplicated lines from its input. For example, the file `data-shell/data/salmon.txt` contains:\n",
    "```bash\n",
    "coho\n",
    "coho\n",
    "steelhead\n",
    "coho\n",
    "steelhead\n",
    "steelhead\n",
    "```\n",
    "Running the command `uniq salmon.txt` from the `data-shell/data` directory produces:\n",
    "```bash\n",
    "coho\n",
    "steelhead\n",
    "coho\n",
    "steelhead\n",
    "```\n",
    "Why do you think `uniq` only removes adjacent duplicated lines? (Hint: think about very large data sets.) What other command could you combine with it in a pipe to remove all duplicated lines?\n",
    "\n",
    "[Solution]()"
   ]
  },
  {
   "cell_type": "markdown",
   "metadata": {
    "slideshow": {
     "slide_type": "slide"
    }
   },
   "source": [
    "## Solution: Why Does `uniq` Only Remove Adjacent Duplicates?\n",
    "```bash\n",
    "sort salmon.txt | uniq\n",
    "```\n",
    "."
   ]
  },
  {
   "cell_type": "markdown",
   "metadata": {
    "slideshow": {
     "slide_type": "slide"
    }
   },
   "source": [
    "## Exercise: Pipe Reading Comprehension\n",
    "A file called `animals.txt` (in the `data-shell/data` folder) contains the following data:\n",
    "```bash\n",
    "2012-11-05,deer\n",
    "2012-11-05,rabbit\n",
    "2012-11-05,raccoon\n",
    "2012-11-06,rabbit\n",
    "2012-11-06,deer\n",
    "2012-11-06,fox\n",
    "2012-11-07,rabbit\n",
    "2012-11-07,bear\n",
    "```\n",
    "What text passes through each of the pipes and the final redirect in the pipeline below?\n",
    "```bash\n",
    "cat animals.txt | head -n 5 | tail -n 3 | sort -r > final.txt\n",
    "```\n",
    "Hint: build the pipeline up one command at a time to test your understanding\n",
    "\n",
    "[Solutipn]()"
   ]
  },
  {
   "cell_type": "markdown",
   "metadata": {
    "slideshow": {
     "slide_type": "slide"
    }
   },
   "source": [
    "## Solution: Pipe Reading Comprehension\n",
    "The `head` command extracts the first 5 lines from `animals.txt`. Then, the last 3 lines are extracted from the previous 5 by using the `tail` command. With the `sort -r` command those 3 lines are sorted in reverse order and finally, the output is redirected to a file `final.txt`. The content of this file can be checked by executing `cat final.txt`. The file should contain the following lines:\n",
    "```bash\n",
    "2012-11-06,rabbit\n",
    "2012-11-06,deer\n",
    "2012-11-05,raccoon\n",
    "```\n",
    "."
   ]
  },
  {
   "cell_type": "markdown",
   "metadata": {
    "slideshow": {
     "slide_type": "slide"
    }
   },
   "source": [
    "## Exercise: Pipe Construction\n",
    "For the file `animals.txt` from the previous exercise, the command:\n",
    "```bash\n",
    "cut -d , -f 2 animals.txt\n",
    "```\n",
    "uses the `-d` flag to separate each line by comma, and the `-f` flag to print the second field in each line, to give the following output:\n",
    "```bash\n",
    "deer\n",
    "rabbit\n",
    "raccoon\n",
    "rabbit\n",
    "deer\n",
    "fox\n",
    "rabbit\n",
    "bear\n",
    "```\n",
    "What other command(s) could be added to this in a pipeline to find out what animals the file contains (without any duplicates in their names)?\n",
    "\n",
    "[Solution]()"
   ]
  },
  {
   "cell_type": "markdown",
   "metadata": {
    "slideshow": {
     "slide_type": "slide"
    }
   },
   "source": [
    "## Solution: Pipe Construction\n",
    "```bash\n",
    "cut -d , -f 2 animals.txt | sort | uniq\n",
    "```\n",
    "."
   ]
  },
  {
   "cell_type": "markdown",
   "metadata": {
    "slideshow": {
     "slide_type": "slide"
    }
   },
   "source": [
    "## Exercise: Which Pipe?\n",
    "The file `animals.txt` contains 586 lines of data formatted as follows:\n",
    "```bash\n",
    "2012-11-05,deer\n",
    "2012-11-05,rabbit\n",
    "2012-11-05,raccoon\n",
    "2012-11-06,rabbit\n",
    "...\n",
    "```\n",
    "Assuming your current directory is `data-shell/data/`, what command would you use to produce a table that shows the total count of each type of animal in the file?\n",
    "1. `grep {deer, rabbit, raccoon, deer, fox, bear} animals.txt | wc -l`\n",
    "2. `sort animals.txt | uniq -c`\n",
    "3. `sort -t, -k2,2 animals.txt | uniq -c`\n",
    "4. `cut -d, -f 2 animals.txt | uniq -c`\n",
    "5. `cut -d, -f 2 animals.txt | sort | uniq -c`\n",
    "6. `cut -d, -f 2 animals.txt | sort | uniq -c | wc -l`\n",
    "\n",
    "[Solution]()"
   ]
  },
  {
   "cell_type": "markdown",
   "metadata": {
    "slideshow": {
     "slide_type": "slide"
    }
   },
   "source": [
    "## Solution: Which Pipe?\n",
    "Option 5. is the correct answer. If you have difficulty understanding why, try running the commands, or sub-sections of the pipelines (make sure you are in the `data-shell/data` directory)."
   ]
  },
  {
   "cell_type": "markdown",
   "metadata": {
    "slideshow": {
     "slide_type": "slide"
    }
   },
   "source": [
    "## Nelle's Pipeline: Checking Files\n",
    "Nelle has run her samples through the assay machines and created 17 files in the `north-pacific-gyre/2012-07-03` directory described earlier. As a quick sanity check, starting from her home directory, Nelle types:\n",
    "```bash\n",
    "cd north-pacific-gyre/2012-07-03\n",
    "wc -l *.txt\n",
    "```\n",
    "The output is 18 lines that look like this:\n",
    "```bash\n",
    "300 NENE01729A.txt\n",
    "300 NENE01729B.txt\n",
    "300 NENE01736A.txt\n",
    "300 NENE01751A.txt\n",
    "300 NENE01751B.txt\n",
    "300 NENE01812A.txt\n",
    "... ...\n",
    "```"
   ]
  },
  {
   "cell_type": "markdown",
   "metadata": {
    "slideshow": {
     "slide_type": "subslide"
    }
   },
   "source": [
    "Now she types this:\n",
    "```bash\n",
    "wc -l *.txt | sort -n | head -n 5\n",
    "\n",
    "240 NENE02018B.txt\n",
    "300 NENE01729A.txt\n",
    "300 NENE01729B.txt\n",
    "300 NENE01736A.txt\n",
    "300 NENE01751A.txt\n",
    "```"
   ]
  },
  {
   "cell_type": "markdown",
   "metadata": {
    "slideshow": {
     "slide_type": "subslide"
    }
   },
   "source": [
    "Whoops: one of the files is 60 lines shorter than the others. When she goes back and checks it, she sees that she did that assay at 8:00 on a Monday morning — someone was probably in using the machine on the weekend, and she forgot to reset it. Before re-running that sample, she checks to see if any files have too much data:\n",
    "```bash\n",
    "wc -l *.txt | sort -n | tail -n 5\n",
    "\n",
    "300 NENE02040B.txt\n",
    "300 NENE02040Z.txt\n",
    "300 NENE02043A.txt\n",
    "300 NENE02043B.txt\n",
    "5040 total\n",
    "```"
   ]
  },
  {
   "cell_type": "markdown",
   "metadata": {
    "slideshow": {
     "slide_type": "subslide"
    }
   },
   "source": [
    "Those numbers look good — but what's that 'Z' doing there in the third-to-last line? All of her samples should be marked 'A' or 'B'; by convention, her lab uses 'Z' to indicate samples with missing information. To find others like it, she does this:\n",
    "```bash\n",
    "ls *Z.txt\n",
    "\n",
    "NENE01971Z.txt    NENE02040Z.txt\n",
    "```"
   ]
  },
  {
   "cell_type": "markdown",
   "metadata": {
    "slideshow": {
     "slide_type": "subslide"
    }
   },
   "source": [
    "Sure enough, when she checks the log on her laptop, there's no depth recorded for either of those samples. Since it's too late to get the information any other way, she must exclude those two files from her analysis. She could just delete them using `rm`, but there are actually some analyses she might do later where depth doesn't matter, so instead, she'll just be careful later on to select files using the wildcard expression `*[AB].txt`. As always, the `*` matches any number of characters; the expression `[AB]` matches either an 'A' or a 'B', so this matches all the valid data files she has."
   ]
  },
  {
   "cell_type": "markdown",
   "metadata": {
    "slideshow": {
     "slide_type": "slide"
    }
   },
   "source": [
    "## Exercise: Wildcard Expressions\n",
    "Wildcard expressions can be very complex, but you can sometimes write them in ways that only use simple syntax, at the expense of being a bit more verbose.\n",
    "\n",
    "Consider the directory `data-shell/north-pacific-gyre/2012-07-03`: the wildcard expression `*[AB].txt` matches all files ending in `A.txt` or `B.txt`. Imagine you forgot about this.\n",
    "\n",
    "1. Can you match the same set of files with basic wildcard expressions that do not use the `[]` syntax? Hint: You may need more than one expression.\n",
    "2. The expression that you found and the expression from the lesson match the same set of files in this example. What is the small difference between the outputs?\n",
    "3. Under what circumstances would your new expression produce an error message where the original one would not?\n",
    "\n",
    "[Solution]()"
   ]
  },
  {
   "cell_type": "markdown",
   "metadata": {
    "slideshow": {
     "slide_type": "slide"
    }
   },
   "source": [
    "## Solution: Wildcard Expressions\n",
    "```bash\n",
    "ls *A.txt\n",
    "ls *B.txt\n",
    "```\n",
    "The output from the new commands is separated because there are two commands.\n",
    "When there are no files ending in `A.txt`, or there are no files ending in `B.txt`."
   ]
  },
  {
   "cell_type": "markdown",
   "metadata": {
    "slideshow": {
     "slide_type": "slide"
    }
   },
   "source": [
    "## Exercise: Removing Unneeded Files\n",
    "Suppose you want to delete your processed data files, and only keep your raw files and processing script to save storage. The raw files end in `.dat` and the processed files end in `.txt`. Which of the following would remove all the processed data files, and only the processed data files?\n",
    "1. `rm ?.txt`\n",
    "2. `rm *.txt`\n",
    "3. `rm * .txt`\n",
    "4. `rm *.*`\n",
    "\n",
    "[Solution]()"
   ]
  },
  {
   "cell_type": "markdown",
   "metadata": {
    "slideshow": {
     "slide_type": "slide"
    }
   },
   "source": [
    "## Solution: Removing Unneeded Files\n",
    "1. This would remove `.txt` files with one-character names\n",
    "2. This is correct answer\n",
    "3. The shell would expand `*` to match everything in the current directory, so the command would try to remove all matched files and an additional file called `.txt`\n",
    "4. The shell would expand `*.*` to match all files with any extension, so this command would delete all files"
   ]
  },
  {
   "cell_type": "markdown",
   "metadata": {
    "slideshow": {
     "slide_type": "slide"
    }
   },
   "source": [
    "## Key Points:\n",
    "- `cat` displays the contents of its inputs.\n",
    "- `head` displays the first 10 lines of its input.\n",
    "- `tail` displays the last 10 lines of its input.\n",
    "- `sort` sorts its inputs.\n",
    "- `wc` counts lines, words, and characters in its inputs.\n",
    "- `command > file` redirects a command's output to a file.\n",
    "- `first | second `is a pipeline: the output of the first command is used as the input to the second.\n",
    "- The best way to use the shell is to use pipes to combine simple single-purpose programs (filters)."
   ]
  }
 ],
 "metadata": {
  "celltoolbar": "Slideshow",
  "kernelspec": {
   "display_name": "Python 3",
   "language": "python",
   "name": "python3"
  },
  "language_info": {
   "codemirror_mode": {
    "name": "ipython",
    "version": 3
   },
   "file_extension": ".py",
   "mimetype": "text/x-python",
   "name": "python",
   "nbconvert_exporter": "python",
   "pygments_lexer": "ipython3",
   "version": "3.5.4"
  }
 },
 "nbformat": 4,
 "nbformat_minor": 2
}
