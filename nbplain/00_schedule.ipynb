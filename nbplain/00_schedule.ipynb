{
 "cells": [
  {
   "cell_type": "markdown",
   "metadata": {
    "slideshow": {
     "slide_type": "slide"
    }
   },
   "source": [
    "# The Unix Shell\n",
    "\n",
    "The Unix shell has been around longer than most of its users have been alive. It has survived so long because it's a power tool that allows people to do complex things with just a few keystrokes. More importantly, it helps them combine existing programs in new ways and automate repetitive tasks so they aren't typing the same things over and over again. Use of the shell is fundamental to using a wide range of other powerful tools and computing resources (including \"high-performance computing\" supercomputers). These lessons will start you on a path towards using these resources effectively."
   ]
  },
  {
   "cell_type": "markdown",
   "metadata": {
    "slideshow": {
     "slide_type": "subslide"
    }
   },
   "source": [
    "## Prerequisites:\n",
    "\n",
    "This lesson guides you through the basics of file systems and the shell. If you have stored files on a computer at all and recognize the word \"file\" and either \"directory\" or \"folder\" (two common words for the same thing), you're ready for this lesson, please follow the setup section below.\n",
    "\n",
    "If you're already comfortable manipulating files and directories, searching for files with grep and find, and writing simple loops and scripts, you probably want to explore the next lesson."
   ]
  },
  {
   "cell_type": "markdown",
   "metadata": {
    "slideshow": {
     "slide_type": "slide"
    }
   },
   "source": [
    "## Schedule:\n",
    "\n",
    "Approximate timings for the course:\n",
    "\n",
    "| Time | Episode | Description |\n",
    "|---|---|---|\n",
    "| 0:00 | [Introducing the Shell](./01_intro.ipynb) | What is a command shell and why would I use one? |\n",
    "| 0:10 | [Logging onto linux](./02_linux_bath.ipynb) | Where and how can I logon to linux? |\n",
    "| 0:15 | [Navigating Files and Directories](./03_navigatingFD.ipynb) | How can I move around on my computer? |\n",
    "|  -   |                     -                                 | How can I see what files and directories I have?|\n",
    "|  -   |                     -                                 | How can I specify the location of a file or directory on my computer?  |\n",
    "| 0:45 | [Working with Files and Directories](./04_workingFD.ipynb) | How can I create, copy, and delete files and directories? |\n",
    "|  -   |                     -                                      |How can I edit files? |\n",
    "| 1:35 | [Pipes and Filters](./05_pipesNfilters.ipynb) | How can I combine existing commands to do new things? |\n",
    "| 2:10 | [Finding Things](./06_findingThings.ipynb) | How can I find files? |\n",
    "|  -   |                     -                      |How can I find things in files? |\n",
    "| 2:55 | Finish | |"
   ]
  }
 ],
 "metadata": {
  "celltoolbar": "Slideshow",
  "kernelspec": {
   "display_name": "Python 3",
   "language": "python",
   "name": "python3"
  },
  "language_info": {
   "codemirror_mode": {
    "name": "ipython",
    "version": 3
   },
   "file_extension": ".py",
   "mimetype": "text/x-python",
   "name": "python",
   "nbconvert_exporter": "python",
   "pygments_lexer": "ipython3",
   "version": "3.5.4"
  }
 },
 "nbformat": 4,
 "nbformat_minor": 2
}
