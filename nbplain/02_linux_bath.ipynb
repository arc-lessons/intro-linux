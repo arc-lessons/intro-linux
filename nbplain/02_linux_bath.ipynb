{
  "cells": [
    {
      "metadata": {
        "slideshow": {
          "slide_type": "slide"
        }
      },
      "cell_type": "markdown",
      "source": "# Opening a terminal in notebooks.azure.com"
    },
    {
      "metadata": {
        "slideshow": {
          "slide_type": "slide"
        }
      },
      "cell_type": "markdown",
      "source": "## Overview\n- **Teaching:** 5 min\n- **Exercises:** 0 min\n\n**Questions**\n- Where can I run the shell?\n- What is notebooks.azure.com?\n\n**Objectives**\n- Clone the library for use in this workshop\n- Launch the library and open a terminal on notebooks\n- Explain how putty/kitty/ssh allows you to login to remote machines.\n- Explain how to login to ‘linux.bath.ac.uk’ from University computers.\n- Explain that we use Xming in case we want to forward graphics."
    },
    {
      "metadata": {
        "slideshow": {
          "slide_type": "slide"
        }
      },
      "cell_type": "markdown",
      "source": "This episode details how to get started on the notebooks.azure.com (notebooks) terminal. This service runs a common Linux operating system with similar appearance to that found on MacOs and HPC services. You can access this service from any PC or laptop by launching a library on notebooks."
    },
    {
      "metadata": {
        "slideshow": {
          "slide_type": "slide"
        }
      },
      "cell_type": "markdown",
      "source": "## Getting Started\n\nFirst we need to clone the library for this lesson:\n\nLog-on to [notebooks](https://notebooks.azure.com) using your University account and clone the library [intro-linux](https://notebooks.azure.com/jgrant/projects/intro-linux) by clicking the **Clone** button indicated in the image below.\n\n![clone a notebooks library](../images/notebooks_clone.png)\n\nNote that you should see your notebooks username in the top right corner, if you see 'Sign In' as in the image, you will first need to sign in.  If you are at the University of Bath you can do this using your University account."
    },
    {
      "metadata": {
        "slideshow": {
          "slide_type": "slide"
        }
      },
      "cell_type": "markdown",
      "source": "Once the library has been cloned, it may take a minute or so you are now ready to launch a terminal and follow the lesson.  The page will now have a few more buttons one of which will open a new terminal:\n\n![launch a new terminal](../images/notebooks_launch_terminal.png)"
    },
    {
      "metadata": {
        "slideshow": {
          "slide_type": "slide"
        }
      },
      "cell_type": "markdown",
      "source": "The terminal will open in a new tab in the browser and should look like:\n\n![terminal](../images/notebooks_terminal.png)\n\nYou can change the size of the terminal by altering the zoom in the window.  If you have any difficulties cloning the library and launching a terminal ask an instructor."
    },
    {
      "metadata": {
        "slideshow": {
          "slide_type": "slide"
        }
      },
      "cell_type": "markdown",
      "source": "You are now ready to start the lesson.  Details of accessing the University service that run linux are below, it is useful to know as other courses may use it and if your research requires High Peformance Computing you will ikely need to use a range of machines so it is useful to know how to access them."
    },
    {
      "metadata": {
        "slideshow": {
          "slide_type": "slide"
        }
      },
      "cell_type": "markdown",
      "source": "## Aside\n\nLet's try logging on to the University linux service. Go to:\n\n- ‘Start’ → All Programs → Xming → linux\n\nThis launches a program called ‘Kitty’ which will try to connect to the linux service. A window should open which looks like:\n\n![linux-login](../images/linux-login.png)"
    },
    {
      "metadata": {
        "slideshow": {
          "slide_type": "slide"
        }
      },
      "cell_type": "markdown",
      "source": "Type your user name and you should be prompted for a password:\n\n![linux-password](../images/linux-password.png)"
    },
    {
      "metadata": {
        "slideshow": {
          "slide_type": "slide"
        }
      },
      "cell_type": "markdown",
      "source": "## Pin:Passwords in linux\n\nWhen you type your password no ‘*s’ will appear. This is not a mistake, in linux the password typically remains hidden.\n\nThink why this might improve security."
    },
    {
      "metadata": {
        "slideshow": {
          "slide_type": "slide"
        }
      },
      "cell_type": "markdown",
      "source": "If you have successfully logged on, the window should now look something like this:\n\n![linux-success](../images/linux-success.png)"
    },
    {
      "metadata": {
        "slideshow": {
          "slide_type": "slide"
        }
      },
      "cell_type": "markdown",
      "source": "You should be able to see your username followed by @linux or similar. On ‘linux.bath’ this is the name of the machine that you have logged onto. Since a number of machines make up the service what you see may be slightly different.\n\nKitty is a derivative of another tool Putty which can has similar functionality, both use a service called ssh to connect to the linux service. This may be referred to as a shell, terminal, command line session. We use Xming since this also allows grapchics to be forwarded over the ssh connection, but this may not form part of your course."
    },
    {
      "metadata": {
        "slideshow": {
          "slide_type": "slide"
        }
      },
      "cell_type": "markdown",
      "source": "## Key Points\n\n- notebooks.azure.com is a free service for Jupyter notebooks\n- notebooks.azure.com also allows you to run a terminal session\n- The University runs the ‘linux.bath’ service to provide a general use Linux machine\n- ‘linux.bath’ provides certain academic software for students and staff\n- The service is a shared machine designed for lightweight use\n- For heavy workloads you should investigate using the Unviersity’s HPC service"
    }
  ],
  "metadata": {
    "celltoolbar": "Slideshow",
    "kernelspec": {
      "name": "python3",
      "display_name": "Python 3",
      "language": "python"
    },
    "language_info": {
      "mimetype": "text/x-python",
      "nbconvert_exporter": "python",
      "name": "python",
      "file_extension": ".py",
      "version": "3.5.4",
      "pygments_lexer": "ipython3",
      "codemirror_mode": {
        "version": 3,
        "name": "ipython"
      }
    }
  },
  "nbformat": 4,
  "nbformat_minor": 2
}